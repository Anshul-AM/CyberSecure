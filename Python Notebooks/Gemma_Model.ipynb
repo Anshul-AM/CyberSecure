{
 "cells": [
  {
   "cell_type": "markdown",
   "metadata": {
    "id": "YmM2i0uQ1u6x"
   },
   "source": [
    "# LLM Model: Gemma"
   ]
  },
  {
   "cell_type": "code",
   "execution_count": null,
   "metadata": {
    "id": "QDNR5G3xGPS6"
   },
   "outputs": [],
   "source": [
    "!pip install -r /content/drive/MyDrive/NLP_Project/requirements.txt > /dev/null 2>&1"
   ]
  },
  {
   "cell_type": "code",
   "execution_count": null,
   "metadata": {
    "colab": {
     "base_uri": "https://localhost:8080/"
    },
    "id": "3CrgjGsCelDu",
    "outputId": "2fff5aea-b4b5-4021-ad98-db05f487cc17"
   },
   "outputs": [
    {
     "name": "stdout",
     "output_type": "stream",
     "text": [
      "Mounted at /content/drive\n"
     ]
    }
   ],
   "source": [
    "from google.colab import drive\n",
    "drive.mount('/content/drive')"
   ]
  },
  {
   "cell_type": "code",
   "execution_count": null,
   "metadata": {
    "id": "b7oYdDVE9vcI"
   },
   "outputs": [],
   "source": [
    "from huggingface_hub import login"
   ]
  },
  {
   "cell_type": "code",
   "execution_count": null,
   "metadata": {
    "id": "GiYXI1KO9xKf"
   },
   "outputs": [],
   "source": [
    "login(token=\"******************\") # Please use your hugging face token here I removed mine once I finished running the code."
   ]
  },
  {
   "cell_type": "markdown",
   "metadata": {
    "id": "MlTEZ2mP17c-"
   },
   "source": [
    "### Data Loading"
   ]
  },
  {
   "cell_type": "code",
   "execution_count": null,
   "metadata": {
    "id": "MMnTJ0XLRPvC"
   },
   "outputs": [],
   "source": [
    "from langchain_community.document_loaders import PyPDFLoader\n",
    "\n",
    "# Load the first document\n",
    "loader1 = PyPDFLoader(\"/content/drive/MyDrive/NLP_Project/Cybersecurity-Handbook-English-version.pdf\")\n",
    "data1 = loader1.load()\n",
    "\n",
    "loader2 = PyPDFLoader(\"/content/drive/MyDrive/NLP_Project/malware.pdf\")\n",
    "data2 = loader2.load()\n",
    "\n",
    "loader3 = PyPDFLoader(\"/content/drive/MyDrive/NLP_Project/cybersecuirty_sb_factsheets_all.pdf\")\n",
    "data3 = loader3.load()\n",
    "\n",
    "loader4 = PyPDFLoader(\"/content/drive/MyDrive/NLP_Project/cybersecuirty_sb_factsheets_all.pdf\")\n",
    "data4 = loader4.load()\n",
    "\n",
    "# Combine all the data\n",
    "data = data1 + data2 + data3 + data4"
   ]
  },
  {
   "cell_type": "code",
   "execution_count": null,
   "metadata": {
    "colab": {
     "base_uri": "https://localhost:8080/"
    },
    "id": "ZsD8UsdyTIzG",
    "outputId": "2d80c659-9f22-4dfd-a80b-f20e60886dd5"
   },
   "outputs": [
    {
     "data": {
      "text/plain": [
       "146"
      ]
     },
     "execution_count": 6,
     "metadata": {},
     "output_type": "execute_result"
    }
   ],
   "source": [
    "len(data)"
   ]
  },
  {
   "cell_type": "markdown",
   "metadata": {
    "id": "kkOHmOT72LQb"
   },
   "source": [
    "### Cleaning the Data"
   ]
  },
  {
   "cell_type": "code",
   "execution_count": null,
   "metadata": {
    "id": "f4ifXoz5MiHp"
   },
   "outputs": [],
   "source": [
    "import re\n",
    "\n",
    "def clean_and_normalize(text):\n",
    "  return re.sub(r'\\s+', ' ', text).strip()"
   ]
  },
  {
   "cell_type": "code",
   "execution_count": null,
   "metadata": {
    "id": "GxWwmbGkMlII"
   },
   "outputs": [],
   "source": [
    "for doc in data:\n",
    "    doc.page_content = clean_and_normalize(doc.page_content)"
   ]
  },
  {
   "cell_type": "markdown",
   "metadata": {
    "id": "Kcay-CsQ2PZZ"
   },
   "source": [
    "### Text Splitter"
   ]
  },
  {
   "cell_type": "code",
   "execution_count": null,
   "metadata": {
    "colab": {
     "base_uri": "https://localhost:8080/"
    },
    "id": "_R1_B_k_TxXH",
    "outputId": "e27c2c82-a36f-49e3-d33f-cd154a988116"
   },
   "outputs": [
    {
     "name": "stdout",
     "output_type": "stream",
     "text": [
      "Total number of documents:  337\n"
     ]
    }
   ],
   "source": [
    "from langchain.text_splitter import RecursiveCharacterTextSplitter\n",
    "\n",
    "# split data\n",
    "text_splitter = RecursiveCharacterTextSplitter(chunk_size=1000)\n",
    "docs = text_splitter.split_documents(data)\n",
    "\n",
    "\n",
    "print(\"Total number of documents: \",len(docs))"
   ]
  },
  {
   "cell_type": "code",
   "execution_count": null,
   "metadata": {
    "colab": {
     "base_uri": "https://localhost:8080/"
    },
    "id": "Y3ayBE1bT3Jh",
    "outputId": "078ff2ac-d079-4af0-b7e2-77c8b1400945"
   },
   "outputs": [
    {
     "data": {
      "text/plain": [
       "Document(metadata={'source': '/content/drive/MyDrive/NLP_Project/Cybersecurity-Handbook-English-version.pdf', 'page': 39}, page_content='of users and processes to data files, URLs, services and other resources of your application. ► 9.10 Verify that every connection of your web servers (with user browsers, other web service calls, databases, cloud, etc.) is encrypted using the latest version of the TLS protocol (encryption in transit).')"
      ]
     },
     "execution_count": 10,
     "metadata": {},
     "output_type": "execute_result"
    }
   ],
   "source": [
    "docs[86]"
   ]
  },
  {
   "cell_type": "markdown",
   "metadata": {
    "id": "LM6gCWir2UzR"
   },
   "source": [
    "### Embeddings"
   ]
  },
  {
   "cell_type": "code",
   "execution_count": null,
   "metadata": {
    "colab": {
     "base_uri": "https://localhost:8080/",
     "height": 580,
     "referenced_widgets": [
      "0151e5702e294365bce49bcb3a120c82",
      "70831957657f43648952698eec4b72b6",
      "aaa6e691645c4c4ea644d155d6d8d5b9",
      "a8c9357cd0d04268ad1604f21123847a",
      "740181e4132a49b79cbd8f0b63673443",
      "7951c125fe1e4f95977c1682ef1f173a",
      "2cbb8eb778534740993782663e20a5a7",
      "01583a4f46604720ac541ebfa711dd00",
      "a42a697bf81a40aaa015912f64842c87",
      "08d2c0924ff94fd4bf971b414badc910",
      "fe5ea4e2e57e47bdb2b1f6d0e4a34c33",
      "ea3de37de57b4af78bf2e3ea35a327d1",
      "3d3e8177976240069c01e2e4d1082bc0",
      "b15a93ec4e2e401eb58281d68e26a443",
      "8d433e80935845728ad9086e1ef387ff",
      "d607ee1cf1874c90a8911ea2c977a985",
      "3b53a3c4468d47e5b805906afa5b4c05",
      "f300ac81815046a9ba7576defd410e83",
      "0f52a4e1eb6943209288b1893de5cea8",
      "319417bf26a14d27ba2abfcd15afdd40",
      "a8c00ff7d2964cb287cfdf77db65888e",
      "98b3e6a52b524196b0d115d72957fcc8",
      "52ecbb74aca4440b8cfbe020cd16aa05",
      "e3a64668e9cf4e2d8e4a90aef5db65b2",
      "b522924128af4ddfa652136696464475",
      "ab2b42cac71941aba3981f0a47a02b43",
      "3991906a55f4447e830ba9425435e642",
      "e223519b21e34960a226e9526dd6a330",
      "17e638de746142cf8bf2bf214542004e",
      "c602035f7f8242f1a63c1fa096f2ef80",
      "4c3afcb2ea2146b9be90dfb8a2c1057f",
      "9f725854e712494ead84385a1b5a14ca",
      "fc0f1dba884a495d92517a9590c8b6d0",
      "6d38d8981be94181a776a3b4ccedeb16",
      "2706b2c133cd42cfb447a339a993f536",
      "284ff62774a240d9847fccda34a2e5d9",
      "1d221755323a4e14ad2cba5beb23a83c",
      "2b89673d97804762918a370c6ace1d2a",
      "31af1b5ca5c84569a8056fa8df00aa04",
      "cc957472057f4ace808c8fce53696373",
      "d17c61187c6c43b1b4b43138490eb041",
      "b3ec66b9f7394fec9a8237b35114dd3e",
      "33ea41f5bc5b416e9c1ce0673484525d",
      "b91c7c45c48b4f8285eba452725c4ce9",
      "19b32bea1bc8462f9a3ce28a829af3a4",
      "1d9206a5c3f4475497c1df06a299b424",
      "19fb0bbce4db49a198a35fce1cfb7bcf",
      "eeab96aefc914e85a152537df9560769",
      "72f2bf17d0fb4608a5279ab044a2712e",
      "6c564642e7444ecfb2dad8614040b5cd",
      "2ff635a801a9499f961807a17980e595",
      "549de7489eed441593f7c8a4f14a4119",
      "e23e9fc9abb1409c8f0c785a5654d63d",
      "e6d596c6c2914c1ba83002f5567b80d9",
      "7a5c6acd8b164709be353f9ea795a424",
      "d96a3ff6953e4c138e4912383e59c66a",
      "0fe577427fa842efa5101c2b293b042c",
      "bff9404d414e4498a48a1774e9616483",
      "e4c8622bb47b4702bc16d7e705cb2e16",
      "3d1a967e51ae41a18021e28fa7cdea97",
      "1b250d6b79624f1dadbf8e6748d6f779",
      "bf57f72937544ae6821cd32c8010af6d",
      "5080b6755db34750b1b0c0580913548b",
      "336476770b8f4683bd981647186482a1",
      "6e7448c8f84f430e962fcfbfbff55563",
      "cc4e575e7fac405cbb472814524661a5",
      "442e1e7c94cd4b2888bf2037267c67cb",
      "34626dea6ad94cce82fd8cb3eee29a98",
      "c225a925d6334aaa841508e7c72c6ae9",
      "07bd0b4ae3d249a89c6549e0385ddb4a",
      "cea6de119028403a9bc855e6c0327195",
      "d538afd783bd4e08b211a36d6dbf72af",
      "9621cd5d9af4469488476376abbdc741",
      "de7002c5ebaf45a19e4275b532371acb",
      "a86ce6417819403e9cbf1c13d1d86582",
      "bca707b0e08a48baaa9bae467dac74fa",
      "1d33d4e1d33f434283841580f8c1012f",
      "e16da6c535fe46aeb4f82c6d5eed0300",
      "abce7eafe2c9417a97792e129e579353",
      "d4bc83707c7c4dcb8d610a216c148f13",
      "ab52a81e81c043a9ad60c704c64a8f91",
      "a036e24ed177456294b58d7585fd48ca",
      "c0ea26152bf64d20be5e93326b417c88",
      "7e2189abc35542099351657fe8e5b51c",
      "76ede32238994f4a9c91e2c957f3b0f8",
      "a44a9db640a34d958fbb50d8011ccf22",
      "b7056565db04440587e238ae3eed9173",
      "f756a644917d4735b37f84d08c3ac5c5",
      "5505a63c2b7747f2a25668c70c22e3b0",
      "30014dc9319a499db017ee3a56b1315f",
      "71fa7204d1a04199929821f44b6367d1",
      "419fc329c2764c6ca3c7916518bdd5b4",
      "3f66bba5a0cd4885969e20bb281591dc",
      "5978f248011e41d2a9f3ee7b7ec19a49",
      "d7a99681c2bc40739af878ff3673b745",
      "08c2f442dcba404491fbf49ed6aaad05",
      "64b37c4c54ac41bfb86c1418150335de",
      "e662b06ae9894fc389fbb6023509b862",
      "de338c145b71455d8df8ece5ff81a2de",
      "1f15199b973e48e98b8073e3e9a26830",
      "743fdd800ea6445183be6b37ef105173",
      "0d656697d9fe4777824e76a23d8157f3",
      "cf44f58f6f1f4d6a98c4e072f0995be0",
      "f725d08aa0bc40438a7cf8feabc82015",
      "8f7a8e9cfe2f49f295482a780e3eabf7",
      "e0810efc5e904e6ca26b11c3ebc27008",
      "ebd7ab86f3ac456981c9e73226f4e778",
      "0b65614057214264a88a194a776b1293",
      "cf15361ea07e401eb5d4dd81daa4a161",
      "8f696eecc3b44ea08866ea2902535110",
      "9f4014f9c132412cb063163d871441e4",
      "a5570118b51c485c89955d08e9a45fd0",
      "2ecfe58bbd8848eb895560dcf679b25b",
      "0618e09ccc8f44d5bfa1172fbb0c8a36",
      "afe94f3c39df4e03b2686376dfc350f2",
      "4628f04687f34fe182245a07011f624d",
      "0631487d1204477fb30b8626424fe459",
      "781c4a0646d641ef9a39ef7c7937b680",
      "bbf53f9696e344ab805deec16bcfce9f",
      "b4170c12a6d345718acc04d1c7ab7552",
      "228f228841764ec28b6dbafa2344f1ee"
     ]
    },
    "id": "PCuY5jghUdW4",
    "outputId": "deda662e-ef1a-445d-f7da-0639a42b5478"
   },
   "outputs": [
    {
     "name": "stderr",
     "output_type": "stream",
     "text": [
      "/usr/local/lib/python3.10/dist-packages/huggingface_hub/utils/_auth.py:94: UserWarning: \n",
      "The secret `HF_TOKEN` does not exist in your Colab secrets.\n",
      "To authenticate with the Hugging Face Hub, create a token in your settings tab (https://huggingface.co/settings/tokens), set it as secret in your Google Colab and restart your session.\n",
      "You will be able to reuse this secret in all of your notebooks.\n",
      "Please note that authentication is recommended but still optional to access public models or datasets.\n",
      "  warnings.warn(\n"
     ]
    },
    {
     "data": {
      "application/vnd.jupyter.widget-view+json": {
       "model_id": "0151e5702e294365bce49bcb3a120c82",
       "version_major": 2,
       "version_minor": 0
      },
      "text/plain": [
       "modules.json:   0%|          | 0.00/349 [00:00<?, ?B/s]"
      ]
     },
     "metadata": {},
     "output_type": "display_data"
    },
    {
     "data": {
      "application/vnd.jupyter.widget-view+json": {
       "model_id": "ea3de37de57b4af78bf2e3ea35a327d1",
       "version_major": 2,
       "version_minor": 0
      },
      "text/plain": [
       "config_sentence_transformers.json:   0%|          | 0.00/116 [00:00<?, ?B/s]"
      ]
     },
     "metadata": {},
     "output_type": "display_data"
    },
    {
     "data": {
      "application/vnd.jupyter.widget-view+json": {
       "model_id": "52ecbb74aca4440b8cfbe020cd16aa05",
       "version_major": 2,
       "version_minor": 0
      },
      "text/plain": [
       "README.md:   0%|          | 0.00/10.6k [00:00<?, ?B/s]"
      ]
     },
     "metadata": {},
     "output_type": "display_data"
    },
    {
     "data": {
      "application/vnd.jupyter.widget-view+json": {
       "model_id": "6d38d8981be94181a776a3b4ccedeb16",
       "version_major": 2,
       "version_minor": 0
      },
      "text/plain": [
       "sentence_bert_config.json:   0%|          | 0.00/53.0 [00:00<?, ?B/s]"
      ]
     },
     "metadata": {},
     "output_type": "display_data"
    },
    {
     "data": {
      "application/vnd.jupyter.widget-view+json": {
       "model_id": "19b32bea1bc8462f9a3ce28a829af3a4",
       "version_major": 2,
       "version_minor": 0
      },
      "text/plain": [
       "config.json:   0%|          | 0.00/571 [00:00<?, ?B/s]"
      ]
     },
     "metadata": {},
     "output_type": "display_data"
    },
    {
     "data": {
      "application/vnd.jupyter.widget-view+json": {
       "model_id": "d96a3ff6953e4c138e4912383e59c66a",
       "version_major": 2,
       "version_minor": 0
      },
      "text/plain": [
       "model.safetensors:   0%|          | 0.00/438M [00:00<?, ?B/s]"
      ]
     },
     "metadata": {},
     "output_type": "display_data"
    },
    {
     "data": {
      "application/vnd.jupyter.widget-view+json": {
       "model_id": "442e1e7c94cd4b2888bf2037267c67cb",
       "version_major": 2,
       "version_minor": 0
      },
      "text/plain": [
       "tokenizer_config.json:   0%|          | 0.00/363 [00:00<?, ?B/s]"
      ]
     },
     "metadata": {},
     "output_type": "display_data"
    },
    {
     "data": {
      "application/vnd.jupyter.widget-view+json": {
       "model_id": "e16da6c535fe46aeb4f82c6d5eed0300",
       "version_major": 2,
       "version_minor": 0
      },
      "text/plain": [
       "vocab.txt:   0%|          | 0.00/232k [00:00<?, ?B/s]"
      ]
     },
     "metadata": {},
     "output_type": "display_data"
    },
    {
     "data": {
      "application/vnd.jupyter.widget-view+json": {
       "model_id": "5505a63c2b7747f2a25668c70c22e3b0",
       "version_major": 2,
       "version_minor": 0
      },
      "text/plain": [
       "tokenizer.json:   0%|          | 0.00/466k [00:00<?, ?B/s]"
      ]
     },
     "metadata": {},
     "output_type": "display_data"
    },
    {
     "data": {
      "application/vnd.jupyter.widget-view+json": {
       "model_id": "1f15199b973e48e98b8073e3e9a26830",
       "version_major": 2,
       "version_minor": 0
      },
      "text/plain": [
       "special_tokens_map.json:   0%|          | 0.00/239 [00:00<?, ?B/s]"
      ]
     },
     "metadata": {},
     "output_type": "display_data"
    },
    {
     "data": {
      "application/vnd.jupyter.widget-view+json": {
       "model_id": "9f4014f9c132412cb063163d871441e4",
       "version_major": 2,
       "version_minor": 0
      },
      "text/plain": [
       "1_Pooling/config.json:   0%|          | 0.00/190 [00:00<?, ?B/s]"
      ]
     },
     "metadata": {},
     "output_type": "display_data"
    },
    {
     "data": {
      "text/plain": [
       "[0.03492268547415733,\n",
       " 0.0188300758600235,\n",
       " -0.017854738980531693,\n",
       " 0.0001388332893839106,\n",
       " 0.07407363504171371]"
      ]
     },
     "execution_count": 11,
     "metadata": {},
     "output_type": "execute_result"
    }
   ],
   "source": [
    "#from langchain_community.embeddings import HuggingFaceEmbeddings\n",
    "from langchain_huggingface import HuggingFaceEmbeddings\n",
    "embeddings = HuggingFaceEmbeddings()\n",
    "\n",
    "vector = embeddings.embed_query(\"hello, world!\")\n",
    "vector[:5]\n",
    "#vector"
   ]
  },
  {
   "cell_type": "markdown",
   "metadata": {
    "id": "lEW7_n232Z0c"
   },
   "source": [
    "### Chroma DB"
   ]
  },
  {
   "cell_type": "code",
   "execution_count": null,
   "metadata": {
    "id": "NSIlcPfwUv8k"
   },
   "outputs": [],
   "source": [
    "from langchain_chroma import Chroma\n",
    "vectorstore = Chroma.from_documents(documents=docs, embedding=HuggingFaceEmbeddings())"
   ]
  },
  {
   "cell_type": "markdown",
   "metadata": {
    "id": "B861qNmy2eRG"
   },
   "source": [
    "### Retriever"
   ]
  },
  {
   "cell_type": "code",
   "execution_count": null,
   "metadata": {
    "id": "l0G9SZgkVrYH"
   },
   "outputs": [],
   "source": [
    "retriever = vectorstore.as_retriever(search_type=\"similarity\", search_kwargs={\"k\": 3})\n",
    "\n",
    "retrieved_docs = retriever.invoke(\"Email phishing\")"
   ]
  },
  {
   "cell_type": "code",
   "execution_count": null,
   "metadata": {
    "colab": {
     "base_uri": "https://localhost:8080/"
    },
    "id": "IUpJXPTVVu98",
    "outputId": "bdfbfd9e-1a23-4168-a1bc-adb9e135ed81"
   },
   "outputs": [
    {
     "data": {
      "text/plain": [
       "3"
      ]
     },
     "execution_count": 14,
     "metadata": {},
     "output_type": "execute_result"
    }
   ],
   "source": [
    "len(retrieved_docs)"
   ]
  },
  {
   "cell_type": "code",
   "execution_count": null,
   "metadata": {
    "colab": {
     "base_uri": "https://localhost:8080/"
    },
    "id": "qToGJOfoV9IX",
    "outputId": "b2e8ce8f-49c1-4c12-b74e-289e8eeaeaee"
   },
   "outputs": [
    {
     "name": "stdout",
     "output_type": "stream",
     "text": [
      "CYBERSECURITY FOR SMALL BUSINESS WHAT TO DO IF YOUR EMAIL IS SPOOFED Email authentication helps keep your business’s email from being used in phishing schemes because it notifies you if someone spoofs your company’s email. If you get that notification, take these actions: Report it Report the scam to local law enforcement, the FBI’s Internet Crime Complaint Center at IC3.gov, and the FTC at FTC.gov/Complaint. Y ou also can forward phishing emails to spam@uce.gov (an address used by the FTC) and to reportphishing@apwg.org (an address used by the Anti-Phishing Working Group, which includes ISPs, security vendors, financial institutions, and law enforcement agencies). Notify your customers If you find out scammers are impersonating your business, tell your customers as soon as possible — by mail, email, or social media. If you email your customers, send an email without hyperlinks: you don’t want your notification email to look like a phishing scam. Remind customers not to share any\n"
     ]
    }
   ],
   "source": [
    "print(retrieved_docs[1].page_content)"
   ]
  },
  {
   "cell_type": "markdown",
   "metadata": {
    "id": "qiC7xoVB2fjj"
   },
   "source": [
    "### LangChain pipeline using a HuggingFace LLM"
   ]
  },
  {
   "cell_type": "code",
   "execution_count": null,
   "metadata": {
    "colab": {
     "base_uri": "https://localhost:8080/",
     "height": 369,
     "referenced_widgets": [
      "8699612506ea4405905904fbe189d3f5",
      "5ff4aa7049bb48f8ad3295a7f33e066f",
      "bf55f5cb96344d1fbd8e658ffa296840",
      "cff51d44565441fc975758f74ac265f1",
      "d57e176e7f3040c49a515305f3bea192",
      "4c1ebec0712b491289e8a7ab9cf600b4",
      "6e9de9c64b6d4121bb6f0891eb85839a",
      "569a95cada1742e2bdaef5ee0cd890c6",
      "16bd91bd253f4740a5ecfc3551af24fd",
      "455cceaa5d7d4a81b97e90b19253f841",
      "d8f909c7a49844b38c31b4394c75a58b",
      "16a65bc4156942fd96a568c0fabdee43",
      "43d3b47f9e5842a58658e554b49e9eeb",
      "9267135fcb884d6f8204e2438b6dcf13",
      "99102c61737f4c3d966e157bdfe050d2",
      "26530c44989d45f3872a11ed3956202a",
      "972c372ccec74831ae0edf00cb09fa2f",
      "338fcba35ddb43e48b94c9aef698cce9",
      "0ed41c979b134323a721099279263b6d",
      "606dfdab2adb4bc7955a7a1aa3704665",
      "3a9dd067316940a386e4e78093f31937",
      "76745595ce6d4a55ba72f9ee67f717c8",
      "518f735258bd47ac81c64e231e908bb9",
      "e73c6229c3a347bfbd8c56170e02f9ad",
      "206696f383aa4f7181e534515918349c",
      "8ecc92fa85ce4d1aa1c6531902b0250d",
      "a1005d37aedc4bc89635dd00f19179e3",
      "3c1c0e32db79480ca0427ff625bb8603",
      "9611b010aa0845969263c02eb7581a65",
      "3b78e9e1a68f4c1e89236f9272988972",
      "5119c5964f7e40ec811292a2a42708db",
      "9aad8ab696d542f4b72871c37440a278",
      "cf70a761b58f47dfa8915fd5ac42da83",
      "577e48fe959b4672a5868473a2bead6d",
      "69de82814ed34cd39b5acd1d7700e290",
      "44d7f1b5bf504cd3a0d6b927e724d9f4",
      "088fd016d4e94d91a20caf4e3c55551f",
      "8ad9af74197e442fb549a29ca11677a2",
      "84830ad4be6f4381ab352b5f6619b046",
      "d481271707cf409cab0b375fbd714e7e",
      "4b74669799a04eacbe4e8c4b86b6909c",
      "71bcae4fcef64c92b0868845b419e38e",
      "3f67ec52f80f4b2c8673431a35846efb",
      "f60f1ada85e348b6bf948c444f362bb5",
      "d745cbb4a2d54241b5bfb306dff5c3af",
      "d38998087f6d4f5793602895c820814c",
      "76cc797948224e879210deb4027fbbae",
      "12fe61437bb040e8a9119274071c4a0f",
      "6615f32c76c742e4b53e170e1c5d98ba",
      "76c16b00284c411494ed48ca4545bb28",
      "7683b463c45e4ef3a89438b0dc1576c3",
      "6e5c36aa04174a76a336f98f89ce483c",
      "79dbbdae18e64bdda86f775ae22b6a61",
      "725fb346e7344746a5cec79677453ed5",
      "3387dd7c45c04a5e882478b96ca9148c",
      "8c1f5368d1e246d88cd2d713307f8f6b",
      "e40995caca784143ab7007146f7db006",
      "8437fcddea8d43ef8997d7f38ff44b8d",
      "a7eafc891b734e138277d07a7bd6e0ed",
      "378a0fc936104803b733329f6ea25fd1",
      "448ff51d95ae411eab047bceca2e3d78",
      "caea1e099b8d4e5cba4ce1e107a1d6f8",
      "d14214b64d984fc88fadc12d893b6e6f",
      "a8b2c6c9196d4afaa399466b9cdf98bf",
      "5c4962259f2e49769a1bb5166b4d29d1",
      "de1253e4d69d420786e3e94f41b10ad3",
      "ee760ec09f3a46aca01568634971856f",
      "35d58f56d6104ddfb90929db7e222a6c",
      "2c123d5e28c04ef7ba3c7c8b6d074f36",
      "cc6c1c6d5db14616ab09301badabbf01",
      "62f873548da64c5aa3106ea68c450646",
      "2856b228a4844318818e5d99fe5badfd",
      "73d23e495384463db719ea41b25eb088",
      "3279c1703a22475eaf77fe8278b11f38",
      "787818b4ca89429eae1ac852f554bc10",
      "9ba7e7ad8e7a4ec282a3a8bc93dcdfdd",
      "7ea85510849345faac82ba59333245c7",
      "cdf2f188545e4270b005ecfb26b8ad49",
      "34982f4d2ae2437b8d752676f6714019",
      "29bb84de63d54be2bea8611461bcf42f",
      "64734983db14450f90f5a7c5e1eacc5d",
      "5571e02893c44a55a5c8b5cf52dc8208",
      "feb95b183189455483fa000fea94d946",
      "c25029682a2e4fe7bc209fcc9c73bd89",
      "d6d190398c0f44cd93489c676254c8c1",
      "417df4ecfe8f4c68b0f0b0c2bf2df039",
      "8c583b1f6c874c77b39a883e22a9f4e3",
      "98b7de22573f4448842e3edf5e92aa26",
      "8598b08b34fb4996a436a0c0433a7882",
      "75568578797d4e449cbe950931d90b13",
      "d489a6a225d04b06b06491d6e803dc67",
      "846d78a0bd6f4f96b814048f973e03db",
      "bbc70c15b2a54917a79749d5f7a51751",
      "20e92089c3374484bd58016cad267e06",
      "240a1903d8d540dca68cc6837d6a0a41",
      "12f544a550014fbea2bc0b20a88732a5",
      "88ef5f47367c4d808a5dc70258e2f3bd",
      "3407709cf93c45daade5b7a658c6f650",
      "87adfb8b08be4a70b37bd1cc76cbfa10",
      "2a0b9acdd7714f3ca05132cba52d054f",
      "798075a7aee14d3b8879f000d2f24b48",
      "878fc75917eb4ee3b2fa920815cf285e",
      "4225096efb39454e88aa4ad65fbe5e9c",
      "8b611e75810746bf9b64bd7fd1cc36de",
      "4654c02fe81646b09769e923312fb530",
      "8925635065ce41d5ae0e1b667e18fb04",
      "4f6687ba9d5149d187a0dbf3fd308ad2",
      "ab4097a667014bccad25ec84bbdeba8a",
      "cac524b91a8b4b54b33ee30a629145de",
      "6cc6fa68aec844f8ad7552c7455b4986",
      "50a19796d68c49a7a2ab9551b7c9f31b",
      "518fa2eaab46401bb208dae2e4f4c528",
      "217e93d672ba49d5a5f2d65d16544286",
      "a4bdd9463c4c48bc8efc58f9776b1f39",
      "5551e75e3498441cbe15215917e774a9",
      "0152ac8e8add45fcb742174c8776f6ec",
      "deee038f3259447f86529e03f8c1f513",
      "20c538f7899842369d1c379ca04b827a",
      "471760eed2644e24a4d86f0b723e80c0",
      "894f230b115d4e208e4743d0ab4603a0",
      "dcda7f718d27444a8625d3e5685a7dfc"
     ]
    },
    "id": "ljAoc5YXWGGm",
    "outputId": "29954cb1-a400-4288-bff6-d255c3a10753"
   },
   "outputs": [
    {
     "data": {
      "application/vnd.jupyter.widget-view+json": {
       "model_id": "8699612506ea4405905904fbe189d3f5",
       "version_major": 2,
       "version_minor": 0
      },
      "text/plain": [
       "config.json:   0%|          | 0.00/838 [00:00<?, ?B/s]"
      ]
     },
     "metadata": {},
     "output_type": "display_data"
    },
    {
     "data": {
      "application/vnd.jupyter.widget-view+json": {
       "model_id": "16a65bc4156942fd96a568c0fabdee43",
       "version_major": 2,
       "version_minor": 0
      },
      "text/plain": [
       "model.safetensors.index.json:   0%|          | 0.00/24.2k [00:00<?, ?B/s]"
      ]
     },
     "metadata": {},
     "output_type": "display_data"
    },
    {
     "data": {
      "application/vnd.jupyter.widget-view+json": {
       "model_id": "518f735258bd47ac81c64e231e908bb9",
       "version_major": 2,
       "version_minor": 0
      },
      "text/plain": [
       "Downloading shards:   0%|          | 0/2 [00:00<?, ?it/s]"
      ]
     },
     "metadata": {},
     "output_type": "display_data"
    },
    {
     "data": {
      "application/vnd.jupyter.widget-view+json": {
       "model_id": "577e48fe959b4672a5868473a2bead6d",
       "version_major": 2,
       "version_minor": 0
      },
      "text/plain": [
       "model-00001-of-00002.safetensors:   0%|          | 0.00/4.99G [00:00<?, ?B/s]"
      ]
     },
     "metadata": {},
     "output_type": "display_data"
    },
    {
     "data": {
      "application/vnd.jupyter.widget-view+json": {
       "model_id": "d745cbb4a2d54241b5bfb306dff5c3af",
       "version_major": 2,
       "version_minor": 0
      },
      "text/plain": [
       "model-00002-of-00002.safetensors:   0%|          | 0.00/241M [00:00<?, ?B/s]"
      ]
     },
     "metadata": {},
     "output_type": "display_data"
    },
    {
     "data": {
      "application/vnd.jupyter.widget-view+json": {
       "model_id": "8c1f5368d1e246d88cd2d713307f8f6b",
       "version_major": 2,
       "version_minor": 0
      },
      "text/plain": [
       "Loading checkpoint shards:   0%|          | 0/2 [00:00<?, ?it/s]"
      ]
     },
     "metadata": {},
     "output_type": "display_data"
    },
    {
     "data": {
      "application/vnd.jupyter.widget-view+json": {
       "model_id": "ee760ec09f3a46aca01568634971856f",
       "version_major": 2,
       "version_minor": 0
      },
      "text/plain": [
       "generation_config.json:   0%|          | 0.00/187 [00:00<?, ?B/s]"
      ]
     },
     "metadata": {},
     "output_type": "display_data"
    },
    {
     "data": {
      "application/vnd.jupyter.widget-view+json": {
       "model_id": "cdf2f188545e4270b005ecfb26b8ad49",
       "version_major": 2,
       "version_minor": 0
      },
      "text/plain": [
       "tokenizer_config.json:   0%|          | 0.00/47.0k [00:00<?, ?B/s]"
      ]
     },
     "metadata": {},
     "output_type": "display_data"
    },
    {
     "data": {
      "application/vnd.jupyter.widget-view+json": {
       "model_id": "8598b08b34fb4996a436a0c0433a7882",
       "version_major": 2,
       "version_minor": 0
      },
      "text/plain": [
       "tokenizer.model:   0%|          | 0.00/4.24M [00:00<?, ?B/s]"
      ]
     },
     "metadata": {},
     "output_type": "display_data"
    },
    {
     "data": {
      "application/vnd.jupyter.widget-view+json": {
       "model_id": "2a0b9acdd7714f3ca05132cba52d054f",
       "version_major": 2,
       "version_minor": 0
      },
      "text/plain": [
       "tokenizer.json:   0%|          | 0.00/17.5M [00:00<?, ?B/s]"
      ]
     },
     "metadata": {},
     "output_type": "display_data"
    },
    {
     "data": {
      "application/vnd.jupyter.widget-view+json": {
       "model_id": "50a19796d68c49a7a2ab9551b7c9f31b",
       "version_major": 2,
       "version_minor": 0
      },
      "text/plain": [
       "special_tokens_map.json:   0%|          | 0.00/636 [00:00<?, ?B/s]"
      ]
     },
     "metadata": {},
     "output_type": "display_data"
    }
   ],
   "source": [
    "from langchain_huggingface import HuggingFacePipeline\n",
    "from langchain.prompts import PromptTemplate\n",
    "from transformers import pipeline\n",
    "from langchain_core.output_parsers import StrOutputParser\n",
    "import torch\n",
    "\n",
    "# Initialize the model\n",
    "model_id = \"google/gemma-2-2b-it\"\n",
    "\n",
    "# Create the text generation pipeline\n",
    "text_generation_pipeline = pipeline(\n",
    "    \"text-generation\",\n",
    "    model=model_id,\n",
    "    model_kwargs={\"torch_dtype\": torch.bfloat16},\n",
    "    max_new_tokens=400,\n",
    "    device=0  # Use GPU if available, otherwise set to -1 for CPU\n",
    ")\n",
    "\n",
    "# Create the LangChain HuggingFacePipeline\n",
    "llm = HuggingFacePipeline(pipeline=text_generation_pipeline)\n",
    "\n",
    "# Define the prompt template\n",
    "prompt_template = \"\"\"\n",
    "<|system|>\n",
    "You are an assistant for question-answering tasks. Use the following pieces of retrieved context to answer the question. If you don't know the answer, say that you don't know. Do not provide links in responses and make responses structured\n",
    "\n",
    "{context}\n",
    "\n",
    "</s>\n",
    "<|user|>\n",
    "{question}\n",
    "</s>\n",
    "<|assistant|>\n",
    "\"\"\"\n",
    "\n",
    "# Create the PromptTemplate\n",
    "prompt = PromptTemplate(\n",
    "    input_variables=[\"context\", \"question\"],\n",
    "    template=prompt_template,\n",
    ")\n",
    "\n",
    "# Create the LangChain\n",
    "llm_chain = prompt | llm | StrOutputParser()"
   ]
  },
  {
   "cell_type": "code",
   "execution_count": null,
   "metadata": {
    "id": "_FJih7R1X2yl"
   },
   "outputs": [],
   "source": [
    "from langchain_core.runnables import RunnablePassthrough\n",
    "\n",
    "rag_chain = {\"context\": retriever, \"question\": RunnablePassthrough()} | llm_chain"
   ]
  },
  {
   "cell_type": "markdown",
   "metadata": {
    "id": "YKrOnuMJ2nPD"
   },
   "source": [
    "### Evaluating RAG Model Responses on Accuracy, Groundedness, and Speed\n"
   ]
  },
  {
   "cell_type": "code",
   "execution_count": null,
   "metadata": {
    "colab": {
     "base_uri": "https://localhost:8080/"
    },
    "id": "ebajKl8PpfEA",
    "outputId": "9f81b1cb-0abb-41a9-af5c-26ad64b1996d"
   },
   "outputs": [
    {
     "name": "stdout",
     "output_type": "stream",
     "text": [
      "Welcome to the Question-Answer Evaluation Session!\n",
      "Please ask a question, and rate the response based on accuracy. Type 'end' to finish.\n",
      "\n",
      "Ask a question (or type 'end' to finish): What is phishing, and how does it work?\n",
      "\n",
      "Response: \n",
      "<|system|>\n",
      "You are an assistant for question-answering tasks. Use the following pieces of retrieved context to answer the question. If you don't know the answer, say that you don't know. Do not provide links in responses and make responses structured\n",
      "\n",
      "[Document(metadata={'page': 8, 'source': '/content/drive/MyDrive/NLP_Project/cybersecuirty_sb_factsheets_all.pdf'}, page_content='CYBERSECURITY FOR SMALL BUSINESS PHISHING LEARN MORE AT: FTC.gov/SmallBusiness You get an email that looks like it’s from someone you know. It seems to be from one of your company’s vendors and asks that you click on a link to update your business account. Should you click? Maybe it looks like it’s from your boss and asks for your network password. Should you reply? In either case, probably not. These may be phishing attempts. HOW WHAT YOU CAN DOPHISHING WORKS You get an email or text It seems to be from someone you know, and it asks you to click a link, or give your password, business bank account, or other sensitive information. Before you click on a link or share any of your sensitive business information: It looks real It’s easy to spoof logos and make up fake email addresses. Scammers use familiar company names or pretend to be someone you know. Check it out Look up the website or phone number for the company or person behind the text or email. Make sure that you’re getting the'), Document(metadata={'page': 8, 'source': '/content/drive/MyDrive/NLP_Project/cybersecuirty_sb_factsheets_all.pdf'}, page_content='CYBERSECURITY FOR SMALL BUSINESS PHISHING LEARN MORE AT: FTC.gov/SmallBusiness You get an email that looks like it’s from someone you know. It seems to be from one of your company’s vendors and asks that you click on a link to update your business account. Should you click? Maybe it looks like it’s from your boss and asks for your network password. Should you reply? In either case, probably not. These may be phishing attempts. HOW WHAT YOU CAN DOPHISHING WORKS You get an email or text It seems to be from someone you know, and it asks you to click a link, or give your password, business bank account, or other sensitive information. Before you click on a link or share any of your sensitive business information: It looks real It’s easy to spoof logos and make up fake email addresses. Scammers use familiar company names or pretend to be someone you know. Check it out Look up the website or phone number for the company or person behind the text or email. Make sure that you’re getting the'), Document(metadata={'page': 51, 'source': '/content/drive/MyDrive/NLP_Project/Cybersecurity-Handbook-English-version.pdf'}, page_content=\"52 CYBERSECURITY HANDBOOK ► 12.3 Periodically conduct a cybersecurity awareness training program addressed to distinct roles and targeting different employee categories based on business activities and the level of technical expertise. ► 12.4 Perform a knowledge gap analysis of your employees to develop a plan of sequential trainings. ► 12.5 Periodically conduct exercises that simulate cyber security incidents and their impact. Examples include opening a malicious email attachment or visiting a malicious website. Figure 10 below shows specific signs for detecting a phishing email. For further study, there are several resources on the Internet with useful information on ways to protect against social engineering attacks.21 (1) The sender's email address does not match his signature, and the email domain looks at least suspicious. (2) The subject of the email looks questionable or unwanted. (3) The salutation is not addressed personally to the recipient with his name and surname but it\")]\n",
      "\n",
      "</s>\n",
      "<|user|>\n",
      "What is phishing, and how does it work?\n",
      "</s>\n",
      "<|assistant|>\n",
      "Phishing is a type of cyber attack where scammers try to trick people into giving up their sensitive information, like passwords, bank account details, or credit card numbers. \n",
      "\n",
      "Here's how it works:\n",
      "\n",
      "* **Spoofed Emails:** Scammers create emails that look legitimate, often mimicking the sender's name, logo, or website. \n",
      "* **Social Engineering:** They use tactics like impersonation or urgency to make you click on a link or open an attachment.\n",
      "* **Sensitive Information:** The link or attachment might lead to a fake website designed to steal your information. \n",
      "\n",
      "It's important to be cautious about emails that seem suspicious, even if they appear to come from someone you know. \n",
      "\n",
      "\n",
      "Cosine Similarity (Groundedness): 0.7742\n",
      "\n",
      "Speed: 12.0579 seconds\n",
      "\n",
      "Please rate the accuracy of the response (1 to 5): 3\n",
      "\n",
      "--------------------------------------------------\n",
      "\n",
      "Ask a question (or type 'end' to finish): What are some common tactics used in SMS phishing (smishing)?\n",
      "\n",
      "Response: \n",
      "<|system|>\n",
      "You are an assistant for question-answering tasks. Use the following pieces of retrieved context to answer the question. If you don't know the answer, say that you don't know. Do not provide links in responses and make responses structured\n",
      "\n",
      "[Document(metadata={'page': 35, 'source': '/content/drive/MyDrive/NLP_Project/Cybersecurity-Handbook-English-version.pdf'}, page_content='via phishing emails. Figure 7 Example of malware infection and propagation Source: https://www.spambrella.com/what-is-emotet-malware-and-how-is-it-delivered/ 12 See https://www.europol.europa.eu/ newsroom/news/world%E2%80%99s-most- dangerous-malware-emotet-disrupted- through-global-action'), Document(metadata={'page': 70, 'source': '/content/drive/MyDrive/NLP_Project/Cybersecurity-Handbook-English-version.pdf'}, page_content='security-part-3 19. https://www.csoonline.com/article/3391588/why-unauthenticated- sms-is-a-security-risk.html 20. https://www.cloudwards.net/best-2fa-apps/ 21. https://www.europol.europa.eu/newsroom/news/world%E2%80%99s -most-dangerous-malware-emotet-disrupted-through-global-action 22. https://www.softwaretestinghelp.com/network-scanning-tools/'), Document(metadata={'page': 27, 'source': '/content/drive/MyDrive/NLP_Project/Cybersecurity-Handbook-English-version.pdf'}, page_content=\"28 CYBERSECURITY HANDBOOK The use of two-factor authentication undoubtedly improves security, as it adds an additional parameter, along with the password, to verify a user's identity. However, sending text via SMS is now considered more vulnerable to various types of attacks, most notably the SIM swapping technique. It is far more secure to use a mobile application that creates one-time passwords on the user's device, i.e., without the password being transmitted over an insecure network. Well-known examples of such applications are Google Authenticator, LastPass, Authy etc.11 11 https://www.cloudwards.net/best-2fa-apps/ Figure 5 Implementation of 2-factor authentication by using a mobile application instead of SMS Source: https://medium.com/\")]\n",
      "\n",
      "</s>\n",
      "<|user|>\n",
      "What are some common tactics used in SMS phishing (smishing)?\n",
      "</s>\n",
      "<|assistant|>\n",
      "Here are some common tactics used in SMS phishing (smishing):\n",
      "\n",
      "* **SIM swapping:** This technique involves attackers gaining control of a victim's phone number by manipulating their mobile network provider. \n",
      "* **SMS spoofing:** Attackers can send messages that appear to be from a legitimate source, such as a bank or a government agency. \n",
      "* **Malicious links:**  Smishing messages often contain links to fake websites designed to steal personal information. \n",
      "\n",
      "\n",
      "\n",
      "\n",
      "Cosine Similarity (Groundedness): 0.4865\n",
      "\n",
      "Speed: 6.7276 seconds\n",
      "\n",
      "Please rate the accuracy of the response (1 to 5): 5\n",
      "\n",
      "--------------------------------------------------\n",
      "\n",
      "Ask a question (or type 'end' to finish): What is the difference between a virus, a worm, and a Trojan horse?\n",
      "\n",
      "Response: \n",
      "<|system|>\n",
      "You are an assistant for question-answering tasks. Use the following pieces of retrieved context to answer the question. If you don't know the answer, say that you don't know. Do not provide links in responses and make responses structured\n",
      "\n",
      "[Document(metadata={'page': 2, 'source': '/content/drive/MyDrive/NLP_Project/malware.pdf'}, page_content='The traditional classiﬁcation was introduced by Peter Denning in the late 1980s [4, 5]. We will use the following deﬁnitions: Virus: Malware which spreads from one computer to another by embedding copies of itself into ﬁles, which by some means or another are transported to the target. The medium of transport is often known as the vector of the virus. The transport may be initiated by the virus itself (for example, it may send the infected ﬁle as an e-mail attachment) or rely on an unsuspecting human user (who for example transports a CD-ROM containing the infected ﬁle). Worm: Malware which spreads from one computer to another by transmitting copies of itself via a network which connects the computers, without the use of infected ﬁles. Tro jan horse:Malware which is embedded in a piece of software which has an apparently useful eﬀect. The useful eﬀect is often known as the overt eﬀect, as it is made apparent to the receiver, while the eﬀect of the malware, known as thecovert eﬀect, is'), Document(metadata={'page': 2, 'source': '/content/drive/MyDrive/NLP_Project/malware.pdf'}, page_content='slightly diﬀerent, deﬁnitions in the literature, as the borderlines be- tween the classes are a bit fuzzy, and the classes are obviously not exclusive. For example, a virus can contain logic bomb functionality, if its malicious eﬀect is not triggered until a certain date or time (such as midnight on Friday 13th) is reached. Or a trojan horse may contain backdoor functionality, and so on. 3V i r a A virus (plural: vira) typically consists of two parts, each responsible for one of the char- acteristic actions which the virus will perform: Insertion code: Code to insert a copy of the virus into one or more ﬁles on the target. We shall call these the victim ﬁles. Payload: Code to perform the malicious activity associated with the virus. All vira contain insertion code, but the payload is optional, since the virus may have been constructed just to reproduce itself without doing anything more damaging than that. On the other hand, the payload may produce serious damage, such as deleting all'), Document(metadata={'page': 2, 'source': '/content/drive/MyDrive/NLP_Project/malware.pdf'}, page_content='software which has an apparently useful eﬀect. The useful eﬀect is often known as the overt eﬀect, as it is made apparent to the receiver, while the eﬀect of the malware, known as thecovert eﬀect, is kept hidden from the receiver. Logic bomb: Malware which is triggered by some external event, such as the arrival of a speciﬁc date or time, or the creation or deletion of a speciﬁc data item such as a ﬁle or a database entry. Rabbit: (aka. Bacterium) Malware which uses up all of a particular class of resource, such as message buﬀers, ﬁle space or process control blocks, on a computer system. Backdoor: Malware which, once it reaches the target, allows the initiator to gain access to the target without going through any of the normal login and authentication procedures. You may ﬁnd other, slightly diﬀerent, deﬁnitions in the literature, as the borderlines be- tween the classes are a bit fuzzy, and the classes are obviously not exclusive. For example, a virus can contain logic bomb')]\n",
      "\n",
      "</s>\n",
      "<|user|>\n",
      "What is the difference between a virus, a worm, and a Trojan horse?\n",
      "</s>\n",
      "<|assistant|>\n",
      "Here's a breakdown of the differences between viruses, worms, and Trojan horses:\n",
      "\n",
      "* **Virus:** A virus spreads by embedding copies of itself into files on a target computer. It can spread through email attachments, infected files, or even by exploiting vulnerabilities in software. \n",
      "* **Worm:** A worm spreads by transmitting copies of itself across a network without needing to infect files. It relies on the network to replicate and spread.\n",
      "* **Trojan Horse:** A Trojan horse is disguised as a legitimate program or file, but it contains malicious code that performs harmful actions. The Trojan horse's \"useful\" effect is often a front for its covert, damaging activity. \n",
      "\n",
      "\n",
      "Let me know if you have any other questions. \n",
      "\n",
      "\n",
      "Cosine Similarity (Groundedness): 0.8136\n",
      "\n",
      "Speed: 11.7106 seconds\n",
      "\n",
      "Please rate the accuracy of the response (1 to 5): 4\n",
      "\n",
      "--------------------------------------------------\n",
      "\n",
      "Ask a question (or type 'end' to finish): How can I detect if my computer is infected with malware?\n",
      "\n",
      "Response: \n",
      "<|system|>\n",
      "You are an assistant for question-answering tasks. Use the following pieces of retrieved context to answer the question. If you don't know the answer, say that you don't know. Do not provide links in responses and make responses structured\n",
      "\n",
      "[Document(metadata={'page': 17, 'source': '/content/drive/MyDrive/NLP_Project/malware.pdf'}, page_content='On an computer with an Athlon 1GHz CPU and 1GB of RAM, analysis of all variants of the Hare virus to build up the CFGs and to annotate them to indicate “empty code” took 10 seconds of CPU time. To build up the annotated CFG for a fairly large non-malicious executable (QuickTimePlayer.exe, size approx. 1MB) took about 800 seconds of CPU time. However, the method was extremely eﬀective at recognising viral code, even when it appeared in quite obscure variants. False positive and false negative rates of 0% were reported for the examples tested. It must be expected that improvements in the technique will make it suitable for practical use in real-time detection of viral code. 6.3 Behavioural Methods of Detection All the methods which we have discussed up to now rely on handling the code of the possible malware. A completely diﬀerent approach is represented by methods which do not look at the code, but which monitor in real time the behaviour caused by the pieces of software running in the'), Document(metadata={'page': 18, 'source': '/content/drive/MyDrive/NLP_Project/malware.pdf'}, page_content='might typically be considered interesting to monitor include: • Attempts to format disc drives or perform other irreversible disc operations. • Attempts to open or delete ﬁles. • Attempts to modify executable ﬁles, scripts or macros. • Attempts to modify conﬁguration ﬁles and the contents of the registry or similar (for example to change the list of programs to be started automatically on startup). • Attempts to modify the conﬁguration of e-mail clients or IM clients, so they send executable material. • Attempts to open network connections. Even if the individual events are not especia lly suspicious, combinations of them may well be, and so behavioural detection systems build up signatures describing characteristic sequences of such events. Depending on whether the malware detection system uses the anomaly detection or misuse detection approach, these sequences may be found from: • Statistical observations, deﬁning what is “normal behaviour” in a statistical sense; • Models'), Document(metadata={'page': 1, 'source': '/content/drive/MyDrive/NLP_Project/malware.pdf'}, page_content='An Introduction to Malware Robin Sharp Spring 2007 Abstract These notes, intended for use in DTU course 02233 on Network Security, give a short introduction to the topic of malware. The most important types of malware are described, together with their basic principles of operation and dissemination, and defenses against malware are discussed. 1 Some Deﬁnitions Malware is a general term for all types of malicious software, which in the context of computer security means: Software which is used with the aim of attempting to breach a computer system’s security policy with respect to Conﬁdentiality, Integrity or Availability. The term software should here be understood in the broadest sense, as the malicious eﬀect may make use of executable code, interpreted code, scripts, macros etc. The computer system whose security policy is attempted breached is usually known as the target for the malware. We shall use the term the initiator of the malware to denote the subject who originally')]\n",
      "\n",
      "</s>\n",
      "<|user|>\n",
      "How can I detect if my computer is infected with malware?\n",
      "</s>\n",
      "<|assistant|>\n",
      "Here are some ways to detect if your computer is infected with malware:\n",
      "\n",
      "* **Monitor for unusual behavior:** Look for any changes in your computer's performance, such as slowdowns, crashes, or unexpected pop-ups.\n",
      "* **Check for suspicious files:** Look for any files that you don't recognize or that have unusual names or extensions.\n",
      "* **Run a full system scan:** Use a reputable antivirus program to scan your computer for malware. \n",
      "* **Be wary of suspicious links and attachments:** Avoid clicking on links or opening attachments from unknown sources. \n",
      "* **Keep your software up to date:** Make sure your operating system and antivirus software are up to date. \n",
      "* **Use a strong password:** Use a strong password for your computer and your accounts. \n",
      "* **Be cautious about what you download:** Only download software from trusted sources. \n",
      "* **Use a firewall:** A firewall can help to protect your computer from malware. \n",
      "* **Be aware of phishing scams:** Phishing scams are a common way for malware to spread. \n",
      "* **Use a reputable antivirus program:** A reputable antivirus program can help to detect and remove malware. \n",
      "\n",
      "\n",
      "Cosine Similarity (Groundedness): 0.6803\n",
      "\n",
      "Speed: 16.6491 seconds\n",
      "\n",
      "Please rate the accuracy of the response (1 to 5): 5\n",
      "\n",
      "--------------------------------------------------\n",
      "\n",
      "Ask a question (or type 'end' to finish): What are botnets, and how do they operate in cyberattacks?\n",
      "\n",
      "Response: \n",
      "<|system|>\n",
      "You are an assistant for question-answering tasks. Use the following pieces of retrieved context to answer the question. If you don't know the answer, say that you don't know. Do not provide links in responses and make responses structured\n",
      "\n",
      "[Document(metadata={'page': 12, 'source': '/content/drive/MyDrive/NLP_Project/malware.pdf'}, page_content='control a large number of computers, which is done by installing abackdoor in each of them. The individual computers in the botnet then technically speaking become zombies since they are under remote control, but ar e in this context usually referred to simply as bots. The bots can be given orders by a controller, often known as the botmas- ter, to perform various tasks, such as sending spam mail, adware, or spyware, performing DDoS attacks or just searching for further potential targets to be enrolled in the botnet. In many cases, the botmaster oﬀers such facilities as a service to anyone who is willing to pay for it. Botnets with large numbers of bots can obtain higher prices than smaller botnets. There have been press reports of some very large botnets, such as one with 1.5 million bots controlled from Holland, and one with 10 000 bots in Norway; both of these were closed by the police. A good technical review of botnets and their method of operation can be found in reference [2].'), Document(metadata={'page': 12, 'source': '/content/drive/MyDrive/NLP_Project/malware.pdf'}, page_content='into a server thread via a buﬀer overﬂow event caused by the HTTP command shown here. Either of the transmission and activation steps may of course be unsuccessful. For example, with an e-mail worm, the e-mail containing the worm may be refused by the destination mail server (failure of the sending step), or the user may refuse to activate the attachment which will execute the worm code (failure of the execution step). Similarly, the CodeRed worm may successfully reach a Web server which does not have the vulnerability on which it depends for being executed on the target. And so on. 5B o t n e t s Botnets illustrate the specialised use of a worm or Trojan horse to set up a private com- munication infrastructure which can be used for malicious purposes. The aim of the actual botnet is to control a large number of computers, which is done by installing abackdoor in each of them. The individual computers in the botnet then technically speaking become zombies since they are under remote'), Document(metadata={'page': 13, 'source': '/content/drive/MyDrive/NLP_Project/malware.pdf'}, page_content='Regardless of how the bot code is spread, thecomputers which it reaches almost always have to sign up with a master server, after which they can be given orders. This means that the activities associated with a botnet typically fall into four phases: 1. Searching: Search to ﬁnd target hosts which look suitable for attack, typically be- cause they appear to have a known vulnerability or easily obtainable e-mail addresses which can be attacked by an e-mail worm or Trojan horse. 2. Installation: The backdoor code is propagated to the targets, where an attempt is made to install the code or persuade the user to do so, so that the targets become bots. 3. Sign-on: The bots connect to the master server and become ready to receive Com- mand and Control (C&C) traﬃc. 4. C&C: The bots receive commands from the master server and generate traﬃc di- rected towards further targets. This is illustrated in Figure 8. Each of these pha ses generates characteristic patterns of Bot Master server Proxy')]\n",
      "\n",
      "</s>\n",
      "<|user|>\n",
      "What are botnets, and how do they operate in cyberattacks?\n",
      "</s>\n",
      "<|assistant|>\n",
      "Botnets are networks of compromised computers that are controlled by a single entity, often referred to as a botmaster. \n",
      "\n",
      "Here's how they operate in cyberattacks:\n",
      "\n",
      "1. **Searching:** Botnets search for suitable targets, often those with known vulnerabilities or easily accessible email addresses.\n",
      "2. **Installation:** The botmaster installs a backdoor on the target computers, turning them into \"bots.\"\n",
      "3. **Sign-on:** The bots connect to the botmaster's server to receive commands and become part of the botnet.\n",
      "4. **C&C:** The botnet then carries out malicious activities, such as sending spam, performing DDoS attacks, or searching for new targets.\n",
      "\n",
      "Essentially, botnets act as a distributed network of compromised machines, allowing the botmaster to control a large number of computers for malicious purposes. \n",
      "\n",
      "\n",
      "Cosine Similarity (Groundedness): 0.7549\n",
      "\n",
      "Speed: 13.0049 seconds\n",
      "\n",
      "Please rate the accuracy of the response (1 to 5): 3\n",
      "\n",
      "--------------------------------------------------\n",
      "\n",
      "Ask a question (or type 'end' to finish): What is fileless malware, and why is it harder to detect?\n",
      "\n",
      "Response: \n",
      "<|system|>\n",
      "You are an assistant for question-answering tasks. Use the following pieces of retrieved context to answer the question. If you don't know the answer, say that you don't know. Do not provide links in responses and make responses structured\n",
      "\n",
      "[Document(metadata={'page': 19, 'source': '/content/drive/MyDrive/NLP_Project/Cybersecurity-Handbook-English-version.pdf'}, page_content='for vulnerable versions of software. Then, by executing the appropriate commands, they exploit the vulnerabilities and can gain access to the system. In many cases the breach occurs due to vulnerable applications that were installed without the business need to do so. • In recent years, due to the improvement of mitigation measures for malware detection and blocking, attackers use a new and more sophisticated technique, the so-called fileless attacks . The term derives from the fact that in this case the malicious code runs directly in memory and does not create an executable file saved in the hard drive, so in most cases the antivirus cannot detect the attack. Most of these attacks start with a phishing email that seeks to lure the victim to open the attached file or click the link contained in the mail message. In the latter case, the victim is usually redirected to a fake webpage which mimics the legitimate one and asks for credentials. In the former case, when the user opens the'), Document(metadata={'page': 1, 'source': '/content/drive/MyDrive/NLP_Project/malware.pdf'}, page_content='An Introduction to Malware Robin Sharp Spring 2007 Abstract These notes, intended for use in DTU course 02233 on Network Security, give a short introduction to the topic of malware. The most important types of malware are described, together with their basic principles of operation and dissemination, and defenses against malware are discussed. 1 Some Deﬁnitions Malware is a general term for all types of malicious software, which in the context of computer security means: Software which is used with the aim of attempting to breach a computer system’s security policy with respect to Conﬁdentiality, Integrity or Availability. The term software should here be understood in the broadest sense, as the malicious eﬀect may make use of executable code, interpreted code, scripts, macros etc. The computer system whose security policy is attempted breached is usually known as the target for the malware. We shall use the term the initiator of the malware to denote the subject who originally'), Document(metadata={'page': 17, 'source': '/content/drive/MyDrive/NLP_Project/malware.pdf'}, page_content='On an computer with an Athlon 1GHz CPU and 1GB of RAM, analysis of all variants of the Hare virus to build up the CFGs and to annotate them to indicate “empty code” took 10 seconds of CPU time. To build up the annotated CFG for a fairly large non-malicious executable (QuickTimePlayer.exe, size approx. 1MB) took about 800 seconds of CPU time. However, the method was extremely eﬀective at recognising viral code, even when it appeared in quite obscure variants. False positive and false negative rates of 0% were reported for the examples tested. It must be expected that improvements in the technique will make it suitable for practical use in real-time detection of viral code. 6.3 Behavioural Methods of Detection All the methods which we have discussed up to now rely on handling the code of the possible malware. A completely diﬀerent approach is represented by methods which do not look at the code, but which monitor in real time the behaviour caused by the pieces of software running in the')]\n",
      "\n",
      "</s>\n",
      "<|user|>\n",
      "What is fileless malware, and why is it harder to detect?\n",
      "</s>\n",
      "<|assistant|>\n",
      "Fileless malware runs directly in memory and does not create an executable file saved on the hard drive. This means that most antivirus programs cannot detect it. \n",
      "\n",
      "\n",
      "Cosine Similarity (Groundedness): 0.7934\n",
      "\n",
      "Speed: 3.8045 seconds\n",
      "\n",
      "Please rate the accuracy of the response (1 to 5): 3\n",
      "\n",
      "--------------------------------------------------\n",
      "\n",
      "Ask a question (or type 'end' to finish): How can a business secure its wireless network, and why is WPA2 or WPA3 encryption important?\n",
      "\n",
      "Response: \n",
      "<|system|>\n",
      "You are an assistant for question-answering tasks. Use the following pieces of retrieved context to answer the question. If you don't know the answer, say that you don't know. Do not provide links in responses and make responses structured\n",
      "\n",
      "[Document(metadata={'page': 23, 'source': '/content/drive/MyDrive/NLP_Project/cybersecuirty_sb_factsheets_all.pdf'}, page_content='CYBERSECURITY FOR SMALL BUSINESS HOW TO CONNECT TO THE NETWORK REMOTEL Y Require employees and vendors to use secure connections when connecting remotely to your network. They should: Use a router with WPA2 or WPA3 encryption when connecting from their homes. Encryption protects information sent over a network so that outsiders can’t read it. WPA2 and WPA3 are the only encryption standards that will protect information sent over a wireless network. Only use public Wi-Fi when also using a virtual private network (VPN) to encrypt traffic between their computers and the internet. Public Wi-Fi does not provide a secure internet connection on its own. Y our employees can get a personal VPN account from a VPN service provider, or you may want to hire a vendor to create an enterprise VPN for all employees to use. WHAT TO DO TO MAINTAIN SECURITY Include information on secure remote access in regular trainings and new staff orientations. Have policies covering basic cybersecurity, give copies'), Document(metadata={'page': 23, 'source': '/content/drive/MyDrive/NLP_Project/cybersecuirty_sb_factsheets_all.pdf'}, page_content='CYBERSECURITY FOR SMALL BUSINESS HOW TO CONNECT TO THE NETWORK REMOTEL Y Require employees and vendors to use secure connections when connecting remotely to your network. They should: Use a router with WPA2 or WPA3 encryption when connecting from their homes. Encryption protects information sent over a network so that outsiders can’t read it. WPA2 and WPA3 are the only encryption standards that will protect information sent over a wireless network. Only use public Wi-Fi when also using a virtual private network (VPN) to encrypt traffic between their computers and the internet. Public Wi-Fi does not provide a secure internet connection on its own. Y our employees can get a personal VPN account from a VPN service provider, or you may want to hire a vendor to create an enterprise VPN for all employees to use. WHAT TO DO TO MAINTAIN SECURITY Include information on secure remote access in regular trainings and new staff orientations. Have policies covering basic cybersecurity, give copies'), Document(metadata={'page': 1, 'source': '/content/drive/MyDrive/NLP_Project/cybersecuirty_sb_factsheets_all.pdf'}, page_content='CYBERSECURITY FOR SMALL BUSINESS PROTECT YOUR WIRELESS NETWORK Secure your router Change the default name and password, turn off remote management, and log out as the administrator once the router is set up. Use at least WPA2 encryption Make sure your router offers WPA2 or WPA3 encryption, and that it’s turned on. Encryption protects information sent over your network so it can’t be read by outsiders. MAKE YOUR BUSINESS AS USUAL SMART SECURITY Require strong passwords A strong password is at least 12 characters that are a mix of numbers, symbols, and capital lowercase letters. Never reuse passwords and don’t share them on the phone, in texts, or by email. Limit the number of unsuccessful log-in attempts to limit password-guessing attacks. Train all staff Create a culture of security by implementing a regular schedule of employee training. Update employees as you find out about new risks and vulnerabilities. If employees don’t attend, consider blocking their access to the network. Have')]\n",
      "\n",
      "</s>\n",
      "<|user|>\n",
      "How can a business secure its wireless network, and why is WPA2 or WPA3 encryption important?\n",
      "</s>\n",
      "<|assistant|>\n",
      "Here's how to secure a wireless network and why WPA2 or WPA3 encryption is crucial:\n",
      "\n",
      "**Securing Your Wireless Network**\n",
      "\n",
      "* **Change Default Settings:**  Change the default name (SSID) and password of your router. This prevents unauthorized access.\n",
      "* **Disable Remote Management:**  Turn off remote management features to limit access to your router from outside your network.\n",
      "* **Log Out as Administrator:**  Once your router is set up, log out as the administrator to prevent unauthorized access.\n",
      "* **Use WPA2 or WPA3 Encryption:**  Ensure your router offers WPA2 or WPA3 encryption and that it's enabled. This is the most secure option for wireless networks.\n",
      "* **Strong Passwords:**  Use strong passwords that are at least 12 characters long and include a mix of numbers, symbols, and capital and lowercase letters.\n",
      "* **Limit Login Attempts:**  Set limits on the number of failed login attempts to prevent brute-force attacks.\n",
      "* **Employee Training:**  Train all staff on cybersecurity best practices and update them regularly on new threats and vulnerabilities.\n",
      "\n",
      "\n",
      "**Why WPA2 or WPA3 Encryption is Important**\n",
      "\n",
      "WPA2 and WPA3 are the only encryption standards that provide strong protection for wireless networks. They encrypt the data sent over the network, making it unreadable to outsiders. This is essential for protecting sensitive information from being intercepted. \n",
      "\n",
      "\n",
      "Cosine Similarity (Groundedness): 0.7680\n",
      "\n",
      "Speed: 19.6029 seconds\n",
      "\n",
      "Please rate the accuracy of the response (1 to 5): 4\n",
      "\n",
      "--------------------------------------------------\n",
      "\n",
      "Ask a question (or type 'end' to finish):  What are the characteristics of a strong password?\n",
      "\n",
      "Response: \n",
      "<|system|>\n",
      "You are an assistant for question-answering tasks. Use the following pieces of retrieved context to answer the question. If you don't know the answer, say that you don't know. Do not provide links in responses and make responses structured\n",
      "\n",
      "[Document(metadata={'page': 25, 'source': '/content/drive/MyDrive/NLP_Project/Cybersecurity-Handbook-English-version.pdf'}, page_content='e.g., by submitting a fake online form to which the user is redirected from a web link that was sent in a phishing email. • Use of malware that retrieves passwords from computer memory or by sniffing the network. SUB-CONTROLS ► 5.1 Develop and document: • a user authentication policy that addresses purpose, scope, roles and responsibilities, • procedures for implementing the policy and the relevant protection measures. ► 5.2 Implement authentication mechanisms that enforce the creation of strong passwords for your network and information systems. Strong passwords are those that are at least twelve characters long and contain at least one uppercase and one lowercase letter, one number, one special character, and do not contain names or common words that exist in dictionaries. Change passwords at least every six months. Mechanisms for creating strong passwords may include the capability to create passphrases. ► 5.3 Set a maximum limit (three to five) of continuous unsuccessful attempts'), Document(metadata={'page': 26, 'source': '/content/drive/MyDrive/NLP_Project/Cybersecurity-Handbook-English-version.pdf'}, page_content='27 CYBERSECURITY HANDBOOK ► 5.4 Ensure that passwords are stored in hashed form by utilizing one-way hash algorithms with the addition of a random data sequence (salt). ► 5.5 Ensure that the transmission of credentials over the network is done exclusively by using encryption. ► 5.6 Implement 2-factor authentication for access to all privileged accounts, including third party accounts. ► 5.7 Implement 2-factor authentication for all remote access connections to your internal network. This requirement must be enforced for all your employees (privileged and non-privileged accounts), as well as for third parties within their contractual obligation to provide support or maintenance services for your systems. ► 5.8 Set up workstations to enable screen lock after a maximum of 15 minutes of user inactivity to prevent unauthorized access. User re-authentication is required to unlock the screen. ► 5.9 Implement 2-factor authentication for every user that requests access to your critical or'), Document(metadata={'page': 25, 'source': '/content/drive/MyDrive/NLP_Project/Cybersecurity-Handbook-English-version.pdf'}, page_content='at least every six months. Mechanisms for creating strong passwords may include the capability to create passphrases. ► 5.3 Set a maximum limit (three to five) of continuous unsuccessful attempts to log in to an account, beyond which the account will be locked for a predetermined time period. WHAT ARE THE RISKS?')]\n",
      "\n",
      "</s>\n",
      "<|user|>\n",
      " What are the characteristics of a strong password?\n",
      "</s>\n",
      "<|assistant|>\n",
      "A strong password is at least twelve characters long and contains at least one uppercase and one lowercase letter, one number, one special character, and does not contain names or common words that exist in dictionaries. Change passwords at least every six months. \n",
      "\n",
      "\n",
      "Cosine Similarity (Groundedness): 0.6491\n",
      "\n",
      "Speed: 4.3038 seconds\n",
      "\n",
      "Please rate the accuracy of the response (1 to 5): 2\n",
      "\n",
      "--------------------------------------------------\n",
      "\n",
      "Ask a question (or type 'end' to finish): What are the common types of direct attacks used to steal passwords?\n",
      "\n",
      "Response: \n",
      "<|system|>\n",
      "You are an assistant for question-answering tasks. Use the following pieces of retrieved context to answer the question. If you don't know the answer, say that you don't know. Do not provide links in responses and make responses structured\n",
      "\n",
      "[Document(metadata={'page': 25, 'source': '/content/drive/MyDrive/NLP_Project/Cybersecurity-Handbook-English-version.pdf'}, page_content=\"26 CYBERSECURITY HANDBOOK 5. USER AUTHENTICATION Implement measures and procedures to verify the identity of any user wishing to access your corporate network. Authentication systems are a primary target for any attacker, for their compromise results in identity theft and unauthorized access to an entity's valuable resources. There are several ways to steal user credentials, such as: • Weak passwords. Most users use easy-to-remember passwords, which can be easily retrieved with a dictionary attack. • Employees storing credentials in plain sight. • Implementation of weak cryptographic techniques for password storage. • Stealing the password from a personal user account, with the same password being used in a corporate account. • Using social engineering to deceive the user to reveal their credentials, e.g., by submitting a fake online form to which the user is redirected from a web link that was sent in a phishing email. • Use of malware that retrieves passwords from computer memory or\"), Document(metadata={'page': 10, 'source': '/content/drive/MyDrive/NLP_Project/malware.pdf'}, page_content='are: 1. To exploit the targets in order to cause a Distributed DoS attack on a chosen system. Example: Apache/mod ssl (2002) 2. Website defacement on the targets, which are chosen to be web servers. Example: Perl.Santy (2004), which overwrote all ﬁl es with extensions .asp, .htm, .jsp, .php, .phtm and .shtm on the server, so they all produced the text “This site is defaced!!! NeverEverNoSanity WebWorm generation xx”. 3. Installation of a keylogger to track the user’s input, typically in order to pick up passwords, PIN codes, credit card numbers or other conﬁdential information, and to 10'), Document(metadata={'page': 28, 'source': '/content/drive/MyDrive/NLP_Project/Cybersecurity-Handbook-English-version.pdf'}, page_content=\"may sniff the traffic and steal corporate data and credentials transmitted over the network. • Distributed denial-of-service attacks : attackers create botnets, i.e., networks of large numbers of infected devices, which are scheduled to simultaneously send huge volumes of network traffic to corporate servers that have a public IP address, with the aim to interrupt the services provided to legitimate users. • Web defacement : attackers who have breached an organization's network may modify the content of its website by posting various types of messages or photos, and thus causing damage to the organization's reputation and loss of public trust in its digital services. • Threats in wireless networks : the nature of wireless communication channels and the high portability of wireless devices introduce new types of threats, such as: - Rogue access point: a device that secretly connects to an entity's internal network and thus provides access to the attacker. - “Evil twin” attack: variant\")]\n",
      "\n",
      "</s>\n",
      "<|user|>\n",
      "What are the common types of direct attacks used to steal passwords?\n",
      "</s>\n",
      "<|assistant|>\n",
      "Here are some common types of direct attacks used to steal passwords:\n",
      "\n",
      "* **Weak passwords:** Most users use easy-to-remember passwords, which can be easily retrieved with a dictionary attack.\n",
      "* **Employees storing credentials in plain sight:**  \n",
      "* **Implementation of weak cryptographic techniques for password storage:** \n",
      "* **Stealing the password from a personal user account, with the same password being used in a corporate account:** \n",
      "* **Using social engineering to deceive the user to reveal their credentials, e.g., by submitting a fake online form to which the user is redirected from a web link that was sent in a phishing email:** \n",
      "* **Use of malware that retrieves passwords from computer memory or** \n",
      "\n",
      "\n",
      "Cosine Similarity (Groundedness): 0.6762\n",
      "\n",
      "Speed: 16.2197 seconds\n",
      "\n",
      "Please rate the accuracy of the response (1 to 5): 3\n",
      "\n",
      "--------------------------------------------------\n",
      "\n",
      "Ask a question (or type 'end' to finish): How can removable devices like USBs pose security risks?\n",
      "\n",
      "Response: \n",
      "<|system|>\n",
      "You are an assistant for question-answering tasks. Use the following pieces of retrieved context to answer the question. If you don't know the answer, say that you don't know. Do not provide links in responses and make responses structured\n",
      "\n",
      "[Document(metadata={'page': 36, 'source': '/content/drive/MyDrive/NLP_Project/Cybersecurity-Handbook-English-version.pdf'}, page_content='to files and server processes, • unsuccessful file execution attempts, • special privileges usage and usage attempts, • system files usage, • changes in user accounts and in the security policy, • HTTP(S) and DNS requests, • data transfer to and from portable storage media. WHAT ARE THE RISKS?'), Document(metadata={'page': 17, 'source': '/content/drive/MyDrive/NLP_Project/Cybersecurity-Handbook-English-version.pdf'}, page_content='configuration and change management tools to effectively track all configuration changes and updates in your corporate network in an automated manner. ► 2.13 Ensure that portable storage media (USB sticks, external hard drives, CDs, DVDs) cannot connect to systems classified as critical, unless there is strict business need for doing so.'), Document(metadata={'page': 14, 'source': '/content/drive/MyDrive/NLP_Project/Cybersecurity-Handbook-English-version.pdf'}, page_content='operations. ► 1.5 Develop and document a policy and procedures for the use of removable media (USB, external hard drives, CDs, DVDs). This policy must be consistent with the security risks that your systems and data face and must cover: • the acceptable uses and types of portable media, • the requirements for the protection of portable media and their content, • the requirements for reporting a lost or stolen portable device, • the requirements for the removal, destruction or disposal of portable media. ► 1.6 Ensure that the proprietary mobile devices (laptops, tablets, smartphones) that employees bring to their working environment (\"bring your own device\") do not have access to critical or sensitive enterprise systems. ► 1.7 Ensure that the proprietary mobile devices (laptops, tablets, smartphones) that employees bring to their working environment (\"bring your own device\") access the Internet through a network that is strictly separated from the enterprise network.')]\n",
      "\n",
      "</s>\n",
      "<|user|>\n",
      "How can removable devices like USBs pose security risks?\n",
      "</s>\n",
      "<|assistant|>\n",
      "Removable devices like USBs can pose security risks through:\n",
      "\n",
      "* **Data transfer to and from portable storage media:**  This can be exploited to transfer sensitive data to unauthorized locations.\n",
      "* **Unsecured storage:**  USBs can be easily lost or stolen, leaving sensitive data vulnerable to unauthorized access.\n",
      "* **Uncontrolled access:**  Allowing USBs to connect to critical systems without proper security measures can lead to data breaches. \n",
      "* **Malicious software:**  USBs can be infected with malware that can be used to steal data or disrupt operations. \n",
      "* **Configuration and change management tools:**  Improperly configured tools can lead to unauthorized changes in the system, potentially compromising security. \n",
      "\n",
      "\n",
      "\n",
      "\n",
      "Cosine Similarity (Groundedness): 0.5369\n",
      "\n",
      "Speed: 10.1593 seconds\n",
      "\n",
      "Please rate the accuracy of the response (1 to 5): 4\n",
      "\n",
      "--------------------------------------------------\n",
      "\n",
      "Ask a question (or type 'end' to finish): What are best practices for encrypting sensitive files?\n"
     ]
    },
    {
     "name": "stderr",
     "output_type": "stream",
     "text": [
      "You seem to be using the pipelines sequentially on GPU. In order to maximize efficiency please use a dataset\n"
     ]
    },
    {
     "name": "stdout",
     "output_type": "stream",
     "text": [
      "\n",
      "Response: \n",
      "<|system|>\n",
      "You are an assistant for question-answering tasks. Use the following pieces of retrieved context to answer the question. If you don't know the answer, say that you don't know. Do not provide links in responses and make responses structured\n",
      "\n",
      "[Document(metadata={'page': 4, 'source': '/content/drive/MyDrive/NLP_Project/cybersecuirty_sb_factsheets_all.pdf'}, page_content='flash drives, laptops, point-of-sale devices, and other equipment. Store securely When paper files or electronic devices contain sensitive information, store them in a locked cabinet or room. Limit physical access When records or devices contain sensitive data, allow access only to those who need it. Send reminders Remind employees to put paper files in locked file cabinets, log out of your network and applications, and never leave files or devices with sensitive data unattended. Keep stock Keep track of and secure any devices that collect sensitive customer information. Only keep files and data you need and know who has access to them.'), Document(metadata={'page': 4, 'source': '/content/drive/MyDrive/NLP_Project/cybersecuirty_sb_factsheets_all.pdf'}, page_content='flash drives, laptops, point-of-sale devices, and other equipment. Store securely When paper files or electronic devices contain sensitive information, store them in a locked cabinet or room. Limit physical access When records or devices contain sensitive data, allow access only to those who need it. Send reminders Remind employees to put paper files in locked file cabinets, log out of your network and applications, and never leave files or devices with sensitive data unattended. Keep stock Keep track of and secure any devices that collect sensitive customer information. Only keep files and data you need and know who has access to them.'), Document(metadata={'page': 5, 'source': '/content/drive/MyDrive/NLP_Project/cybersecuirty_sb_factsheets_all.pdf'}, page_content='the number of incorrect login attempts allowed to unlock devices. This will help protect against intruders. Encrypt Encrypt portable media, including laptops and thumb drives, that contain sensitive information. Encrypt any sensitive data you send outside of the company, like to an accountant or a shipping service. YOUR EMPLOYEES TRAIN Include physical security in your regular employee trainings and communications. R emind employees to: Shred documents Always shred documents with sensitive information before throwing them away. Erase data correctly Use software to erase data before donating or discarding old computers, mobile devices, digital copiers, and drives. Don’t rely on “delete ” alone. That does not actually remove the file from the computer. Promote security practices in all locations Maintain security practices even if working remotely from home or on business travel. Know the response plan All staff should know what to do if equipment or paper files are lost or stolen,')]\n",
      "\n",
      "</s>\n",
      "<|user|>\n",
      "What are best practices for encrypting sensitive files?\n",
      "</s>\n",
      "<|assistant|>\n",
      "Here are some best practices for encrypting sensitive files:\n",
      "\n",
      "* **Encrypt portable media:** Encrypt laptops and thumb drives that contain sensitive information.\n",
      "* **Encrypt data sent outside the company:** Encrypt any sensitive data you send outside of the company, like to an accountant or a shipping service. \n",
      "* **Use software to erase data:** Use software to erase data before donating or discarding old computers, mobile devices, digital copiers, and drives. Don't rely on \"delete\" alone. \n",
      "* **Promote security practices in all locations:** Maintain security practices even if working remotely from home or on business travel. \n",
      "\n",
      "\n",
      "Cosine Similarity (Groundedness): 0.7428\n",
      "\n",
      "Speed: 9.7715 seconds\n",
      "\n",
      "Please rate the accuracy of the response (1 to 5): 4\n",
      "\n",
      "--------------------------------------------------\n",
      "\n",
      "Ask a question (or type 'end' to finish): What measures can improve smartphone security against cyber threats?\n",
      "\n",
      "Response: \n",
      "<|system|>\n",
      "You are an assistant for question-answering tasks. Use the following pieces of retrieved context to answer the question. If you don't know the answer, say that you don't know. Do not provide links in responses and make responses structured\n",
      "\n",
      "[Document(metadata={'page': 22, 'source': '/content/drive/MyDrive/NLP_Project/cybersecuirty_sb_factsheets_all.pdf'}, page_content='encryption for laptops and other mobile devices that connect remotely to your network. Check your operating system for this option, which will protect any data stored on the device if it’s lost or stolen. This is especially important if the device stores any sensitive personal information. Change smartphone settings to stop automatic connections to public Wi-Fi. Keep up-to-date antivirus software on devices that connect to your network, including mobile devices. LEARN MORE AT:'), Document(metadata={'page': 22, 'source': '/content/drive/MyDrive/NLP_Project/cybersecuirty_sb_factsheets_all.pdf'}, page_content='encryption for laptops and other mobile devices that connect remotely to your network. Check your operating system for this option, which will protect any data stored on the device if it’s lost or stolen. This is especially important if the device stores any sensitive personal information. Change smartphone settings to stop automatic connections to public Wi-Fi. Keep up-to-date antivirus software on devices that connect to your network, including mobile devices. LEARN MORE AT:'), Document(metadata={'page': 5, 'source': '/content/drive/MyDrive/NLP_Project/cybersecuirty_sb_factsheets_all.pdf'}, page_content='CYBERSECURITY FOR SMALL BUSINESS HOW TO PROTECT DATA ON YOUR DEVICES A burglary, lost laptop, stolen mobile phone, or misplaced flash drive — all can happen due to lapses in physical security. But they’re less likely to result in a data breach if information on those devices is protected. Here are a few ways to do that: Require complex passwords Require passwords that are long, complex, and unique. And make sure that these passwords are stored securely. Consider using a password manager. Use multi-factor authentication Require multi-factor authentication to access areas of your network with sensitive information. This requires additional steps beyond logging in with a password — like a temporary code on a smartphone or a key that’s inserted into a computer. Limit login attempts Limit the number of incorrect login attempts allowed to unlock devices. This will help protect against intruders. Encrypt Encrypt portable media, including laptops and thumb drives, that contain sensitive')]\n",
      "\n",
      "</s>\n",
      "<|user|>\n",
      "What measures can improve smartphone security against cyber threats?\n",
      "</s>\n",
      "<|assistant|>\n",
      "Here are some measures to improve smartphone security:\n",
      "\n",
      "* **Change smartphone settings to stop automatic connections to public Wi-Fi.**\n",
      "* **Keep up-to-date antivirus software on devices that connect to your network, including mobile devices.** \n",
      "\n",
      "\n",
      "Cosine Similarity (Groundedness): 0.7318\n",
      "\n",
      "Speed: 5.2348 seconds\n",
      "\n",
      "Please rate the accuracy of the response (1 to 5): 2\n",
      "\n",
      "--------------------------------------------------\n",
      "\n",
      "Ask a question (or type 'end' to finish): What steps should businesses take to secure their wireless networks?\n",
      "\n",
      "Response: \n",
      "<|system|>\n",
      "You are an assistant for question-answering tasks. Use the following pieces of retrieved context to answer the question. If you don't know the answer, say that you don't know. Do not provide links in responses and make responses structured\n",
      "\n",
      "[Document(metadata={'page': 23, 'source': '/content/drive/MyDrive/NLP_Project/cybersecuirty_sb_factsheets_all.pdf'}, page_content='employees to use. WHAT TO DO TO MAINTAIN SECURITY Include information on secure remote access in regular trainings and new staff orientations. Have policies covering basic cybersecurity, give copies to your employees, and explain the importance of following them. Before letting any device — whether at an employee’s home or on a vendor’s network — connect to your network, make sure it meets your network’s security requirements. Tell your staff about the risks of public Wi-Fi. Train your staff: Give your staff tools that will help maintain security: • Require employees to use unique, complex network passwords and avoid unattended, open workstations. • Require multi-factor authentication to access areas of your network that have sensitive information. This requires additional steps beyond logging in with a password — like a temporary code on a smartphone or a k ey that’s inserted into a computer. • If you offer Wi-Fi on your business premises for guests and customers, make sure it’s'), Document(metadata={'page': 23, 'source': '/content/drive/MyDrive/NLP_Project/cybersecuirty_sb_factsheets_all.pdf'}, page_content='employees to use. WHAT TO DO TO MAINTAIN SECURITY Include information on secure remote access in regular trainings and new staff orientations. Have policies covering basic cybersecurity, give copies to your employees, and explain the importance of following them. Before letting any device — whether at an employee’s home or on a vendor’s network — connect to your network, make sure it meets your network’s security requirements. Tell your staff about the risks of public Wi-Fi. Train your staff: Give your staff tools that will help maintain security: • Require employees to use unique, complex network passwords and avoid unattended, open workstations. • Require multi-factor authentication to access areas of your network that have sensitive information. This requires additional steps beyond logging in with a password — like a temporary code on a smartphone or a k ey that’s inserted into a computer. • If you offer Wi-Fi on your business premises for guests and customers, make sure it’s'), Document(metadata={'page': 1, 'source': '/content/drive/MyDrive/NLP_Project/cybersecuirty_sb_factsheets_all.pdf'}, page_content='CYBERSECURITY FOR SMALL BUSINESS PROTECT YOUR WIRELESS NETWORK Secure your router Change the default name and password, turn off remote management, and log out as the administrator once the router is set up. Use at least WPA2 encryption Make sure your router offers WPA2 or WPA3 encryption, and that it’s turned on. Encryption protects information sent over your network so it can’t be read by outsiders. MAKE YOUR BUSINESS AS USUAL SMART SECURITY Require strong passwords A strong password is at least 12 characters that are a mix of numbers, symbols, and capital lowercase letters. Never reuse passwords and don’t share them on the phone, in texts, or by email. Limit the number of unsuccessful log-in attempts to limit password-guessing attacks. Train all staff Create a culture of security by implementing a regular schedule of employee training. Update employees as you find out about new risks and vulnerabilities. If employees don’t attend, consider blocking their access to the network. Have')]\n",
      "\n",
      "</s>\n",
      "<|user|>\n",
      "What steps should businesses take to secure their wireless networks?\n",
      "</s>\n",
      "<|assistant|>\n",
      "Here are steps businesses can take to secure their wireless networks:\n",
      "\n",
      "* **Secure your router:**\n",
      "    * Change the default name and password.\n",
      "    * Turn off remote management.\n",
      "    * Log out as the administrator once the router is set up.\n",
      "    * Use at least WPA2 encryption.\n",
      "    * Make sure your router offers WPA2 or WPA3 encryption and it's turned on.\n",
      "* **Require strong passwords:**\n",
      "    * A strong password is at least 12 characters long and includes a mix of numbers, symbols, and capital and lowercase letters.\n",
      "    * Never reuse passwords.\n",
      "    * Don't share passwords on the phone, in texts, or by email.\n",
      "* **Limit the number of unsuccessful log-in attempts:**\n",
      "    * This limits password-guessing attacks.\n",
      "* **Train all staff:**\n",
      "    * Create a culture of security by implementing a regular schedule of employee training.\n",
      "    * Update employees as you find out about new risks and vulnerabilities.\n",
      "    * If employees don't attend training, consider blocking their access to the network. \n",
      "\n",
      "\n",
      "Cosine Similarity (Groundedness): 0.7946\n",
      "\n",
      "Speed: 15.9573 seconds\n",
      "\n",
      "Please rate the accuracy of the response (1 to 5): 5\n",
      "\n",
      "--------------------------------------------------\n",
      "\n",
      "Ask a question (or type 'end' to finish): What is multi-factor authentication, and why is it essential for cybersecurity?\n",
      "\n",
      "Response: \n",
      "<|system|>\n",
      "You are an assistant for question-answering tasks. Use the following pieces of retrieved context to answer the question. If you don't know the answer, say that you don't know. Do not provide links in responses and make responses structured\n",
      "\n",
      "[Document(metadata={'page': 0, 'source': '/content/drive/MyDrive/NLP_Project/cybersecuirty_sb_factsheets_all.pdf'}, page_content='laptops, tablets, smartphones, removable drives, backup tapes, and cloud storage solutions. Use multi-factor authentication Require multi-factor authentication to access areas of your network with sensitive information. This requires additional steps beyond logging in with a password — like a temporary code on a smartphone or a key that’s inserted into a computer. LEARN MORE AT: FTC.gov/SmallBusiness'), Document(metadata={'page': 0, 'source': '/content/drive/MyDrive/NLP_Project/cybersecuirty_sb_factsheets_all.pdf'}, page_content='laptops, tablets, smartphones, removable drives, backup tapes, and cloud storage solutions. Use multi-factor authentication Require multi-factor authentication to access areas of your network with sensitive information. This requires additional steps beyond logging in with a password — like a temporary code on a smartphone or a key that’s inserted into a computer. LEARN MORE AT: FTC.gov/SmallBusiness'), Document(metadata={'page': 9, 'source': '/content/drive/MyDrive/NLP_Project/Cybersecurity-Handbook-English-version.pdf'}, page_content='10 CYBERSECURITY HANDBOOK The defense-in-depth approach is considered an effective strategy that reduces the chance of a successful cyber attack and minimizes the damage that it may cause. The continuous improvement and evolution of cybercrime offensive methods, as well as the increasing complexity of modern computer systems described above, have relatively recently led to the emergence of a new security architecture model, known as \"zero trust\". Zero trust is a security model, a set of system design principles and a coordinated strategy, which assumes that threats are inherent in both inside and outside traditional network perimeters. In particular, the fundamental principles of the model are:2 • “Never trust, always verify”: every user, device, application, and data stream are considered untrustworthy. Each of the above must be authenticated and then explicitly authorized with the minimum required privileges. • “Assume breach” : It is considered that the corporate devices and network')]\n",
      "\n",
      "</s>\n",
      "<|user|>\n",
      "What is multi-factor authentication, and why is it essential for cybersecurity?\n",
      "</s>\n",
      "<|assistant|>\n",
      "Multi-factor authentication is an extra layer of security that requires users to provide two or more forms of identification to access a system or account. This can include things like a password, a code sent to a phone, or a fingerprint scan. \n",
      "\n",
      "It is essential for cybersecurity because it makes it much harder for attackers to gain access to sensitive information, even if they steal your password. \n",
      "\n",
      "\n",
      "Cosine Similarity (Groundedness): 0.5785\n",
      "\n",
      "Speed: 10.3290 seconds\n",
      "\n",
      "Please rate the accuracy of the response (1 to 5): 3\n",
      "\n",
      "--------------------------------------------------\n",
      "\n",
      "Ask a question (or type 'end' to finish):  What is malware, and how does it threaten computer systems?\n",
      "\n",
      "Response: \n",
      "<|system|>\n",
      "You are an assistant for question-answering tasks. Use the following pieces of retrieved context to answer the question. If you don't know the answer, say that you don't know. Do not provide links in responses and make responses structured\n",
      "\n",
      "[Document(metadata={'page': 1, 'source': '/content/drive/MyDrive/NLP_Project/malware.pdf'}, page_content='An Introduction to Malware Robin Sharp Spring 2007 Abstract These notes, intended for use in DTU course 02233 on Network Security, give a short introduction to the topic of malware. The most important types of malware are described, together with their basic principles of operation and dissemination, and defenses against malware are discussed. 1 Some Deﬁnitions Malware is a general term for all types of malicious software, which in the context of computer security means: Software which is used with the aim of attempting to breach a computer system’s security policy with respect to Conﬁdentiality, Integrity or Availability. The term software should here be understood in the broadest sense, as the malicious eﬀect may make use of executable code, interpreted code, scripts, macros etc. The computer system whose security policy is attempted breached is usually known as the target for the malware. We shall use the term the initiator of the malware to denote the subject who originally'), Document(metadata={'page': 33, 'source': '/content/drive/MyDrive/NLP_Project/Cybersecurity-Handbook-English-version.pdf'}, page_content='34 CYBERSECURITY HANDBOOK 7. MALWARE PROTECTION Implement technologies that detect and prevent the installation, execution, and transmission of malicious code on your network and information systems. Malware constitutes one of the top threats for network and information systems and the risks associated with its actions may vary: • Password theft, • Data theft, • Identification of additional targets within the network, • Unauthorized modification and encryption of data. Malicious code can infect systems in a variety of attack vectors, including email, malicious websites, and removable media (USB, external hard drives). Its propagation is based on vulnerabilities in the target systems but also on careless behavior of the end user, such as opening attachments and web links, installing software and inserting infected USB on PCs. For malware to be detected and removed, protection mechanisms must be applied to all input and output system points (workstations, web servers, mail servers, proxy'), Document(metadata={'page': 1, 'source': '/content/drive/MyDrive/NLP_Project/malware.pdf'}, page_content='The computer system whose security policy is attempted breached is usually known as the target for the malware. We shall use the term the initiator of the malware to denote the subject who originally launched the malware with the intent of attacking one or more targets. Depending on the type of malware, the set of targets may or may not be explictly known to the initiator. Note that this deﬁnition relates the malic iousness of the software to an attempted breach of the target’s security policy. This in turn means that it depends on the privileges of the initiator on the target system. A program P which would be classiﬁed as malware if initiated by an user with no special privileges, could easily be quite acceptable (though obviously a potential danger to have lying about) if executed by a system administrator with extensive privileges on the target system. 2 Classiﬁcation of Malware Malware is commonly divided into a number of classes, depending on the way in which it is introduced')]\n",
      "\n",
      "</s>\n",
      "<|user|>\n",
      " What is malware, and how does it threaten computer systems?\n",
      "</s>\n",
      "<|assistant|>\n",
      "Malware is malicious software that is used to attempt to breach a computer system's security policy. This can involve compromising confidentiality, integrity, or availability. \n",
      "\n",
      "Malware can threaten computer systems in several ways:\n",
      "\n",
      "* **Password theft:**  Malware can steal user passwords to gain unauthorized access to accounts.\n",
      "* **Data theft:** Malware can steal sensitive data, such as financial information or personal details.\n",
      "* **Identification of additional targets:** Malware can identify other systems within a network that it can target.\n",
      "* **Unauthorized modification and encryption of data:** Malware can modify or encrypt data, making it inaccessible to its rightful owner. \n",
      "* **Propagation:** Malware can spread to other systems through various attack vectors, such as email, malicious websites, and removable media. \n",
      "\n",
      "\n",
      "Cosine Similarity (Groundedness): 0.7528\n",
      "\n",
      "Speed: 11.6114 seconds\n",
      "\n",
      "Please rate the accuracy of the response (1 to 5): 4\n",
      "\n",
      "--------------------------------------------------\n",
      "\n",
      "Ask a question (or type 'end' to finish): Explain the concept of polymorphic viruses and their impact on antivirus systems\n",
      "\n",
      "Response: \n",
      "<|system|>\n",
      "You are an assistant for question-answering tasks. Use the following pieces of retrieved context to answer the question. If you don't know the answer, say that you don't know. Do not provide links in responses and make responses structured\n",
      "\n",
      "[Document(metadata={'page': 7, 'source': '/content/drive/MyDrive/NLP_Project/malware.pdf'}, page_content='technique is used, for example, by the COK variant (2005) of the BackDoor virus (actually a Trojan horse) which deposits a DLL called spool.dll and then injects code into all processes running on the computer, so that they link to it. 3.3 Disguising the Virus Since signature-based antivirus systems attempt to ﬁnd viral code by looking for charac- teristic byte sequences in the executable, virus designers have adopted various techniques for disguising such sequences. The two dominant techniques are encryption of the viral code and polymorphism. 3.3.1 Encryption Encryption of the viral code with diﬀerent encryption keys will produce diﬀerent cipher- texts, thus ensuring that a signature scanner cannot recognise the virus. However, the 7'), Document(metadata={'page': 16, 'source': '/content/drive/MyDrive/NLP_Project/malware.pdf'}, page_content='instruction (i.e. a call, a possibly conditional jump etc.), which, if present, is the last instruction in the block, and where the edges correspond to possible paths between the basic blocks. Even if groups of instructions with no eﬀect are inserted into the code as illustrated in Figure 6, the basic ﬂow of control in the program is maintained, so the CFGs for the original virus and for the polymorphic variant should have the same form. This is illustrated in Figure 10, which shows the CFG of the original code and a polymorphic variant. Essentially the CFG is a kind of signature for the virus. Of course the method relies on the code for the original virus being known – 16'), Document(metadata={'page': 3, 'source': '/content/drive/MyDrive/NLP_Project/malware.pdf'}, page_content='beginv : if spread condition then for v ∈ victim ﬁles do begin if not infected(v) then determine placement for virus code(); insert instructions into((beginv . . endv),v ); modify to execute inserted instructions(v); ﬁ ; end ; ﬁ ; execute payload(); start execution of infected program(); endv : Figure 1: Code schema for a virus. As indicated by the schema, the detailed action of the virus depends on a number of strategic choices, which in general depend on the eﬀort which the virus designer is prepared to put into avoiding detection by antivirus systems: Spreading condition: The criterion for attempting to propagate the virus. For example, if the virus is to infect the computer’s boot program, this condition could be that the boot sector is uninfected. Infection strategy: The criterion for selecting the set of victim ﬁles. If executable ﬁles are to be infected, this criterion might be to select ﬁles from some standard library. If the virus is based on the use of macros, ﬁles which')]\n",
      "\n",
      "</s>\n",
      "<|user|>\n",
      "Explain the concept of polymorphic viruses and their impact on antivirus systems\n",
      "</s>\n",
      "<|assistant|>\n",
      "Polymorphic viruses are a type of virus that changes its code structure to avoid detection by antivirus systems. \n",
      "\n",
      "**Impact on Antivirus Systems:**\n",
      "\n",
      "* **Signature-based detection:** Antivirus systems rely on identifying specific patterns or \"signatures\" in the code to detect viruses. Polymorphic viruses constantly change their code, making it difficult for signature-based detection to identify them.\n",
      "* **Effectiveness:**  The constant code changes make it challenging for antivirus software to create effective signatures that can accurately identify the virus.\n",
      "* **Detection delay:**  The changing code structure can lead to a delay in detection, allowing the virus to spread and infect more systems.\n",
      "\n",
      "\n",
      "Essentially, polymorphic viruses are like a moving target for antivirus systems, making it difficult to keep up with their ever-changing code. \n",
      "\n",
      "\n",
      "Cosine Similarity (Groundedness): 0.7441\n",
      "\n",
      "Speed: 11.8584 seconds\n",
      "\n",
      "Please rate the accuracy of the response (1 to 5): 5\n",
      "\n",
      "--------------------------------------------------\n",
      "\n",
      "Ask a question (or type 'end' to finish): How do ransomware attacks typically occur, and what steps can mitigate their impact on businesses?\n",
      "\n",
      "Response: \n",
      "<|system|>\n",
      "You are an assistant for question-answering tasks. Use the following pieces of retrieved context to answer the question. If you don't know the answer, say that you don't know. Do not provide links in responses and make responses structured\n",
      "\n",
      "[Document(metadata={'page': 7, 'source': '/content/drive/MyDrive/NLP_Project/cybersecuirty_sb_factsheets_all.pdf'}, page_content='CYBERSECURITY FOR SMALL BUSINESS HOW TO PROTECT YOUR BUSINESS Have a plan How would your business stay up and running after a ransomware attack? Put this plan in writing and share it with everyone who needs to know. Back up your data Regularly save important files to a drive or server that’s not connected to your network. Make data backup part of your routine business operations. Keep your security up to date Always install the latest patches and updates. Look for additional means of protection, like email authentication, and intrusion prevention software, and set them to update automatically on your computer. On mobile devices, you may have to do it manually. Alert your staff Teach them how to avoid phishing scams and show them some of the common ways computers and devices become infected. Include tips for spotting and protecting against ransomware in your regular orientation and training. WHAT TO DO IF YOU’RE ATTACKED Limit the damage Immediately disconnect the infected computers or'), Document(metadata={'page': 7, 'source': '/content/drive/MyDrive/NLP_Project/cybersecuirty_sb_factsheets_all.pdf'}, page_content='CYBERSECURITY FOR SMALL BUSINESS HOW TO PROTECT YOUR BUSINESS Have a plan How would your business stay up and running after a ransomware attack? Put this plan in writing and share it with everyone who needs to know. Back up your data Regularly save important files to a drive or server that’s not connected to your network. Make data backup part of your routine business operations. Keep your security up to date Always install the latest patches and updates. Look for additional means of protection, like email authentication, and intrusion prevention software, and set them to update automatically on your computer. On mobile devices, you may have to do it manually. Alert your staff Teach them how to avoid phishing scams and show them some of the common ways computers and devices become infected. Include tips for spotting and protecting against ransomware in your regular orientation and training. WHAT TO DO IF YOU’RE ATTACKED Limit the damage Immediately disconnect the infected computers or'), Document(metadata={'page': 6, 'source': '/content/drive/MyDrive/NLP_Project/cybersecuirty_sb_factsheets_all.pdf'}, page_content='CYBERSECURITY FOR SMALL BUSINESS LEARN MORE AT: FTC.gov/SmallBusiness RANSOMWARE Someone in your company gets an email. It looks legitimate — but with one click on a link, or one download of an attachment, everyone is locked out of your network. That link downloaded software that holds your data hostage. That’s a ransomware attack. The attackers ask for money or cryptocurrency, but even if you pay, you don’t know if the cybercriminals will keep your data or destroy your files. Meanwhile, the information you need to run your business and sensitive details about your customers, employees, and company are now in criminal hands. Ransomware can take a serious toll on your business. HOW IT HAPPENS Criminals can start a ransomware attack in a variety of ways. Scam emails with links and attachments that put your data and network at risk. These phishing emails make up most ransomware attacks. Server vulnerabilities which can be exploited by hackers. Infected websites that automatically download')]\n",
      "\n",
      "</s>\n",
      "<|user|>\n",
      "How do ransomware attacks typically occur, and what steps can mitigate their impact on businesses?\n",
      "</s>\n",
      "<|assistant|>\n",
      "Ransomware attacks typically occur through scam emails with links and attachments that put your data and network at risk. These phishing emails make up most ransomware attacks. \n",
      " \n",
      "Here are some steps to mitigate the impact of ransomware attacks:\n",
      "\n",
      "* **Have a plan:** Create a plan for how your business will stay operational after a ransomware attack.\n",
      "* **Back up your data:** Regularly save important files to a drive or server that is not connected to your network.\n",
      "* **Keep your security up to date:** Always install the latest patches and updates.\n",
      "* **Alert your staff:** Teach your staff how to avoid phishing scams and show them common ways computers and devices become infected.\n",
      "* **Limit the damage:** Immediately disconnect the infected computers or devices. \n",
      "\n",
      "\n",
      "Cosine Similarity (Groundedness): 0.8303\n",
      "\n",
      "Speed: 11.5727 seconds\n",
      "\n",
      "Please rate the accuracy of the response (1 to 5): 5\n",
      "\n",
      "--------------------------------------------------\n",
      "\n",
      "Ask a question (or type 'end' to finish): How does email spoofing work, and what measures can organizations take to prevent it?\n",
      "\n",
      "Response: \n",
      "<|system|>\n",
      "You are an assistant for question-answering tasks. Use the following pieces of retrieved context to answer the question. If you don't know the answer, say that you don't know. Do not provide links in responses and make responses structured\n",
      "\n",
      "[Document(metadata={'page': 10, 'source': '/content/drive/MyDrive/NLP_Project/cybersecuirty_sb_factsheets_all.pdf'}, page_content='CYBERSECURITY FOR SMALL BUSINESS BUSINESS EMAIL IMPOSTERS LEARN MORE AT: FTC.gov/SmallBusiness A scammer sets up an email address that looks like it’s from your company. Then the scammer sends out messages using that email address. This practice is called spoofing, and the scammer is what we call a business email imposter. Scammers do this to get passwords and bank account numbers or to get someone to send them money. When this happens, your company has a lot to lose. Customers and partners might lose trust and take their business elsewhere — and your business could then lose money. HOW TO PROTECT YOUR BUSINESS Use email authentication When you set up your business’s email, make sure the email provider offers email authentication technology. That way, when you send an email from your company’s server, the receiving servers can confirm that the email is really from you. If it’s not, the receiving servers may block the email and foil a business email imposter. Keep your security up to'), Document(metadata={'page': 10, 'source': '/content/drive/MyDrive/NLP_Project/cybersecuirty_sb_factsheets_all.pdf'}, page_content='CYBERSECURITY FOR SMALL BUSINESS BUSINESS EMAIL IMPOSTERS LEARN MORE AT: FTC.gov/SmallBusiness A scammer sets up an email address that looks like it’s from your company. Then the scammer sends out messages using that email address. This practice is called spoofing, and the scammer is what we call a business email imposter. Scammers do this to get passwords and bank account numbers or to get someone to send them money. When this happens, your company has a lot to lose. Customers and partners might lose trust and take their business elsewhere — and your business could then lose money. HOW TO PROTECT YOUR BUSINESS Use email authentication When you set up your business’s email, make sure the email provider offers email authentication technology. That way, when you send an email from your company’s server, the receiving servers can confirm that the email is really from you. If it’s not, the receiving servers may block the email and foil a business email imposter. Keep your security up to'), Document(metadata={'page': 10, 'source': '/content/drive/MyDrive/NLP_Project/cybersecuirty_sb_factsheets_all.pdf'}, page_content='server, the receiving servers can confirm that the email is really from you. If it’s not, the receiving servers may block the email and foil a business email imposter. Keep your security up to date Always install the latest patches and updates. Set them to update automatically on your network. Look for additional means of protection, like intrusion prevention software, which checks your network for suspicious activity and sends you alerts if it finds any. Train your staff Teach them how to avoid phishing scams and show them some of the common ways attackers can infect computers and devices with malware. Include tips for spotting and protecting against cyber threats in your regular employee trainings and communications.')]\n",
      "\n",
      "</s>\n",
      "<|user|>\n",
      "How does email spoofing work, and what measures can organizations take to prevent it?\n",
      "</s>\n",
      "<|assistant|>\n",
      "Email spoofing is a technique where scammers create a fake email address that appears to be from a legitimate company. They then send messages using this fake address to trick recipients into giving up sensitive information or performing actions. \n",
      "\n",
      "Organizations can take the following measures to prevent email spoofing:\n",
      "\n",
      "* **Use email authentication:** Ensure your email provider offers email authentication technology. This allows the receiving servers to verify the sender's identity, preventing spoofing.\n",
      "* **Keep security up to date:** Regularly install the latest patches and updates for your email server and other systems.\n",
      "* **Install intrusion prevention software:** This software can monitor your network for suspicious activity and alert you to potential threats.\n",
      "* **Train staff:** Educate employees on how to avoid phishing scams and recognize common attack methods. \n",
      "\n",
      "\n",
      "Cosine Similarity (Groundedness): 0.8277\n",
      "\n",
      "Speed: 11.1499 seconds\n",
      "\n",
      "Please rate the accuracy of the response (1 to 5): 5\n",
      "\n",
      "--------------------------------------------------\n",
      "\n",
      "Ask a question (or type 'end' to finish):  What are some common characteristics of phishing emails that users should be aware of?\n",
      "\n",
      "Response: \n",
      "<|system|>\n",
      "You are an assistant for question-answering tasks. Use the following pieces of retrieved context to answer the question. If you don't know the answer, say that you don't know. Do not provide links in responses and make responses structured\n",
      "\n",
      "[Document(metadata={'page': 51, 'source': '/content/drive/MyDrive/NLP_Project/Cybersecurity-Handbook-English-version.pdf'}, page_content=\"52 CYBERSECURITY HANDBOOK ► 12.3 Periodically conduct a cybersecurity awareness training program addressed to distinct roles and targeting different employee categories based on business activities and the level of technical expertise. ► 12.4 Perform a knowledge gap analysis of your employees to develop a plan of sequential trainings. ► 12.5 Periodically conduct exercises that simulate cyber security incidents and their impact. Examples include opening a malicious email attachment or visiting a malicious website. Figure 10 below shows specific signs for detecting a phishing email. For further study, there are several resources on the Internet with useful information on ways to protect against social engineering attacks.21 (1) The sender's email address does not match his signature, and the email domain looks at least suspicious. (2) The subject of the email looks questionable or unwanted. (3) The salutation is not addressed personally to the recipient with his name and surname but it\"), Document(metadata={'page': 17, 'source': '/content/drive/MyDrive/NLP_Project/cybersecuirty_sb_factsheets_all.pdf'}, page_content='CYBERSECURITY FOR SMALL BUSINESS WHAT TO DO IF YOUR EMAIL IS SPOOFED Email authentication helps keep your business’s email from being used in phishing schemes because it notifies you if someone spoofs your company’s email. If you get that notification, take these actions: Report it Report the scam to local law enforcement, the FBI’s Internet Crime Complaint Center at IC3.gov, and the FTC at FTC.gov/Complaint. Y ou also can forward phishing emails to spam@uce.gov (an address used by the FTC) and to reportphishing@apwg.org (an address used by the Anti-Phishing Working Group, which includes ISPs, security vendors, financial institutions, and law enforcement agencies). Notify your customers If you find out scammers are impersonating your business, tell your customers as soon as possible — by mail, email, or social media. If you email your customers, send an email without hyperlinks: you don’t want your notification email to look like a phishing scam. Remind customers not to share any'), Document(metadata={'page': 17, 'source': '/content/drive/MyDrive/NLP_Project/cybersecuirty_sb_factsheets_all.pdf'}, page_content='CYBERSECURITY FOR SMALL BUSINESS WHAT TO DO IF YOUR EMAIL IS SPOOFED Email authentication helps keep your business’s email from being used in phishing schemes because it notifies you if someone spoofs your company’s email. If you get that notification, take these actions: Report it Report the scam to local law enforcement, the FBI’s Internet Crime Complaint Center at IC3.gov, and the FTC at FTC.gov/Complaint. Y ou also can forward phishing emails to spam@uce.gov (an address used by the FTC) and to reportphishing@apwg.org (an address used by the Anti-Phishing Working Group, which includes ISPs, security vendors, financial institutions, and law enforcement agencies). Notify your customers If you find out scammers are impersonating your business, tell your customers as soon as possible — by mail, email, or social media. If you email your customers, send an email without hyperlinks: you don’t want your notification email to look like a phishing scam. Remind customers not to share any')]\n",
      "\n",
      "</s>\n",
      "<|user|>\n",
      " What are some common characteristics of phishing emails that users should be aware of?\n",
      "</s>\n",
      "<|assistant|>\n",
      "Here are some common characteristics of phishing emails that users should be aware of:\n",
      "\n",
      "* **Sender's email address does not match his signature:** The sender's email address may be slightly different from the one listed in their signature.\n",
      "* **Suspicious email domain:** The email domain may look suspicious or unfamiliar.\n",
      "* **Questionable or unwanted subject:** The subject of the email may be questionable or unwanted.\n",
      "* **Unpersonal salutation:** The email may not address the recipient personally with their name and surname. \n",
      "\n",
      "\n",
      "\n",
      "\n",
      "Cosine Similarity (Groundedness): 0.7559\n",
      "\n",
      "Speed: 7.9269 seconds\n",
      "\n",
      "Please rate the accuracy of the response (1 to 5): 4\n",
      "\n",
      "--------------------------------------------------\n",
      "\n",
      "Ask a question (or type 'end' to finish): How does the \"zero trust\" security model differ from traditional network security approaches?\n",
      "\n",
      "Response: \n",
      "<|system|>\n",
      "You are an assistant for question-answering tasks. Use the following pieces of retrieved context to answer the question. If you don't know the answer, say that you don't know. Do not provide links in responses and make responses structured\n",
      "\n",
      "[Document(metadata={'page': 9, 'source': '/content/drive/MyDrive/NLP_Project/Cybersecurity-Handbook-English-version.pdf'}, page_content='untrustworthy. Each of the above must be authenticated and then explicitly authorized with the minimum required privileges. • “Assume breach” : It is considered that the corporate devices and network may have already been compromised by a malicious actor. The \"deny-by-default\" principle applies to every user, device, application, and data access request. Access is granted after multiple parameters are thoroughly examined (e.g., username, device name and location, time, previously recorded user behavior, etc.). The zero trust approach incorporates highly detailed monitoring procedures. All access requests, configuration changes and network traffic are maintained in log files, which are constantly automatically monitored for suspicious activity. The model recognizes that any access approval to critical resources carries risks and requires immediate incident preparedness, damage assessment, and operational recovery. 2 National Security Agency, (February 2021). Embracing a Zero Trust'), Document(metadata={'page': 10, 'source': '/content/drive/MyDrive/NLP_Project/Cybersecurity-Handbook-English-version.pdf'}, page_content=\"Figure 2 Example of a “zero trust” architecture Source:https://media.defense.gov/2021/Feb/25/2002588479/1/1/0/CSI_EMBRACING_ZT_SECURITY_MODEL_UOO115131-21.PDF Figure 2 shows an example of a zero trust application, where the attacker has compromised the credentials of a legitimate user and is trying to gain access to the organization's systems.\"), Document(metadata={'page': 9, 'source': '/content/drive/MyDrive/NLP_Project/Cybersecurity-Handbook-English-version.pdf'}, page_content='to critical resources carries risks and requires immediate incident preparedness, damage assessment, and operational recovery. 2 National Security Agency, (February 2021). Embracing a Zero Trust Security Model. U.S.A. Available from: https://media.defense.gov/2021/ Feb/25/2002588479/1/1/0/CSI_ EMBRACING_ZT_SECURITY_MODEL_ UOO115131-21.PDF. THE “ZERO TRUST” ARCHITECTURE')]\n",
      "\n",
      "</s>\n",
      "<|user|>\n",
      "How does the \"zero trust\" security model differ from traditional network security approaches?\n",
      "</s>\n",
      "<|assistant|>\n",
      "The \"zero trust\" security model differs from traditional network security approaches in several key ways:\n",
      "\n",
      "* **Assumption of breach:** It assumes that any user, device, application, or data access request could be malicious, even if they appear legitimate.\n",
      "* **Least privilege:** Access is granted only after thorough examination of multiple parameters, including user, device, location, time, and previous behavior.\n",
      "* **Continuous monitoring:** All access requests, configuration changes, and network traffic are constantly monitored for suspicious activity.\n",
      "* **Micro-segmentation:** Network resources are segmented into smaller, isolated units to limit the impact of a breach.\n",
      "* **Multi-factor authentication:** Strong authentication methods are used to verify user identity.\n",
      "* **Dynamic access control:** Access is granted or revoked based on real-time conditions and user behavior.\n",
      "\n",
      "\n",
      "\n",
      "\n",
      "Cosine Similarity (Groundedness): 0.5677\n",
      "\n",
      "Speed: 12.0316 seconds\n",
      "\n",
      "Please rate the accuracy of the response (1 to 5): 3\n",
      "\n",
      "--------------------------------------------------\n",
      "\n",
      "Ask a question (or type 'end' to finish): Why is it important for organizations to maintain an up-to-date inventory of hardware and software assets?\n",
      "\n",
      "Response: \n",
      "<|system|>\n",
      "You are an assistant for question-answering tasks. Use the following pieces of retrieved context to answer the question. If you don't know the answer, say that you don't know. Do not provide links in responses and make responses structured\n",
      "\n",
      "[Document(metadata={'page': 13, 'source': '/content/drive/MyDrive/NLP_Project/Cybersecurity-Handbook-English-version.pdf'}, page_content='14 CYBERSECURITY HANDBOOK PART B BEST PRACTICES 1. INVENTORY OF HARDWARE AND SOFTWARE ASSETS Create an inventory of all IT assets (devices and software) hosted in the physical infrastructure of your organization as well as in cloud environments to form a complete understanding of your asset range and the required controls for their protection and maintenance. The larger an organization is, the more demanding its overall asset management (hardware and software). The assets may reside in more than one location as well as in the cloud, in a modern environment that is constantly changing and currently includes mobile devices (laptops, tablets, smartphones) as well as the dimension of teleworking. Without a system that regularly records their hardware and software assets, organizations face various types of threats: • They cannot track their legally established resources or detect any unauthorized devices that have been connected to their network. • Attackers are constantly and'), Document(metadata={'page': 14, 'source': '/content/drive/MyDrive/NLP_Project/Cybersecurity-Handbook-English-version.pdf'}, page_content='15 CYBERSECURITY HANDBOOK SUB-CONTROLS ► 1.1 Develop and document: • an asset inventory policy that addresses purpose, scope, roles and responsibilities, • procedures for implementing the policy and the relevant protection measures. ► 1.2 Create and maintain an accurate and updated inventory of all IT assets (hardware and software) that are hosted in the organization premises as well as in cloud environments. The inventory must include details such as name, owner, IP address (if static), MAC address, version, function description, location, etc. ► 1.3 Appoint an owner for each asset in the inventory, so that there is responsibility and accountability throughout the asset life cycle. ► 1.4 Classify the assets into distinct groups according to their criticality and sensitivity for business operations. ► 1.5 Develop and document a policy and procedures for the use of removable media (USB, external hard drives, CDs, DVDs). This policy must be consistent with the security risks that your'), Document(metadata={'page': 4, 'source': '/content/drive/MyDrive/NLP_Project/cybersecuirty_sb_factsheets_all.pdf'}, page_content='flash drives, laptops, point-of-sale devices, and other equipment. Store securely When paper files or electronic devices contain sensitive information, store them in a locked cabinet or room. Limit physical access When records or devices contain sensitive data, allow access only to those who need it. Send reminders Remind employees to put paper files in locked file cabinets, log out of your network and applications, and never leave files or devices with sensitive data unattended. Keep stock Keep track of and secure any devices that collect sensitive customer information. Only keep files and data you need and know who has access to them.')]\n",
      "\n",
      "</s>\n",
      "<|user|>\n",
      "Why is it important for organizations to maintain an up-to-date inventory of hardware and software assets?\n",
      "</s>\n",
      "<|assistant|>\n",
      "Maintaining an up-to-date inventory of hardware and software assets is important for organizations because it allows them to:\n",
      "\n",
      "* Track their legally established resources.\n",
      "* Detect unauthorized devices connected to their network.\n",
      "*  Protect and maintain their assets. \n",
      "\n",
      "\n",
      "Cosine Similarity (Groundedness): 0.6827\n",
      "\n",
      "Speed: 5.4688 seconds\n",
      "\n",
      "Please rate the accuracy of the response (1 to 5): 3\n",
      "\n",
      "--------------------------------------------------\n",
      "\n",
      "Ask a question (or type 'end' to finish): How can email authentication technology prevent phishing scams?\n",
      "\n",
      "Response: \n",
      "<|system|>\n",
      "You are an assistant for question-answering tasks. Use the following pieces of retrieved context to answer the question. If you don't know the answer, say that you don't know. Do not provide links in responses and make responses structured\n",
      "\n",
      "[Document(metadata={'page': 16, 'source': '/content/drive/MyDrive/NLP_Project/cybersecuirty_sb_factsheets_all.pdf'}, page_content='CYBERSECURITY FOR SMALL BUSINESS EMAIL AUTHENTICATION Email authentication technology makes it a lot harder for a scammer to send phishing emails that look like they’re from your company. Using email authentication technology makes it a lot harder for scammers to send phishing emails. This technology allows a receiving server to verify an email from your company and block emails from an imposter — or send them to a quarantine folder and then notify you about them. WHAT TO KNOW Some web host providers let you set up your company’s business email using your domain name (which you may think of as your website name). Y our domain name might look like this: yourbusiness.com. And your email may look like this: name@yourbusiness.com. Without email authentication, scammers can use that domain name to send emails that look like they’re from your business. If your business email uses your company’s domain name, make sure that your email provider has these three email authentication tools: Sender'), Document(metadata={'page': 16, 'source': '/content/drive/MyDrive/NLP_Project/cybersecuirty_sb_factsheets_all.pdf'}, page_content='CYBERSECURITY FOR SMALL BUSINESS EMAIL AUTHENTICATION Email authentication technology makes it a lot harder for a scammer to send phishing emails that look like they’re from your company. Using email authentication technology makes it a lot harder for scammers to send phishing emails. This technology allows a receiving server to verify an email from your company and block emails from an imposter — or send them to a quarantine folder and then notify you about them. WHAT TO KNOW Some web host providers let you set up your company’s business email using your domain name (which you may think of as your website name). Y our domain name might look like this: yourbusiness.com. And your email may look like this: name@yourbusiness.com. Without email authentication, scammers can use that domain name to send emails that look like they’re from your business. If your business email uses your company’s domain name, make sure that your email provider has these three email authentication tools: Sender'), Document(metadata={'page': 17, 'source': '/content/drive/MyDrive/NLP_Project/cybersecuirty_sb_factsheets_all.pdf'}, page_content='CYBERSECURITY FOR SMALL BUSINESS WHAT TO DO IF YOUR EMAIL IS SPOOFED Email authentication helps keep your business’s email from being used in phishing schemes because it notifies you if someone spoofs your company’s email. If you get that notification, take these actions: Report it Report the scam to local law enforcement, the FBI’s Internet Crime Complaint Center at IC3.gov, and the FTC at FTC.gov/Complaint. Y ou also can forward phishing emails to spam@uce.gov (an address used by the FTC) and to reportphishing@apwg.org (an address used by the Anti-Phishing Working Group, which includes ISPs, security vendors, financial institutions, and law enforcement agencies). Notify your customers If you find out scammers are impersonating your business, tell your customers as soon as possible — by mail, email, or social media. If you email your customers, send an email without hyperlinks: you don’t want your notification email to look like a phishing scam. Remind customers not to share any')]\n",
      "\n",
      "</s>\n",
      "<|user|>\n",
      "How can email authentication technology prevent phishing scams?\n",
      "</s>\n",
      "<|assistant|>\n",
      "Email authentication technology makes it harder for scammers to send phishing emails that look like they're from your company. It allows a receiving server to verify an email from your company and block emails from an imposter. \n",
      "\n",
      "\n",
      "Cosine Similarity (Groundedness): 0.8311\n",
      "\n",
      "Speed: 4.1487 seconds\n",
      "\n",
      "Please rate the accuracy of the response (1 to 5): 2\n",
      "\n",
      "--------------------------------------------------\n",
      "\n",
      "Ask a question (or type 'end' to finish): How can organizations effectively back up data to ensure recovery after cyber incidents?\n",
      "\n",
      "Response: \n",
      "<|system|>\n",
      "You are an assistant for question-answering tasks. Use the following pieces of retrieved context to answer the question. If you don't know the answer, say that you don't know. Do not provide links in responses and make responses structured\n",
      "\n",
      "[Document(metadata={'page': 60, 'source': '/content/drive/MyDrive/NLP_Project/Cybersecurity-Handbook-English-version.pdf'}, page_content='61 CYBERSECURITY HANDBOOK 16. DATA BACKUPS Implement backup technologies and procedures to protect your systems and information against loss. Operating systems, applications and databases play a critical role in the everyday business operation and service delivery of any organization. A human error or a successful cyber attack may result in the following: • unintentional deletion of data, • ransomware infection, due to which large volumes of critical data get encrypted and thus their availability is lost, • malicious configuration changes, data corruption, accounts creation or software installation, as well as deletion of important logs. Consequently, in case of critical data loss or alteration, the continuity of business operations is at great risk. This fact makes backups a fundamental security measure for any entity. SUB-CONTROLS ► 16.1 Develop and document: • a backup policy that addresses purpose, scope, roles and responsibilities, • procedures for implementing the policy and the'), Document(metadata={'page': 65, 'source': '/content/drive/MyDrive/NLP_Project/Cybersecurity-Handbook-English-version.pdf'}, page_content='66 CYBERSECURITY HANDBOOK 18. BUSINESS CONTINUITY AND DISASTER RECOVERY Implement measures and procedures to ensure the continuity of your business operations and restoration of your systems after an adverse event or disaster. The need for the uninterrupted availability of services of a governmental or corporate entity as well as the restoration of its operations after an adverse event are requirements that must be considered when designing its information systems. Events such as denial of service attack, ransomware infection, but also natural disasters such as earthquake, fire or flood may cause temporary or even prolonged interruption of critical government or business operations. Availability and recovery requirements vary between organizations and must be determined, so that appropriate measures will be applied consistent with the risk analysis that has being performed. SUB-CONTROLS ► 18.1 Develop and document: • a business continuity and disaster recovery policy that addresses'), Document(metadata={'page': 61, 'source': '/content/drive/MyDrive/NLP_Project/Cybersecurity-Handbook-English-version.pdf'}, page_content='62 CYBERSECURITY HANDBOOK ► 16.6 Perform a data restoration process on a regular basis to ensure that backups are working properly. ► 16.7 Maintain backup copies in geographically dispersed locations.')]\n",
      "\n",
      "</s>\n",
      "<|user|>\n",
      "How can organizations effectively back up data to ensure recovery after cyber incidents?\n",
      "</s>\n",
      "<|assistant|>\n",
      "Organizations can effectively back up data to ensure recovery after cyber incidents by:\n",
      "\n",
      "* **Performing regular data restoration processes:** This ensures that backups are working properly and that data can be restored quickly and efficiently in case of an incident.\n",
      "* **Maintaining backup copies in geographically dispersed locations:** This helps to protect against data loss due to natural disasters or other events that may affect a single location. \n",
      "\n",
      "\n",
      "Cosine Similarity (Groundedness): 0.6075\n",
      "\n",
      "Speed: 5.8488 seconds\n",
      "\n",
      "Please rate the accuracy of the response (1 to 5): 3\n",
      "\n",
      "--------------------------------------------------\n",
      "\n",
      "Ask a question (or type 'end' to finish):  What are the main risks of using public Wi-Fi networks, and what precautions should employees take when connecting to them?\n",
      "\n",
      "Response: \n",
      "<|system|>\n",
      "You are an assistant for question-answering tasks. Use the following pieces of retrieved context to answer the question. If you don't know the answer, say that you don't know. Do not provide links in responses and make responses structured\n",
      "\n",
      "[Document(metadata={'page': 23, 'source': '/content/drive/MyDrive/NLP_Project/cybersecuirty_sb_factsheets_all.pdf'}, page_content='employees to use. WHAT TO DO TO MAINTAIN SECURITY Include information on secure remote access in regular trainings and new staff orientations. Have policies covering basic cybersecurity, give copies to your employees, and explain the importance of following them. Before letting any device — whether at an employee’s home or on a vendor’s network — connect to your network, make sure it meets your network’s security requirements. Tell your staff about the risks of public Wi-Fi. Train your staff: Give your staff tools that will help maintain security: • Require employees to use unique, complex network passwords and avoid unattended, open workstations. • Require multi-factor authentication to access areas of your network that have sensitive information. This requires additional steps beyond logging in with a password — like a temporary code on a smartphone or a k ey that’s inserted into a computer. • If you offer Wi-Fi on your business premises for guests and customers, make sure it’s'), Document(metadata={'page': 23, 'source': '/content/drive/MyDrive/NLP_Project/cybersecuirty_sb_factsheets_all.pdf'}, page_content='employees to use. WHAT TO DO TO MAINTAIN SECURITY Include information on secure remote access in regular trainings and new staff orientations. Have policies covering basic cybersecurity, give copies to your employees, and explain the importance of following them. Before letting any device — whether at an employee’s home or on a vendor’s network — connect to your network, make sure it meets your network’s security requirements. Tell your staff about the risks of public Wi-Fi. Train your staff: Give your staff tools that will help maintain security: • Require employees to use unique, complex network passwords and avoid unattended, open workstations. • Require multi-factor authentication to access areas of your network that have sensitive information. This requires additional steps beyond logging in with a password — like a temporary code on a smartphone or a k ey that’s inserted into a computer. • If you offer Wi-Fi on your business premises for guests and customers, make sure it’s'), Document(metadata={'page': 42, 'source': '/content/drive/MyDrive/NLP_Project/Cybersecurity-Handbook-English-version.pdf'}, page_content=\"may send a fraudulent email to the teleworking employee, which will contain either a malicious attachment or a link to a malicious website, attempting to infect the user's computer with malware (e.g. ransomware) or to collect the user's credentials, • Breaches in public Wi-Fi networks : an attacker may spoof a Wi-Fi network by creating another network with the same SSID name. By this way he can steal the credentials of unsuspecting users who telework outdoors. He may also intercept network traffic as well as enter his own messages to the network and thus alter the data with the final aim to gain access to the organizational network, • Weak security settings: the employee works from home most times by using his own personal device (desktop PC or laptop) and thus by possibly applying insecure measures and behavior, such as weak passwords, unpatched applications, a single user account with administrative privileges, not backing up data and many more. The protection measures listed below\")]\n",
      "\n",
      "</s>\n",
      "<|user|>\n",
      " What are the main risks of using public Wi-Fi networks, and what precautions should employees take when connecting to them?\n",
      "</s>\n",
      "<|assistant|>\n",
      "Here are the main risks of using public Wi-Fi networks and precautions employees should take:\n",
      "\n",
      "**Risks:**\n",
      "\n",
      "* **Malware Infection:**  A malicious email could be sent to a teleworking employee, containing a malicious attachment or a link to a malicious website. This could infect the employee's computer with malware, such as ransomware, or steal their credentials.\n",
      "* **Credential Theft:**  An attacker could intercept network traffic and steal the employee's credentials.\n",
      "* **Spoofed Wi-Fi Networks:** An attacker could create a fake Wi-Fi network with the same name as a legitimate one, tricking users into connecting to it. This allows them to steal credentials.\n",
      "* **Network Traffic Manipulation:** An attacker could intercept network traffic and insert their own messages, altering the data and potentially gaining access to the organizational network.\n",
      "\n",
      "**Precautions:**\n",
      "\n",
      "* **Avoid Public Wi-Fi:** If possible, avoid using public Wi-Fi networks for sensitive tasks.\n",
      "* **Use a VPN:**  A Virtual Private Network (VPN) encrypts your internet traffic, making it more difficult for attackers to intercept your data.\n",
      "* **Be Cautious of Links and Attachments:**  Don't click on links or open attachments from unknown sources.\n",
      "* **Use Strong Passwords:**  Use unique, complex passwords for all your accounts.\n",
      "* **Enable Multi-Factor Authentication:**  Whenever possible, enable multi-factor authentication for accounts with sensitive information.\n",
      "* **Use a Secure Device:**  Ensure your device is up-to-date with the latest security patches.\n",
      "* **Be Aware of Your Surroundings:**  Be aware of your surroundings when using public Wi-Fi. \n",
      "\n",
      "\n",
      "Cosine Similarity (Groundedness): 0.7320\n",
      "\n",
      "Speed: 23.8664 seconds\n",
      "\n",
      "Please rate the accuracy of the response (1 to 5): 5\n",
      "\n",
      "--------------------------------------------------\n",
      "\n",
      "Ask a question (or type 'end' to finish): What are the primary security risks associated with removable devices like USBs, and how can these risks be minimized?\n",
      "\n",
      "Response: \n",
      "<|system|>\n",
      "You are an assistant for question-answering tasks. Use the following pieces of retrieved context to answer the question. If you don't know the answer, say that you don't know. Do not provide links in responses and make responses structured\n",
      "\n",
      "[Document(metadata={'page': 36, 'source': '/content/drive/MyDrive/NLP_Project/Cybersecurity-Handbook-English-version.pdf'}, page_content='to files and server processes, • unsuccessful file execution attempts, • special privileges usage and usage attempts, • system files usage, • changes in user accounts and in the security policy, • HTTP(S) and DNS requests, • data transfer to and from portable storage media. WHAT ARE THE RISKS?'), Document(metadata={'page': 4, 'source': '/content/drive/MyDrive/NLP_Project/cybersecuirty_sb_factsheets_all.pdf'}, page_content='flash drives, laptops, point-of-sale devices, and other equipment. Store securely When paper files or electronic devices contain sensitive information, store them in a locked cabinet or room. Limit physical access When records or devices contain sensitive data, allow access only to those who need it. Send reminders Remind employees to put paper files in locked file cabinets, log out of your network and applications, and never leave files or devices with sensitive data unattended. Keep stock Keep track of and secure any devices that collect sensitive customer information. Only keep files and data you need and know who has access to them.'), Document(metadata={'page': 4, 'source': '/content/drive/MyDrive/NLP_Project/cybersecuirty_sb_factsheets_all.pdf'}, page_content='flash drives, laptops, point-of-sale devices, and other equipment. Store securely When paper files or electronic devices contain sensitive information, store them in a locked cabinet or room. Limit physical access When records or devices contain sensitive data, allow access only to those who need it. Send reminders Remind employees to put paper files in locked file cabinets, log out of your network and applications, and never leave files or devices with sensitive data unattended. Keep stock Keep track of and secure any devices that collect sensitive customer information. Only keep files and data you need and know who has access to them.')]\n",
      "\n",
      "</s>\n",
      "<|user|>\n",
      "What are the primary security risks associated with removable devices like USBs, and how can these risks be minimized?\n",
      "</s>\n",
      "<|assistant|>\n",
      "Here are the primary security risks associated with removable devices like USBs:\n",
      "\n",
      "* **Unsecured File Transfer:**  USBs can be used to transfer sensitive data to and from unauthorized sources.\n",
      "* **Malware Infection:**  USBs can be infected with malware that can be spread to other devices.\n",
      "* **Data Theft:**  Data stored on USBs can be stolen by malicious actors.\n",
      "* **System Compromise:**  USBs can be used to gain unauthorized access to a system.\n",
      "\n",
      "**Minimizing Risks:**\n",
      "\n",
      "* **Secure Storage:**  Store USBs in a locked cabinet or room.\n",
      "* **Limit Access:**  Only allow access to USBs to authorized personnel.\n",
      "* **Data Encryption:**  Encrypt data on USBs to prevent unauthorized access.\n",
      "* **Scanning Devices:**  Scan USBs for malware before connecting them to a computer.\n",
      "* **Avoid Public USBs:**  Avoid using public USBs as they may be infected with malware.\n",
      "* **Regular Updates:**  Keep your operating system and software up-to-date to patch security vulnerabilities. \n",
      "\n",
      "\n",
      "Cosine Similarity (Groundedness): 0.6218\n",
      "\n",
      "Speed: 15.0690 seconds\n",
      "\n",
      "Please rate the accuracy of the response (1 to 5): 5\n",
      "\n",
      "--------------------------------------------------\n",
      "\n",
      "Ask a question (or type 'end' to finish): What are the key considerations for organizations when implementing a bring your own device (BYOD) policy?\n",
      "\n",
      "Response: \n",
      "<|system|>\n",
      "You are an assistant for question-answering tasks. Use the following pieces of retrieved context to answer the question. If you don't know the answer, say that you don't know. Do not provide links in responses and make responses structured\n",
      "\n",
      "[Document(metadata={'page': 14, 'source': '/content/drive/MyDrive/NLP_Project/Cybersecurity-Handbook-English-version.pdf'}, page_content='operations. ► 1.5 Develop and document a policy and procedures for the use of removable media (USB, external hard drives, CDs, DVDs). This policy must be consistent with the security risks that your systems and data face and must cover: • the acceptable uses and types of portable media, • the requirements for the protection of portable media and their content, • the requirements for reporting a lost or stolen portable device, • the requirements for the removal, destruction or disposal of portable media. ► 1.6 Ensure that the proprietary mobile devices (laptops, tablets, smartphones) that employees bring to their working environment (\"bring your own device\") do not have access to critical or sensitive enterprise systems. ► 1.7 Ensure that the proprietary mobile devices (laptops, tablets, smartphones) that employees bring to their working environment (\"bring your own device\") access the Internet through a network that is strictly separated from the enterprise network.'), Document(metadata={'page': 23, 'source': '/content/drive/MyDrive/NLP_Project/cybersecuirty_sb_factsheets_all.pdf'}, page_content='employees to use. WHAT TO DO TO MAINTAIN SECURITY Include information on secure remote access in regular trainings and new staff orientations. Have policies covering basic cybersecurity, give copies to your employees, and explain the importance of following them. Before letting any device — whether at an employee’s home or on a vendor’s network — connect to your network, make sure it meets your network’s security requirements. Tell your staff about the risks of public Wi-Fi. Train your staff: Give your staff tools that will help maintain security: • Require employees to use unique, complex network passwords and avoid unattended, open workstations. • Require multi-factor authentication to access areas of your network that have sensitive information. This requires additional steps beyond logging in with a password — like a temporary code on a smartphone or a k ey that’s inserted into a computer. • If you offer Wi-Fi on your business premises for guests and customers, make sure it’s'), Document(metadata={'page': 23, 'source': '/content/drive/MyDrive/NLP_Project/cybersecuirty_sb_factsheets_all.pdf'}, page_content='employees to use. WHAT TO DO TO MAINTAIN SECURITY Include information on secure remote access in regular trainings and new staff orientations. Have policies covering basic cybersecurity, give copies to your employees, and explain the importance of following them. Before letting any device — whether at an employee’s home or on a vendor’s network — connect to your network, make sure it meets your network’s security requirements. Tell your staff about the risks of public Wi-Fi. Train your staff: Give your staff tools that will help maintain security: • Require employees to use unique, complex network passwords and avoid unattended, open workstations. • Require multi-factor authentication to access areas of your network that have sensitive information. This requires additional steps beyond logging in with a password — like a temporary code on a smartphone or a k ey that’s inserted into a computer. • If you offer Wi-Fi on your business premises for guests and customers, make sure it’s')]\n",
      "\n",
      "</s>\n",
      "<|user|>\n",
      "What are the key considerations for organizations when implementing a bring your own device (BYOD) policy?\n",
      "</s>\n",
      "<|assistant|>\n",
      "Here are the key considerations for organizations when implementing a BYOD policy:\n",
      "\n",
      "* **Security:** Ensure that proprietary mobile devices (laptops, tablets, smartphones) that employees bring to their working environment (\"bring your own device\") do not have access to critical or sensitive enterprise systems.\n",
      "* **Network Separation:**  Ensure that proprietary mobile devices access the Internet through a network that is strictly separated from the enterprise network.\n",
      "* **Security Requirements:**  Before letting any device connect to the network, make sure it meets your network's security requirements.\n",
      "* **Training:** Provide regular training on cybersecurity best practices and the importance of following BYOD policies.\n",
      "* **Password Security:** Require employees to use unique, complex network passwords and avoid unattended, open workstations.\n",
      "* **Multi-Factor Authentication:** Require multi-factor authentication to access areas of the network that have sensitive information. \n",
      "* **Public Wi-Fi Awareness:**  Train staff about the risks of public Wi-Fi and encourage the use of secure connections. \n",
      "\n",
      "\n",
      "Cosine Similarity (Groundedness): 0.7733\n",
      "\n",
      "Speed: 14.6110 seconds\n",
      "\n",
      "Please rate the accuracy of the response (1 to 5): 5\n",
      "\n",
      "--------------------------------------------------\n",
      "\n",
      "Ask a question (or type 'end' to finish):  Describe the Entry Point Obscuring (EPO) technique used by some viruses and why it's effective against antivirus systems.\n",
      "\n",
      "Response: \n",
      "<|system|>\n",
      "You are an assistant for question-answering tasks. Use the following pieces of retrieved context to answer the question. If you don't know the answer, say that you don't know. Do not provide links in responses and make responses structured\n",
      "\n",
      "[Document(metadata={'page': 6, 'source': '/content/drive/MyDrive/NLP_Project/malware.pdf'}, page_content='tryPoint ﬁeld in the Optional Header, so that it points to the start of the virus code. With this approach, it is usual for the virus code to be constructed so that the “original” code is executed after the virus code, as indicated in the examples of Figure 5. In this way, the executable appears to have the usual eﬀect and the user does not get suspicious. Directly changing the AddressOfEntryPoint ﬁeld is such an obvious idea that most an- tivirus systems check whether the beginning of the code is in a section which should not contain executable code or contains known patterns from a database of viral code. In an Entry Point Obscuring (EPO) virus, a more sophisticated technique is adopted in order to hide what is going on. Some possibilities, roughly in order of increasing complexity, are: • Insert a JUMP instruction somewhere in the executable’s code, to cause a jump to the start of the virus code. 6'), Document(metadata={'page': 7, 'source': '/content/drive/MyDrive/NLP_Project/malware.pdf'}, page_content='imported functions, so that one of the entries in the table is replaced by the address of the start of the virus code. When the infected executable calls the relevant function, it starts the virus code instead. Once again, in order to prevent users becoming suspicious, the virus must call the original function once its own execution is completed. Detection of EPO vira is a challenge, as the inserted or modiﬁed JUMP or CALL instruc- tions can in principle be placed anywhere within the code. Searching through the ﬁle and checking all the JUMP and CALL instructions to see whether they activate viral code can be a slow process. The other eﬀective way to detect the presence of the virus is to emulate the execution of the program and see whether it would actually cause any damaging eﬀects. This is also slow, and can be fooled by a clever virus designer who includes random choices in the virus, so that it does not have a malicious eﬀect every time it is activated. It is exactly this problem'), Document(metadata={'page': 7, 'source': '/content/drive/MyDrive/NLP_Project/malware.pdf'}, page_content='is also slow, and can be fooled by a clever virus designer who includes random choices in the virus, so that it does not have a malicious eﬀect every time it is activated. It is exactly this problem with EPO vira which has led to the development of antivirus systems which rely on detection of malicious behaviour rather than recognition of signatures. This approach will be dealt with in more detail in Section 6.3 below. A variant of the EPO approach is for the actual viral code to be kept in a library ﬁle (a shared library or a DLL) which the infected executable will call. The changes to the infected ﬁle can in this way be kept to a minimum: a pointer to the malicious library needs to be inserted in the import tables, and a CALL instruction must be inserted somewhere in the executable. This technique is used, for example, by the COK variant (2005) of the BackDoor virus (actually a Trojan horse) which deposits a DLL called spool.dll and then injects code into all processes running on')]\n",
      "\n",
      "</s>\n",
      "<|user|>\n",
      " Describe the Entry Point Obscuring (EPO) technique used by some viruses and why it's effective against antivirus systems.\n",
      "</s>\n",
      "<|assistant|>\n",
      "The Entry Point Obscuring (EPO) technique is used by some viruses to hide their malicious code. Here's how it works:\n",
      "\n",
      "* **Hiding the Entry Point:**  EPO viruses modify the executable's code to point to the start of the virus code instead of the original entry point. This is done by inserting a JUMP instruction or modifying existing instructions.\n",
      "* **Mimicking Normal Behavior:** The virus then executes its own code, making it appear as if the program is functioning normally.\n",
      "* **Preventing Detection:**  Antivirus systems typically rely on signature-based detection, meaning they look for specific patterns or code sequences that indicate a virus. EPO viruses make it difficult to detect because the virus code is hidden within the legitimate code.\n",
      "\n",
      "**Why EPO is Effective:**\n",
      "\n",
      "* **Antivirus Signature Limitations:**  Antivirus systems often rely on databases of known virus signatures. EPO viruses can easily evade detection by changing the code to avoid matching any known signatures.\n",
      "* **Difficult to Detect:**  The insertion of JUMP instructions or CALL instructions can be placed anywhere within the code, making it difficult to find and analyze the virus code.\n",
      "* **Randomized Behavior:**  EPO viruses can be designed to include random code, making it even harder to detect.\n",
      "\n",
      "\n",
      "Let me know if you have any other questions. \n",
      "\n",
      "\n",
      "Cosine Similarity (Groundedness): 0.8239\n",
      "\n",
      "Speed: 18.4917 seconds\n",
      "\n",
      "Please rate the accuracy of the response (1 to 5): 5\n",
      "\n",
      "--------------------------------------------------\n",
      "\n",
      "Ask a question (or type 'end' to finish): How do logic bombs operate, and what typically triggers their activation?\n",
      "\n",
      "Response: \n",
      "<|system|>\n",
      "You are an assistant for question-answering tasks. Use the following pieces of retrieved context to answer the question. If you don't know the answer, say that you don't know. Do not provide links in responses and make responses structured\n",
      "\n",
      "[Document(metadata={'page': 10, 'source': '/content/drive/MyDrive/NLP_Project/malware.pdf'}, page_content='are: 1. To exploit the targets in order to cause a Distributed DoS attack on a chosen system. Example: Apache/mod ssl (2002) 2. Website defacement on the targets, which are chosen to be web servers. Example: Perl.Santy (2004), which overwrote all ﬁl es with extensions .asp, .htm, .jsp, .php, .phtm and .shtm on the server, so they all produced the text “This site is defaced!!! NeverEverNoSanity WebWorm generation xx”. 3. Installation of a keylogger to track the user’s input, typically in order to pick up passwords, PIN codes, credit card numbers or other conﬁdential information, and to 10'), Document(metadata={'page': 18, 'source': '/content/drive/MyDrive/NLP_Project/malware.pdf'}, page_content='system uses the anomaly detection or misuse detection approach, these sequences may be found from: • Statistical observations, deﬁning what is “normal behaviour” in a statistical sense; • Models describing the permitted behaviour of the system, for example as a set of traces (event sequences) which the system may exhibit, or as a Finite State Automa- ton or Push-down Automaton. The set oftraces or the FSA or PDA can for example be derived from a policy describing the allowed behaviour [8], or from the CFGs of the programs in the system; • Models describing possible modes of misbehaviour of the system; • Heuristics. For example, in the system described by Forrest et al. [16], a statistical model (actually a Hidden Markov model) is built up for normal behaviour. Observed sequences of behaviour which are very improbable according to the Markov model are considered suspicious. Several commercial anti-malware systems include this type of detection mechanism as one of their elements. The'), Document(metadata={'page': 18, 'source': '/content/drive/MyDrive/NLP_Project/malware.pdf'}, page_content='suspicious activities or patterns of activity cause an alarm. This is basically very similar to what is done in a host-based intrusion detection system (HIDS), and behavioural malware detection may indeed be incorporated in a HIDS. Behavioural systems, like IDSs, fall into two classes, depending on whether they take a positive or negative view of things as their starting point. The two approaches are: Misuse detection: Systems which follow this approach build up a model of known pat- terns of misuse. Any pattern of behaviour described by the model is classiﬁed as suspicious. Anomaly detection: Systems which follow this approach build up a model of the normal behaviour of the system. Any pattern of behaviour not described by the model is classiﬁed as suspicious. Individual activities which might typically be considered interesting to monitor include: • Attempts to format disc drives or perform other irreversible disc operations. • Attempts to open or delete ﬁles. • Attempts to modify')]\n",
      "\n",
      "</s>\n",
      "<|user|>\n",
      "How do logic bombs operate, and what typically triggers their activation?\n",
      "</s>\n",
      "<|assistant|>\n",
      "This document does not contain information about how logic bombs operate or what typically triggers their activation. \n",
      "\n",
      "\n",
      "Cosine Similarity (Groundedness): 0.6736\n",
      "\n",
      "Speed: 2.8700 seconds\n",
      "\n",
      "Please rate the accuracy of the response (1 to 5): 2\n",
      "\n",
      "--------------------------------------------------\n",
      "\n",
      "Ask a question (or type 'end' to finish): What role does employee training play in preventing phishing attacks and other social engineering threats?\n",
      "\n",
      "Response: \n",
      "<|system|>\n",
      "You are an assistant for question-answering tasks. Use the following pieces of retrieved context to answer the question. If you don't know the answer, say that you don't know. Do not provide links in responses and make responses structured\n",
      "\n",
      "[Document(metadata={'page': 50, 'source': '/content/drive/MyDrive/NLP_Project/Cybersecurity-Handbook-English-version.pdf'}, page_content='51 CYBERSECURITY HANDBOOK 12. CYBERSECURITY SKILLS AND AWARENESS TRAINING Implement training programs on a regular basis, to improve the skills and awareness of your employees on cybersecurity issues. Employees play a critical role in the security of network and information systems. The lack of training and corresponding responsibility for this issue poses various types of threats to the organizations: • Social engineering attacks : due to the improvement of protection technologies in recent years, attackers are now targeting the greatest vulnerability, which is the human factor. Today, most cyber attacks start with a phishing email, which contains either a malicious attachment or a link to a malicious website. If the user is deceived, then in both cases the attacker may gain full control of the organizational systems. • Insider threat: disgruntled employees may disclose critical corporate data, as well as cause deliberate deletion or other damage to an entity’s resources. • Portable'), Document(metadata={'page': 9, 'source': '/content/drive/MyDrive/NLP_Project/cybersecuirty_sb_factsheets_all.pdf'}, page_content='in your regular training. Deploy a safety net Use email authentication technology to help prevent phishing emails from reaching your company’s inboxes in the first place. WHAT IF YOU FALL FOR A PHISHING SCHEME Alert others Talk to your colleagues and share your experience. Phishing attacks often happen to more than one person in a company. Limit the damage Immediately change any compromised passwords and disconnect from the network any computer or device that’s infected with malware. Follow your company’s procedures These may include notifying specific people in your organization or contractors that help you with IT. Notify customers If your data or personal information was compromised, make sure you notify the affected parties — they could be at risk of identity theft. Find information on how to do that at Data Breach Response: A Guide for Business (FTC.gov/DataBreach). Report it Forward phishing emails to spam@uce. gov (an address used by the FT C) and to reportphishing@apwg.org (an'), Document(metadata={'page': 9, 'source': '/content/drive/MyDrive/NLP_Project/cybersecuirty_sb_factsheets_all.pdf'}, page_content='in your regular training. Deploy a safety net Use email authentication technology to help prevent phishing emails from reaching your company’s inboxes in the first place. WHAT IF YOU FALL FOR A PHISHING SCHEME Alert others Talk to your colleagues and share your experience. Phishing attacks often happen to more than one person in a company. Limit the damage Immediately change any compromised passwords and disconnect from the network any computer or device that’s infected with malware. Follow your company’s procedures These may include notifying specific people in your organization or contractors that help you with IT. Notify customers If your data or personal information was compromised, make sure you notify the affected parties — they could be at risk of identity theft. Find information on how to do that at Data Breach Response: A Guide for Business (FTC.gov/DataBreach). Report it Forward phishing emails to spam@uce. gov (an address used by the FT C) and to reportphishing@apwg.org (an')]\n",
      "\n",
      "</s>\n",
      "<|user|>\n",
      "What role does employee training play in preventing phishing attacks and other social engineering threats?\n",
      "</s>\n",
      "<|assistant|>\n",
      "Employee training is crucial in preventing phishing attacks and other social engineering threats.  It helps employees understand the risks and how to identify and avoid them.  Specifically, training can:\n",
      "\n",
      "* **Increase awareness:**  Employees learn about common phishing tactics and how to recognize suspicious emails, links, and attachments.\n",
      "* **Develop skills:** Training provides employees with the skills to identify and report phishing attempts, as well as to protect themselves from other social engineering attacks.\n",
      "* **Promote responsible behavior:** Training reinforces the importance of cybersecurity best practices and encourages employees to be vigilant and cautious. \n",
      "\n",
      "\n",
      "\n",
      "\n",
      "Cosine Similarity (Groundedness): 0.7575\n",
      "\n",
      "Speed: 9.4914 seconds\n",
      "\n",
      "Please rate the accuracy of the response (1 to 5): 4\n",
      "\n",
      "--------------------------------------------------\n",
      "\n",
      "Ask a question (or type 'end' to finish): What is the purpose of the insertion code in a virus, and what strategies do virus designers use for code placement?\n",
      "\n",
      "Response: \n",
      "<|system|>\n",
      "You are an assistant for question-answering tasks. Use the following pieces of retrieved context to answer the question. If you don't know the answer, say that you don't know. Do not provide links in responses and make responses structured\n",
      "\n",
      "[Document(metadata={'page': 6, 'source': '/content/drive/MyDrive/NLP_Project/malware.pdf'}, page_content='enough waste space, the malicious code can be divided among several sections, as illustrated in Figure 5(b). A common arrangement is for the largest area of waste space to be used to contain a small loader which can load the remaining pieces of the virus code as required. One of the tests used for selecting the set of victim ﬁles would then typically be that they must contain a contiguous area of waste space which is large enough to hold the virus loader. Dividing the virus code up into small pieces also helps the virus designer to avoid his virus being detected, as the antivirus system will ﬁnd it diﬃcult to recognise a signature which is spread out over several regions of the ﬁle. 3.2 Executing the Virus Code The simplest way of ensuring that the virus code is executed is to change theAddressOfEn- tryPoint ﬁeld in the Optional Header, so that it points to the start of the virus code. With this approach, it is usual for the virus code to be constructed so that the “original” code is'), Document(metadata={'page': 3, 'source': '/content/drive/MyDrive/NLP_Project/malware.pdf'}, page_content='beginv : if spread condition then for v ∈ victim ﬁles do begin if not infected(v) then determine placement for virus code(); insert instructions into((beginv . . endv),v ); modify to execute inserted instructions(v); ﬁ ; end ; ﬁ ; execute payload(); start execution of infected program(); endv : Figure 1: Code schema for a virus. As indicated by the schema, the detailed action of the virus depends on a number of strategic choices, which in general depend on the eﬀort which the virus designer is prepared to put into avoiding detection by antivirus systems: Spreading condition: The criterion for attempting to propagate the virus. For example, if the virus is to infect the computer’s boot program, this condition could be that the boot sector is uninfected. Infection strategy: The criterion for selecting the set of victim ﬁles. If executable ﬁles are to be infected, this criterion might be to select ﬁles from some standard library. If the virus is based on the use of macros, ﬁles which'), Document(metadata={'page': 3, 'source': '/content/drive/MyDrive/NLP_Project/malware.pdf'}, page_content='for selecting the set of victim ﬁles. If executable ﬁles are to be infected, this criterion might be to select ﬁles from some standard library. If the virus is based on the use of macros, ﬁles which support these macros should be looked for, etc. Code placement strategy:The rules for placing code into the victim ﬁle. The simplest strategy is of course to place it at the beginning or the end, but this is such an obvious idea that most antivirus programs would check there ﬁrst. More subtle strategies which help the virus designer to conceal his virus will be discussed below. Execution strategy: The technique chosen for forcing the computer to execute the var- ious parts of the virus and the infected program. The code to achieve this is also something which might easily be recognised by an antivirus system, and some tech- niques used to avoid detection will be discussed below. Disguise strategy: Although not seen directly in the schema, the designer may attempt to disguise the presence')]\n",
      "\n",
      "</s>\n",
      "<|user|>\n",
      "What is the purpose of the insertion code in a virus, and what strategies do virus designers use for code placement?\n",
      "</s>\n",
      "<|assistant|>\n",
      "The purpose of the insertion code in a virus is to insert instructions into the victim file. \n",
      "\n",
      "Virus designers use a variety of strategies for code placement, including:\n",
      "\n",
      "* **Placing at the beginning or end of the file:** This is a simple strategy that is easily detectable by antivirus systems.\n",
      "* **Subtle strategies:** These strategies are more complex and help the virus designer to conceal the virus. \n",
      "\n",
      "\n",
      "Cosine Similarity (Groundedness): 0.8489\n",
      "\n",
      "Speed: 6.5602 seconds\n",
      "\n",
      "Please rate the accuracy of the response (1 to 5): 3\n",
      "\n",
      "--------------------------------------------------\n",
      "\n",
      "Ask a question (or type 'end' to finish): What are rootkits, and how do they allow attackers to maintain control over infected systems?\n",
      "\n",
      "Response: \n",
      "<|system|>\n",
      "You are an assistant for question-answering tasks. Use the following pieces of retrieved context to answer the question. If you don't know the answer, say that you don't know. Do not provide links in responses and make responses structured\n",
      "\n",
      "[Document(metadata={'page': 1, 'source': '/content/drive/MyDrive/NLP_Project/malware.pdf'}, page_content='An Introduction to Malware Robin Sharp Spring 2007 Abstract These notes, intended for use in DTU course 02233 on Network Security, give a short introduction to the topic of malware. The most important types of malware are described, together with their basic principles of operation and dissemination, and defenses against malware are discussed. 1 Some Deﬁnitions Malware is a general term for all types of malicious software, which in the context of computer security means: Software which is used with the aim of attempting to breach a computer system’s security policy with respect to Conﬁdentiality, Integrity or Availability. The term software should here be understood in the broadest sense, as the malicious eﬀect may make use of executable code, interpreted code, scripts, macros etc. The computer system whose security policy is attempted breached is usually known as the target for the malware. We shall use the term the initiator of the malware to denote the subject who originally'), Document(metadata={'page': 19, 'source': '/content/drive/MyDrive/NLP_Project/Cybersecurity-Handbook-English-version.pdf'}, page_content='for vulnerable versions of software. Then, by executing the appropriate commands, they exploit the vulnerabilities and can gain access to the system. In many cases the breach occurs due to vulnerable applications that were installed without the business need to do so. • In recent years, due to the improvement of mitigation measures for malware detection and blocking, attackers use a new and more sophisticated technique, the so-called fileless attacks . The term derives from the fact that in this case the malicious code runs directly in memory and does not create an executable file saved in the hard drive, so in most cases the antivirus cannot detect the attack. Most of these attacks start with a phishing email that seeks to lure the victim to open the attached file or click the link contained in the mail message. In the latter case, the victim is usually redirected to a fake webpage which mimics the legitimate one and asks for credentials. In the former case, when the user opens the'), Document(metadata={'page': 33, 'source': '/content/drive/MyDrive/NLP_Project/Cybersecurity-Handbook-English-version.pdf'}, page_content='34 CYBERSECURITY HANDBOOK 7. MALWARE PROTECTION Implement technologies that detect and prevent the installation, execution, and transmission of malicious code on your network and information systems. Malware constitutes one of the top threats for network and information systems and the risks associated with its actions may vary: • Password theft, • Data theft, • Identification of additional targets within the network, • Unauthorized modification and encryption of data. Malicious code can infect systems in a variety of attack vectors, including email, malicious websites, and removable media (USB, external hard drives). Its propagation is based on vulnerabilities in the target systems but also on careless behavior of the end user, such as opening attachments and web links, installing software and inserting infected USB on PCs. For malware to be detected and removed, protection mechanisms must be applied to all input and output system points (workstations, web servers, mail servers, proxy')]\n",
      "\n",
      "</s>\n",
      "<|user|>\n",
      "What are rootkits, and how do they allow attackers to maintain control over infected systems?\n",
      "</s>\n",
      "<|assistant|>\n",
      "Rootkits are a type of malware that allows attackers to maintain control over infected systems. They operate by hiding their presence and activities from the operating system and security software. \n",
      "\n",
      "Here's how they work:\n",
      "\n",
      "* **Hiding in Plain Sight:** Rootkits disguise themselves as legitimate system components, making them difficult to detect by antivirus software or other security tools.\n",
      "* **Manipulating System Processes:** They can modify system processes, hijacking them to execute malicious code or steal data.\n",
      "* **Accessing Sensitive Data:** Rootkits can gain access to sensitive data, such as passwords, files, and network connections, without the user's knowledge.\n",
      "* **Maintaining Persistence:** They can remain on the system even after the user has removed the malware, making it difficult to completely eradicate. \n",
      "\n",
      "Essentially, rootkits provide attackers with a backdoor into the system, allowing them to remain undetected and maintain control over the infected machine. \n",
      "\n",
      "\n",
      "Cosine Similarity (Groundedness): 0.7240\n",
      "\n",
      "Speed: 13.7299 seconds\n",
      "\n",
      "Please rate the accuracy of the response (1 to 5): 5\n",
      "\n",
      "--------------------------------------------------\n",
      "\n",
      "Ask a question (or type 'end' to finish): How do botnets function, and what types of malicious activities can they be used for?\n",
      "\n",
      "Response: \n",
      "<|system|>\n",
      "You are an assistant for question-answering tasks. Use the following pieces of retrieved context to answer the question. If you don't know the answer, say that you don't know. Do not provide links in responses and make responses structured\n",
      "\n",
      "[Document(metadata={'page': 12, 'source': '/content/drive/MyDrive/NLP_Project/malware.pdf'}, page_content='control a large number of computers, which is done by installing abackdoor in each of them. The individual computers in the botnet then technically speaking become zombies since they are under remote control, but ar e in this context usually referred to simply as bots. The bots can be given orders by a controller, often known as the botmas- ter, to perform various tasks, such as sending spam mail, adware, or spyware, performing DDoS attacks or just searching for further potential targets to be enrolled in the botnet. In many cases, the botmaster oﬀers such facilities as a service to anyone who is willing to pay for it. Botnets with large numbers of bots can obtain higher prices than smaller botnets. There have been press reports of some very large botnets, such as one with 1.5 million bots controlled from Holland, and one with 10 000 bots in Norway; both of these were closed by the police. A good technical review of botnets and their method of operation can be found in reference [2].'), Document(metadata={'page': 12, 'source': '/content/drive/MyDrive/NLP_Project/malware.pdf'}, page_content='into a server thread via a buﬀer overﬂow event caused by the HTTP command shown here. Either of the transmission and activation steps may of course be unsuccessful. For example, with an e-mail worm, the e-mail containing the worm may be refused by the destination mail server (failure of the sending step), or the user may refuse to activate the attachment which will execute the worm code (failure of the execution step). Similarly, the CodeRed worm may successfully reach a Web server which does not have the vulnerability on which it depends for being executed on the target. And so on. 5B o t n e t s Botnets illustrate the specialised use of a worm or Trojan horse to set up a private com- munication infrastructure which can be used for malicious purposes. The aim of the actual botnet is to control a large number of computers, which is done by installing abackdoor in each of them. The individual computers in the botnet then technically speaking become zombies since they are under remote'), Document(metadata={'page': 13, 'source': '/content/drive/MyDrive/NLP_Project/malware.pdf'}, page_content='Regardless of how the bot code is spread, thecomputers which it reaches almost always have to sign up with a master server, after which they can be given orders. This means that the activities associated with a botnet typically fall into four phases: 1. Searching: Search to ﬁnd target hosts which look suitable for attack, typically be- cause they appear to have a known vulnerability or easily obtainable e-mail addresses which can be attacked by an e-mail worm or Trojan horse. 2. Installation: The backdoor code is propagated to the targets, where an attempt is made to install the code or persuade the user to do so, so that the targets become bots. 3. Sign-on: The bots connect to the master server and become ready to receive Com- mand and Control (C&C) traﬃc. 4. C&C: The bots receive commands from the master server and generate traﬃc di- rected towards further targets. This is illustrated in Figure 8. Each of these pha ses generates characteristic patterns of Bot Master server Proxy')]\n",
      "\n",
      "</s>\n",
      "<|user|>\n",
      "How do botnets function, and what types of malicious activities can they be used for?\n",
      "</s>\n",
      "<|assistant|>\n",
      "Botnets function by installing a backdoor on a large number of computers. These computers then become \"zombies\" under the control of a botmaster. The botmaster can then send commands to the bots, which can be used for various malicious activities such as:\n",
      "\n",
      "* **Sending spam mail**\n",
      "* **Installing adware**\n",
      "* **Installing spyware**\n",
      "* **Performing DDoS attacks**\n",
      "* **Searching for further potential targets to be enrolled in the botnet** \n",
      "\n",
      "\n",
      "\n",
      "\n",
      "Cosine Similarity (Groundedness): 0.7599\n",
      "\n",
      "Speed: 7.4626 seconds\n",
      "\n",
      "Please rate the accuracy of the response (1 to 5): 3\n",
      "\n",
      "--------------------------------------------------\n",
      "\n",
      "Ask a question (or type 'end' to finish): What are the risks associated with using default credentials, and how can they be mitigated?\n",
      "\n",
      "Response: \n",
      "<|system|>\n",
      "You are an assistant for question-answering tasks. Use the following pieces of retrieved context to answer the question. If you don't know the answer, say that you don't know. Do not provide links in responses and make responses structured\n",
      "\n",
      "[Document(metadata={'page': 22, 'source': '/content/drive/MyDrive/NLP_Project/Cybersecurity-Handbook-English-version.pdf'}, page_content=\"at a minimum, contains the person's name, username, start/stop date, privileges and the employee's department. ► 4.4 Ensure that users who perform exclusively non- administrative tasks of daily routine (e.g. use of Word, Excel, Adobe Reader, reading and sending e-mails, web browsing, etc.) are granted only a non-privileged account. WHAT ARE THE RISKS?\"), Document(metadata={'page': 36, 'source': '/content/drive/MyDrive/NLP_Project/Cybersecurity-Handbook-English-version.pdf'}, page_content='to files and server processes, • unsuccessful file execution attempts, • special privileges usage and usage attempts, • system files usage, • changes in user accounts and in the security policy, • HTTP(S) and DNS requests, • data transfer to and from portable storage media. WHAT ARE THE RISKS?'), Document(metadata={'page': 18, 'source': '/content/drive/MyDrive/NLP_Project/Cybersecurity-Handbook-English-version.pdf'}, page_content='available. This fact points out the risk organizations will face if they do not modify the default credentials of every router during the first installation. This measure applies to every asset that contains default credentials. 6 Center for Internet Security Benchmarks: https://www.cisecurity.org/cis-benchmarks/. Figure 3 Default username and password pairs of all routers posted online Source: https://www.routerpasswords.com/')]\n",
      "\n",
      "</s>\n",
      "<|user|>\n",
      "What are the risks associated with using default credentials, and how can they be mitigated?\n",
      "</s>\n",
      "<|assistant|>\n",
      "Here are the risks associated with using default credentials and how to mitigate them:\n",
      "\n",
      "**Risks:**\n",
      "\n",
      "* **Unsecured access to files and server processes:** Default credentials can be exploited to gain unauthorized access to sensitive data and system resources.\n",
      "* **Unsuccessful file execution attempts:** Malicious actors can attempt to execute malicious code on a system using default credentials.\n",
      "* **Special privileges usage and usage attempts:** Default credentials can grant access to elevated privileges, allowing attackers to perform actions beyond their intended scope.\n",
      "* **System files usage:** Attackers can leverage default credentials to access and modify system files, potentially compromising the system's integrity.\n",
      "* **Changes in user accounts and in the security policy:** Default credentials can be used to modify user accounts and security policies, granting unauthorized access or privileges.\n",
      "* **HTTP(S) and DNS requests:** Default credentials can be used to make unauthorized requests to web servers and DNS servers.\n",
      "* **Data transfer to and from portable storage media:** Default credentials can be used to access and transfer data from portable storage media, potentially exposing sensitive information.\n",
      "\n",
      "**Mitigation:**\n",
      "\n",
      "* **Modify default credentials during the first installation:**  This is crucial to prevent attackers from gaining access to the device.\n",
      "* **Use strong passwords and multi-factor authentication:**  This adds an extra layer of security to prevent unauthorized access.\n",
      "* **Regularly update software and firmware:**  This helps to patch vulnerabilities that attackers could exploit.\n",
      "* **Implement strong security policies:**  This includes access control, data encryption, and intrusion detection systems.\n",
      "* **Educate users about security best practices:**  This helps to raise awareness and prevent human error.\n",
      "\n",
      "\n",
      "\n",
      "\n",
      "Cosine Similarity (Groundedness): 0.4554\n",
      "\n",
      "Speed: 22.7629 seconds\n",
      "\n",
      "Please rate the accuracy of the response (1 to 5): 3\n",
      "\n",
      "--------------------------------------------------\n",
      "\n",
      "Ask a question (or type 'end' to finish): end\n",
      "\n",
      "Final Evaluation\n",
      "Average Accuracy (%)Average GroundednessAverage Speed (seconds)\n",
      "75.15               71.37               11.27\n"
     ]
    }
   ],
   "source": [
    "import time\n",
    "from sklearn.metrics.pairwise import cosine_similarity\n",
    "from sklearn.feature_extraction.text import TfidfVectorizer\n",
    "\n",
    "# Global lists to store data (accuracy, groundedness, speed)\n",
    "accuracy_list = []\n",
    "groundedness_list = []\n",
    "speed_list = []\n",
    "\n",
    "# Function to calculate cosine similarity (groundedness)\n",
    "def calculate_similarity(response, retrieved_docs):\n",
    "    context = [doc.page_content for doc in retrieved_docs]\n",
    "    context.append(response)  # Add the response to the context for comparison\n",
    "\n",
    "    # Vectorize the context and response using TF-IDF\n",
    "    vectorizer = TfidfVectorizer()\n",
    "    vectors = vectorizer.fit_transform(context)\n",
    "\n",
    "    # Calculate cosine similarity between the response and the context\n",
    "    similarity_score = cosine_similarity(vectors[-1], vectors[:-1])  # Compare the response with the context\n",
    "    return similarity_score.flatten()\n",
    "\n",
    "# Function to ask a question, generate a response, and record data\n",
    "def ask_question(question):\n",
    "    global accuracy_list, groundedness_list, speed_list\n",
    "\n",
    "    # Start timer for response generation\n",
    "    start_time = time.time()\n",
    "\n",
    "    # Generate the response using the RAG chain (you should replace this with actual invocation)\n",
    "    response = rag_chain.invoke(question)\n",
    "\n",
    "    # Stop timer after response is generated\n",
    "    end_time = time.time()\n",
    "    response_time = end_time - start_time\n",
    "    speed_list.append(response_time)  # Store the speed\n",
    "\n",
    "    # Calculate cosine similarity for groundedness\n",
    "    retrieved_docs = retriever.invoke(question)  # Get retrieved documents (this may be adjusted based on your setup)\n",
    "    similarity_scores = calculate_similarity(response, retrieved_docs)\n",
    "    avg_similarity = similarity_scores.mean() if similarity_scores.size > 0 else 0  # Handle array correctly\n",
    "    groundedness_list.append(avg_similarity)  # Store groundedness score\n",
    "\n",
    "    # Display the response and similarity with nice formatting\n",
    "    print(f\"\\nResponse: {response}\")\n",
    "    print(f\"\\nCosine Similarity (Groundedness): {avg_similarity:.4f}\")\n",
    "    print(f\"\\nSpeed: {response_time:.4f} seconds\")\n",
    "\n",
    "    # Ask for accuracy rating\n",
    "    accuracy = int(input(\"\\nPlease rate the accuracy of the response (1 to 5): \"))\n",
    "    accuracy_list.append(accuracy)\n",
    "\n",
    "    # Add separator for next question\n",
    "    print(\"\\n\" + \"-\"*50)\n",
    "\n",
    "# Function to calculate average accuracy, groundedness, and speed\n",
    "def calculate_metrics():\n",
    "    avg_accuracy = sum(accuracy_list) / len(accuracy_list) if accuracy_list else 0\n",
    "    avg_groundedness = sum(groundedness_list) / len(groundedness_list) if groundedness_list else 0\n",
    "    avg_speed = sum(speed_list) / len(speed_list) if speed_list else 0\n",
    "\n",
    "    # Print the results in a table format\n",
    "    print(\"\\nFinal Evaluation\")\n",
    "    print(f\"{'Average Accuracy (%)':<20}{'Average Groundedness':<20}{'Average Speed (seconds)'}\")\n",
    "    print(f\"{avg_accuracy*20:<20.2f}{avg_groundedness*100:<20.2f}{avg_speed:.2f}\")\n",
    "\n",
    "# Ask questions in a loop\n",
    "def start_session():\n",
    "    print(\"Welcome to the Question-Answer Evaluation Session!\")\n",
    "    print(\"Please ask a question, and rate the response based on accuracy. Type 'end' to finish.\")\n",
    "\n",
    "    while True:\n",
    "        question = input(\"\\nAsk a question (or type 'end' to finish): \")\n",
    "        if question.lower() == 'end':\n",
    "            break\n",
    "        ask_question(question)\n",
    "\n",
    "    # After all questions, print the summary\n",
    "    calculate_metrics()\n",
    "\n",
    "# Start the session\n",
    "start_session()\n"
   ]
  },
  {
   "cell_type": "code",
   "execution_count": null,
   "metadata": {
    "id": "AfcXVT26RiDA"
   },
   "outputs": [],
   "source": []
  }
 ],
 "metadata": {
  "colab": {
   "provenance": []
  },
  "kernelspec": {
   "display_name": "Python 3",
   "language": "python",
   "name": "python3"
  },
  "language_info": {
   "codemirror_mode": {
    "name": "ipython",
    "version": 3
   },
   "file_extension": ".py",
   "mimetype": "text/x-python",
   "name": "python",
   "nbconvert_exporter": "python",
   "pygments_lexer": "ipython3",
   "version": "3.8.5"
  }
 },
 "nbformat": 4,
 "nbformat_minor": 1
}
