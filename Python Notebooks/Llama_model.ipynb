{
 "cells": [
  {
   "cell_type": "markdown",
   "metadata": {
    "id": "wT98RHUw0ImM"
   },
   "source": [
    "# LLM Model: Llama"
   ]
  },
  {
   "cell_type": "code",
   "execution_count": null,
   "metadata": {
    "id": "QDNR5G3xGPS6"
   },
   "outputs": [],
   "source": [
    "!pip install -r /content/drive/MyDrive/NLP_Project/requirements.txt > /dev/null 2>&1"
   ]
  },
  {
   "cell_type": "markdown",
   "metadata": {
    "id": "9k_BOh0d0NQ5"
   },
   "source": [
    "### Data Loading"
   ]
  },
  {
   "cell_type": "code",
   "execution_count": null,
   "metadata": {
    "colab": {
     "base_uri": "https://localhost:8080/"
    },
    "id": "3CrgjGsCelDu",
    "outputId": "b2fb08d9-da79-46a1-e171-5342f9f60ee2"
   },
   "outputs": [
    {
     "name": "stdout",
     "output_type": "stream",
     "text": [
      "Mounted at /content/drive\n"
     ]
    }
   ],
   "source": [
    "from google.colab import drive\n",
    "drive.mount('/content/drive')"
   ]
  },
  {
   "cell_type": "code",
   "execution_count": null,
   "metadata": {
    "id": "b7oYdDVE9vcI"
   },
   "outputs": [],
   "source": [
    "from huggingface_hub import login"
   ]
  },
  {
   "cell_type": "code",
   "execution_count": null,
   "metadata": {
    "id": "GiYXI1KO9xKf"
   },
   "outputs": [],
   "source": [
    "login(token=\"***********************\") #Please enter your hugging_face token here I have removed it once I ran the model."
   ]
  },
  {
   "cell_type": "code",
   "execution_count": null,
   "metadata": {
    "id": "MMnTJ0XLRPvC"
   },
   "outputs": [],
   "source": [
    "from langchain_community.document_loaders import PyPDFLoader\n",
    "\n",
    "# Load the first document\n",
    "loader1 = PyPDFLoader(\"/content/drive/MyDrive/NLP_Project/Cybersecurity-Handbook-English-version.pdf\")\n",
    "data1 = loader1.load()\n",
    "\n",
    "loader2 = PyPDFLoader(\"/content/drive/MyDrive/NLP_Project/malware.pdf\")\n",
    "data2 = loader2.load()\n",
    "\n",
    "loader3 = PyPDFLoader(\"/content/drive/MyDrive/NLP_Project/cybersecuirty_sb_factsheets_all.pdf\")\n",
    "data3 = loader3.load()\n",
    "\n",
    "loader4 = PyPDFLoader(\"/content/drive/MyDrive/NLP_Project/cybersecuirty_sb_factsheets_all.pdf\")\n",
    "data4 = loader4.load()\n",
    "\n",
    "# Combine all the data\n",
    "data = data1 + data2 + data3 + data4"
   ]
  },
  {
   "cell_type": "code",
   "execution_count": null,
   "metadata": {
    "colab": {
     "base_uri": "https://localhost:8080/"
    },
    "id": "ZsD8UsdyTIzG",
    "outputId": "b99ef1d5-bc0f-450f-e9d9-88aa7fc63e4c"
   },
   "outputs": [
    {
     "data": {
      "text/plain": [
       "146"
      ]
     },
     "execution_count": 7,
     "metadata": {},
     "output_type": "execute_result"
    }
   ],
   "source": [
    "len(data)"
   ]
  },
  {
   "cell_type": "markdown",
   "metadata": {
    "id": "hqh4DrIF0Xqt"
   },
   "source": [
    "### Cleaning the Data"
   ]
  },
  {
   "cell_type": "code",
   "execution_count": null,
   "metadata": {
    "id": "f4ifXoz5MiHp"
   },
   "outputs": [],
   "source": [
    "import re\n",
    "\n",
    "def clean_and_normalize(text):\n",
    "  return re.sub(r'\\s+', ' ', text).strip()"
   ]
  },
  {
   "cell_type": "code",
   "execution_count": null,
   "metadata": {
    "id": "GxWwmbGkMlII"
   },
   "outputs": [],
   "source": [
    "for doc in data:\n",
    "    doc.page_content = clean_and_normalize(doc.page_content)"
   ]
  },
  {
   "cell_type": "markdown",
   "metadata": {
    "id": "9pZpI8ud0wDG"
   },
   "source": [
    "### Text Splitter"
   ]
  },
  {
   "cell_type": "code",
   "execution_count": null,
   "metadata": {
    "colab": {
     "base_uri": "https://localhost:8080/"
    },
    "id": "_R1_B_k_TxXH",
    "outputId": "053a49bd-1758-4ea3-86a8-4c42706757d8"
   },
   "outputs": [
    {
     "name": "stdout",
     "output_type": "stream",
     "text": [
      "Total number of documents:  337\n"
     ]
    }
   ],
   "source": [
    "from langchain.text_splitter import RecursiveCharacterTextSplitter\n",
    "\n",
    "# split data\n",
    "text_splitter = RecursiveCharacterTextSplitter(chunk_size=1000)\n",
    "docs = text_splitter.split_documents(data)\n",
    "\n",
    "\n",
    "print(\"Total number of documents: \",len(docs))"
   ]
  },
  {
   "cell_type": "code",
   "execution_count": null,
   "metadata": {
    "colab": {
     "base_uri": "https://localhost:8080/"
    },
    "id": "Y3ayBE1bT3Jh",
    "outputId": "3bf09eb1-335a-47b8-c062-31a07afdf742"
   },
   "outputs": [
    {
     "data": {
      "text/plain": [
       "Document(metadata={'source': '/content/drive/MyDrive/NLP_Project/Cybersecurity-Handbook-English-version.pdf', 'page': 39}, page_content='of users and processes to data files, URLs, services and other resources of your application. ► 9.10 Verify that every connection of your web servers (with user browsers, other web service calls, databases, cloud, etc.) is encrypted using the latest version of the TLS protocol (encryption in transit).')"
      ]
     },
     "execution_count": 13,
     "metadata": {},
     "output_type": "execute_result"
    }
   ],
   "source": [
    "docs[86]"
   ]
  },
  {
   "cell_type": "markdown",
   "metadata": {
    "id": "g4Y5D5aG00rI"
   },
   "source": [
    "### Embeddings"
   ]
  },
  {
   "cell_type": "code",
   "execution_count": null,
   "metadata": {
    "colab": {
     "base_uri": "https://localhost:8080/",
     "height": 580,
     "referenced_widgets": [
      "822e7df4f4664ab1a1a268fc2786bc6d",
      "019ac08d009f42c7a61c8319eca47463",
      "f409973f7e3841409aee44d4805681ea",
      "1c0a98d3ba2048428818dcc24f2f0f1a",
      "7e961f26efa64f6dbcf586a477a7274e",
      "140d794f5d7a4677921676391d420c6f",
      "7ee4ecb1dc0345b38c8911e097c2d628",
      "b40edd5b76e94604ae77da68a3f70143",
      "c66d00f4a31845e5837c424ae16accd1",
      "4ed2ec68b40447ae8127fd20a66472ee",
      "bd49557871dd4119abc20aa76b171b33",
      "b13ba6fd18d8447d8bec8fb4024ab898",
      "297c25b95fed49b9af41e66365151356",
      "3ef0d1aa507847cca08a73a606d72373",
      "f2eb2506bd0c44aebcdbf2c2550f1929",
      "166da9e607724682b6633412a15349e1",
      "e1769092cfe84b029af72ffd1851a06d",
      "b6c9953eb5e8478ab8b9d7a2475c7310",
      "5d24da8bf60e4377a88a2969b5963c38",
      "f53aa73c69394176a07b737b27bea351",
      "86bf8100b79a4d6da5068de7ab141eed",
      "17ee7445fa264b65855f17f10c4d624e",
      "795e2322a5fb46018efaa9a409978001",
      "17293bc4b9044d06bc1a0f8618a1d38d",
      "894826d32b89423c8b899ca6997dc391",
      "55629a728598412d9e3d817022e935c2",
      "73f63220200348d288975e3a0c8a156b",
      "b2f73b473a7b49b09109c08f6294adc6",
      "ad4b79a012394296babf565fcd754ba7",
      "38578cb9544b4de7aadd95ce624502c6",
      "27fbd3fbb16245329af03f6cbeb003e7",
      "7bac7214138949fe875ac6e0ae51f762",
      "4790d4c0794d40beb54c9d3dedb4a69a",
      "9e4ec7543c5244c995eec678d5221b9c",
      "b6e11b945f6f4a6b9d94554327088d36",
      "a004b3fcc02c43a6a93ce2ab934cf592",
      "0000f074d0fd4786aa67c474101ada07",
      "bab65d55d12f46748762fd891ed9eae9",
      "f669dcfa7aed4082ba6357e86a90079d",
      "01df2b5ef3bb451cbf02b578b16ba70c",
      "9fa795cbc6f14bbeb8ad6a548b5ebe35",
      "dd18ec98b1aa4b37a4d76a7f153852ab",
      "afa303b835e7430abc68a6309f658ace",
      "76f60333abd349ceabc8eb8064358944",
      "7bb19ba4373649819167b4952fa8f4f1",
      "642bf6faf3824343881f5d9b7cfe4fcc",
      "869452da515c4fdfb0b3e338e1889d8c",
      "5b5b1abdb31e485b822f988f5934f692",
      "a43379783a9d48d4ac9d7a845092ec25",
      "a86143867d6946d2af30ec7770d7c836",
      "2ee682500b804d879759794e2785460c",
      "e1c9024fde8f404ea0468df455319cde",
      "420dea64e88d492e8d09a49bf2e6a550",
      "802cc39c88824568ba39b67d5c5c5d4e",
      "e69b42c28d264248ba755a793242e156",
      "36f75ed0568b4efdb40e2c6825308406",
      "c28694fa9ce14fc3afc2f14b58b18b8c",
      "bc136a51575443a9bda979d11c27a250",
      "1ca3aea3788c4f179ca577b978a2588e",
      "57acbb07c09f4367817adf6fb7042c8d",
      "1e6cf355563e474d95b41b7458d558f4",
      "78f48944f602464ba20e7203a5b315ad",
      "20e231a9af2d4248ae040d711b743f88",
      "27efdf71c73346baa255177c4efef14c",
      "e8d67365cd1f42e58388883b39c51b2a",
      "fa45fe2dfc2445e2b61ef599d24aaa87",
      "837b28e071464a7ca474fa45b5c10b25",
      "c211f53ff1ac4aad929f148b92962b70",
      "acf56868206a4d43b7dd1299ef38af4f",
      "10142cddf4ed46e5b2f494fa4fc80756",
      "8b15a1d6f9284ffd984f98bb39ce69d8",
      "9333f99ea0d74c6f9abe33d163246d5d",
      "aba23b8e29514da696890d6650b16172",
      "4cd900e5595f41aa96ccb20f01c49221",
      "39799dd4bdb64aefb00d1e9b1306cd64",
      "da1114446637412fa956306c77e51c29",
      "e5f8a1a8e95f4e3f84819f826b777943",
      "77551d87e6f5456a9e1a7fa47301ac77",
      "436c2ea229cd419bbbb631a0ebd65598",
      "cd7e3c79061f484593b60b30bd062136",
      "a4c3dd722085448e8ac248cbe216f952",
      "acba9ed99f0b4f0f9559bae7c436a5fc",
      "1afb71680580493ea891c6c9f6d246cd",
      "5207cb2d5327460190b4bfc4050aad89",
      "bc91064751c14f37b592a5c21e3b8a60",
      "f97c657ffcb24bb29bba2588bf1fd802",
      "244ca8cc939b42b58ed84e4a52c26537",
      "145d01801792452eb386861fbad595a4",
      "ad31eb2d3b99461a9918abe84d48cf4a",
      "08c4f6e8c16746ae9b2cbee6f06d0141",
      "73f8967df1e24c1da5589573d5536371",
      "3e34dfcadcd94c8ca29093421368dc30",
      "527b921a3f3645068f936dff73475433",
      "62392b049fc446c792a59d49b79b6ba9",
      "a1ccb5c6443140888ce7b2aa5e5d64cb",
      "525a49b7c8094dbeb7c1b6b1a4b1f258",
      "8df236f2e6954f48bc180124a2f87b85",
      "27297f4515aa46e6a943d6a9e6f05380",
      "e1747c92448d4c6f9aa5397a95926af0",
      "207004c296774c0aa9ee0d0d8ed68c1f",
      "7032c36c7ae1479c826ec5fe9bb1764d",
      "9333ee60863046dbb7f4fb330cb98375",
      "d86f0dcc6db543ccb51db3f337f59c41",
      "6117f0d26ab34975ac3a5f7838c0c439",
      "f116440b933c4e7faa9c7ea165edc2d9",
      "79d5cb032c9348c5aa3d52d876b745e8",
      "b5184563c7164db58c89e3eac41e434a",
      "5d5047a2881e4f0280ece640b6de43a6",
      "bee88c9035a240a8807133a584861168",
      "2b1b78a575a9443dbe378ac30ecad3b4",
      "285def829ae94727a985b2c880ce3032",
      "842999dfe51e49019b57be3f0174b3a9",
      "3c8a735c4cfb4f94b88aec40b011f2a6",
      "5b18d04b30b8408d9e02a9b5b300362d",
      "82af8efdb76d4164949ae5637940b074",
      "f7d061e5cea54eab82cb08f97948c666",
      "dac80948217b4f139dd96d9d4c7c8bb8",
      "809ac21e1a904f94a0fe15b4499045a0",
      "9b7cf3a48f4e4f57a38bffe3aed93d9b",
      "9131a39ad3b04d8db4bc74f225649964",
      "56fdd799f80a49b8bb58c046a2c22ae1"
     ]
    },
    "id": "PCuY5jghUdW4",
    "outputId": "65f95a55-772e-411a-a34f-b58801218df5"
   },
   "outputs": [
    {
     "name": "stderr",
     "output_type": "stream",
     "text": [
      "/usr/local/lib/python3.10/dist-packages/huggingface_hub/utils/_auth.py:94: UserWarning: \n",
      "The secret `HF_TOKEN` does not exist in your Colab secrets.\n",
      "To authenticate with the Hugging Face Hub, create a token in your settings tab (https://huggingface.co/settings/tokens), set it as secret in your Google Colab and restart your session.\n",
      "You will be able to reuse this secret in all of your notebooks.\n",
      "Please note that authentication is recommended but still optional to access public models or datasets.\n",
      "  warnings.warn(\n"
     ]
    },
    {
     "data": {
      "application/vnd.jupyter.widget-view+json": {
       "model_id": "822e7df4f4664ab1a1a268fc2786bc6d",
       "version_major": 2,
       "version_minor": 0
      },
      "text/plain": [
       "modules.json:   0%|          | 0.00/349 [00:00<?, ?B/s]"
      ]
     },
     "metadata": {},
     "output_type": "display_data"
    },
    {
     "data": {
      "application/vnd.jupyter.widget-view+json": {
       "model_id": "b13ba6fd18d8447d8bec8fb4024ab898",
       "version_major": 2,
       "version_minor": 0
      },
      "text/plain": [
       "config_sentence_transformers.json:   0%|          | 0.00/116 [00:00<?, ?B/s]"
      ]
     },
     "metadata": {},
     "output_type": "display_data"
    },
    {
     "data": {
      "application/vnd.jupyter.widget-view+json": {
       "model_id": "795e2322a5fb46018efaa9a409978001",
       "version_major": 2,
       "version_minor": 0
      },
      "text/plain": [
       "README.md:   0%|          | 0.00/10.6k [00:00<?, ?B/s]"
      ]
     },
     "metadata": {},
     "output_type": "display_data"
    },
    {
     "data": {
      "application/vnd.jupyter.widget-view+json": {
       "model_id": "9e4ec7543c5244c995eec678d5221b9c",
       "version_major": 2,
       "version_minor": 0
      },
      "text/plain": [
       "sentence_bert_config.json:   0%|          | 0.00/53.0 [00:00<?, ?B/s]"
      ]
     },
     "metadata": {},
     "output_type": "display_data"
    },
    {
     "data": {
      "application/vnd.jupyter.widget-view+json": {
       "model_id": "7bb19ba4373649819167b4952fa8f4f1",
       "version_major": 2,
       "version_minor": 0
      },
      "text/plain": [
       "config.json:   0%|          | 0.00/571 [00:00<?, ?B/s]"
      ]
     },
     "metadata": {},
     "output_type": "display_data"
    },
    {
     "data": {
      "application/vnd.jupyter.widget-view+json": {
       "model_id": "36f75ed0568b4efdb40e2c6825308406",
       "version_major": 2,
       "version_minor": 0
      },
      "text/plain": [
       "model.safetensors:   0%|          | 0.00/438M [00:00<?, ?B/s]"
      ]
     },
     "metadata": {},
     "output_type": "display_data"
    },
    {
     "data": {
      "application/vnd.jupyter.widget-view+json": {
       "model_id": "837b28e071464a7ca474fa45b5c10b25",
       "version_major": 2,
       "version_minor": 0
      },
      "text/plain": [
       "tokenizer_config.json:   0%|          | 0.00/363 [00:00<?, ?B/s]"
      ]
     },
     "metadata": {},
     "output_type": "display_data"
    },
    {
     "data": {
      "application/vnd.jupyter.widget-view+json": {
       "model_id": "77551d87e6f5456a9e1a7fa47301ac77",
       "version_major": 2,
       "version_minor": 0
      },
      "text/plain": [
       "vocab.txt:   0%|          | 0.00/232k [00:00<?, ?B/s]"
      ]
     },
     "metadata": {},
     "output_type": "display_data"
    },
    {
     "data": {
      "application/vnd.jupyter.widget-view+json": {
       "model_id": "ad31eb2d3b99461a9918abe84d48cf4a",
       "version_major": 2,
       "version_minor": 0
      },
      "text/plain": [
       "tokenizer.json:   0%|          | 0.00/466k [00:00<?, ?B/s]"
      ]
     },
     "metadata": {},
     "output_type": "display_data"
    },
    {
     "data": {
      "application/vnd.jupyter.widget-view+json": {
       "model_id": "207004c296774c0aa9ee0d0d8ed68c1f",
       "version_major": 2,
       "version_minor": 0
      },
      "text/plain": [
       "special_tokens_map.json:   0%|          | 0.00/239 [00:00<?, ?B/s]"
      ]
     },
     "metadata": {},
     "output_type": "display_data"
    },
    {
     "data": {
      "application/vnd.jupyter.widget-view+json": {
       "model_id": "285def829ae94727a985b2c880ce3032",
       "version_major": 2,
       "version_minor": 0
      },
      "text/plain": [
       "1_Pooling/config.json:   0%|          | 0.00/190 [00:00<?, ?B/s]"
      ]
     },
     "metadata": {},
     "output_type": "display_data"
    },
    {
     "data": {
      "text/plain": [
       "[0.03492268547415733,\n",
       " 0.0188300758600235,\n",
       " -0.017854738980531693,\n",
       " 0.0001388332893839106,\n",
       " 0.07407363504171371]"
      ]
     },
     "execution_count": 14,
     "metadata": {},
     "output_type": "execute_result"
    }
   ],
   "source": [
    "#from langchain_community.embeddings import HuggingFaceEmbeddings\n",
    "from langchain_huggingface import HuggingFaceEmbeddings\n",
    "embeddings = HuggingFaceEmbeddings()\n",
    "\n",
    "vector = embeddings.embed_query(\"hello, world!\")\n",
    "vector[:5]\n",
    "#vector"
   ]
  },
  {
   "cell_type": "markdown",
   "metadata": {
    "id": "ZRCbTX8g040k"
   },
   "source": [
    "### Chroma DB"
   ]
  },
  {
   "cell_type": "code",
   "execution_count": null,
   "metadata": {
    "id": "NSIlcPfwUv8k"
   },
   "outputs": [],
   "source": [
    "from langchain_chroma import Chroma\n",
    "vectorstore = Chroma.from_documents(documents=docs, embedding=HuggingFaceEmbeddings())"
   ]
  },
  {
   "cell_type": "markdown",
   "metadata": {
    "id": "cG2CPRHN08m2"
   },
   "source": [
    "### Retriever"
   ]
  },
  {
   "cell_type": "code",
   "execution_count": null,
   "metadata": {
    "id": "l0G9SZgkVrYH"
   },
   "outputs": [],
   "source": [
    "retriever = vectorstore.as_retriever(search_type=\"similarity\", search_kwargs={\"k\": 3})\n",
    "\n",
    "retrieved_docs = retriever.invoke(\"Email phishing\")"
   ]
  },
  {
   "cell_type": "code",
   "execution_count": null,
   "metadata": {
    "colab": {
     "base_uri": "https://localhost:8080/"
    },
    "id": "IUpJXPTVVu98",
    "outputId": "fb5bde68-932d-4dd5-b807-04632041ffd6"
   },
   "outputs": [
    {
     "data": {
      "text/plain": [
       "3"
      ]
     },
     "execution_count": 17,
     "metadata": {},
     "output_type": "execute_result"
    }
   ],
   "source": [
    "len(retrieved_docs)"
   ]
  },
  {
   "cell_type": "code",
   "execution_count": null,
   "metadata": {
    "colab": {
     "base_uri": "https://localhost:8080/"
    },
    "id": "qToGJOfoV9IX",
    "outputId": "96ade948-9d7d-4c7a-9b03-a983ac687798"
   },
   "outputs": [
    {
     "name": "stdout",
     "output_type": "stream",
     "text": [
      "CYBERSECURITY FOR SMALL BUSINESS WHAT TO DO IF YOUR EMAIL IS SPOOFED Email authentication helps keep your business’s email from being used in phishing schemes because it notifies you if someone spoofs your company’s email. If you get that notification, take these actions: Report it Report the scam to local law enforcement, the FBI’s Internet Crime Complaint Center at IC3.gov, and the FTC at FTC.gov/Complaint. Y ou also can forward phishing emails to spam@uce.gov (an address used by the FTC) and to reportphishing@apwg.org (an address used by the Anti-Phishing Working Group, which includes ISPs, security vendors, financial institutions, and law enforcement agencies). Notify your customers If you find out scammers are impersonating your business, tell your customers as soon as possible — by mail, email, or social media. If you email your customers, send an email without hyperlinks: you don’t want your notification email to look like a phishing scam. Remind customers not to share any\n"
     ]
    }
   ],
   "source": [
    "print(retrieved_docs[1].page_content)"
   ]
  },
  {
   "cell_type": "markdown",
   "metadata": {
    "id": "7eZJr8-q1AsK"
   },
   "source": [
    "### LangChain pipeline using a HuggingFace LLM"
   ]
  },
  {
   "cell_type": "code",
   "execution_count": null,
   "metadata": {
    "colab": {
     "base_uri": "https://localhost:8080/",
     "height": 337,
     "referenced_widgets": [
      "d4e26ddd394e4fef827ccd13ee7eb22b",
      "fc2a24c10f914fa88382dc4249a5ba94",
      "c6bff6ca847d4c70b91aa9398d36e7cd",
      "3dad732ebff143109720acf0617a933f",
      "b7bfe087c5754dfd97944838ec27b0ae",
      "6415ec0117e94aaba60ae12605c2c37a",
      "5ecc4b878bd640298263633e6bedb5f2",
      "51fb108512874a599bb389688a7d2e3e",
      "21fbf8ce61214eddb475b902a03fd837",
      "42c04243f86d4a06872ac253da3596e8",
      "fc956e25223f4d4b82a0e61fccbf8057",
      "d0d35832026f4392bb3dd31db58880e8",
      "600a5ae6bc89414b93082c223c72b9c3",
      "d47a660608c04211bfeb1866a40d285c",
      "5afbdce74b3b4f27a4d46e3bffd2df5a",
      "15fe7bbca6ea48888801e4fabc0914ff",
      "2bd47448c38c40229eefc583078575fa",
      "a05ee13232624a1eb0ce9ee63cbb9ba0",
      "54348c689ef444b5b342d3d11cda038b",
      "e7c4bae9c3d4495fb17cf3f12463481b",
      "8e378d6ac21541dbadb80d60a1205b6c",
      "491c9233e0924dc68d84f5ac489818dc",
      "b9f770e28d5d42bab84931690b4ae940",
      "00e66e3b033c4ab9a76c9c2513f40d82",
      "5aa00593c40c4fab8712e5c63d37d827",
      "8c3dc1964474463b90857fa5d08e68b8",
      "3135f33cec264cdaa2cbe0482226ae29",
      "ff7e89184c9f4f609e6583ee0ab10580",
      "83d5fce4cca5420aad4ecf7bd0ef2f9c",
      "530a6cb5540b4f37866f613e7902f882",
      "029dbf47f9344a3f80ef0d7ab24a50f1",
      "92de9ee372e3439296f9c3988bff0a74",
      "89dedf92f4b94dedb934f2bc6074c51a",
      "ccfd5bd5c60c4ac2b31af7afed30d439",
      "de529797b3f14f67b6b1823634835b87",
      "a529a2282e5f47699d9a807705ce7d35",
      "0a80fe2af32d41668b9b049b06a51c13",
      "fc760ae8a9714343bb6536ed001ed876",
      "502c352b1ae34f118e058c2cfa7c84c3",
      "e162544c01e7478eb7835a232d054ca6",
      "69ec8c4c127a4ab6bd7379beaf0997de",
      "2cb4f768c5f24fa1a25e2e6a68eb8c94",
      "36b1c37d7a8847168f6a253edeff4fc5",
      "8d5634b6ff5e401d83270732e9e08dd0",
      "1db9df0b51bc4d70b9c6eee87e739796",
      "fc4ac63765034d48969da2bc898b0d58",
      "cb05c9ce8fd6483f995b4c5d1674b605",
      "822096a7e1fb4d27b132a0fe91c9aef8",
      "c361552bd2c44d438a790b9955ecc694",
      "ceff66c578bb4fbd8a5be28f690dd493",
      "5c3a9c2cb8c3473aa633be8ccc98396a",
      "967ec11e70834d2eb106a62b9e26923a",
      "a9fb792b36f44915928de12f178dd6ca",
      "241c346be55c49baac4ba1b291428a1b",
      "cc04d3b5035d4a1784760d55714883e1",
      "6da8e46b239b4c1290f5ef201dc57573",
      "9ec3653217784408932872904c5d9a23",
      "74a9ebac23bd4ca3bee66bc3b8fe7aea",
      "c0034138afdf405cbee88fc4c6e59180",
      "54092602f4c641a4994b20d91c13d5ba",
      "78742e0b48e14cb397c3802afb1ba931",
      "2d7b4edab2424782a4e9e64b9c8f15b5",
      "9754a8d96f064837b101b52355128a66",
      "68ca5228f1e848f892a03b4c13bb657f",
      "78d28cfd99924fe4b33abfe59d371f9a",
      "b9ad8a82f8a94ccf9bb2d76a451d0613",
      "9adcd13a52b1483b96891764f4d3e0f3",
      "ef64d02b57bd4f9b95c1a274a694314a",
      "6948387e0d134c3d95c0a8e8629cb6d7",
      "b8d8b87dff3c40ee8848f8647e915c72",
      "30aad8dc7f23465f8af8201d3d130ca7",
      "8c9ed344cdc340a499fe6c5578facb13",
      "5ec9574084e943b09f424bb8ff703a78",
      "23146c0e3e4d4bfc9351b93e8b9829f6",
      "3dba13095a384eeca8a2dca4d6074706",
      "231566a9920f4f5f9c4ed796d724c5ea",
      "878c0eedc9b1451eb1517971fc64835f",
      "6f52997ad9eb43708d28a09d3572b36e",
      "a581e25419fa49b4bae703a5ad1e6a15",
      "5db5aa30916844b4a09da2c4d23a2de7",
      "ea7ae7a634dd49178cd90cf00410cec8",
      "c79add4e5b4a49a0a48e16ef1c9965d6",
      "f9c92e802b284f1582381b98316a00d2",
      "1afba78896fb4dfcb5f79b81571dca02",
      "2ac8c7bf38624416aa2b4d00fa788158",
      "32f62429fb8446b7a14dd758d5b55e5d",
      "709fc52f5ef9417882a4a5ddb8880fc4",
      "8acb871f494045b7be5af39e57384e1c",
      "766acadc234c4f5b92109c5fd406cb8b",
      "c78d73583b704f1bb0cb51e24317548a",
      "e94557b30d8e46c09a249a03f3e79f9f",
      "c47e670847724e579cf027b0ba27c4ca",
      "2fd20b725e7d473a9f9c1050012bc385",
      "74526a4977b94a3a9edbd15902de1415",
      "c292638bdb4148588eae80dfe48d7dca",
      "356f6e9072144ee0acb4a2b2ddc3aacb",
      "5b15346a4c2a45d2a2f1eee5a90d93cc",
      "2b0f98d742904bc78b0609f442ce5c59",
      "940a70afe8604726950fc645e3e15175",
      "1062ad2782aa459e915fd980b8246708",
      "7ac7eb39da9a400682f5dfa1cca2eed2",
      "2958ca06de8c4d32a2f09a130cf2a5a7",
      "8c504d61154a45a3b7d8e6f54472fe8c",
      "3f898e466131484e9efff10fff5d46b8",
      "bae763b6100a4940be37058e85e5ce69",
      "100f98e6b5bb41f6ad207cb4f065152d",
      "71a90b14c3084cb98f23e90a2275d993",
      "34dbb6cbd9ab4d4da629fa5b70f19da1",
      "4ccd30b8169948faae7e4a97812de90e",
      "bff8dbf7c1b3430489a299e02da9044e"
     ]
    },
    "id": "ljAoc5YXWGGm",
    "outputId": "f3fd6182-b271-4cde-942d-2d75a9e0c78e"
   },
   "outputs": [
    {
     "data": {
      "application/vnd.jupyter.widget-view+json": {
       "model_id": "d4e26ddd394e4fef827ccd13ee7eb22b",
       "version_major": 2,
       "version_minor": 0
      },
      "text/plain": [
       "config.json:   0%|          | 0.00/878 [00:00<?, ?B/s]"
      ]
     },
     "metadata": {},
     "output_type": "display_data"
    },
    {
     "data": {
      "application/vnd.jupyter.widget-view+json": {
       "model_id": "d0d35832026f4392bb3dd31db58880e8",
       "version_major": 2,
       "version_minor": 0
      },
      "text/plain": [
       "model.safetensors.index.json:   0%|          | 0.00/20.9k [00:00<?, ?B/s]"
      ]
     },
     "metadata": {},
     "output_type": "display_data"
    },
    {
     "data": {
      "application/vnd.jupyter.widget-view+json": {
       "model_id": "b9f770e28d5d42bab84931690b4ae940",
       "version_major": 2,
       "version_minor": 0
      },
      "text/plain": [
       "Downloading shards:   0%|          | 0/2 [00:00<?, ?it/s]"
      ]
     },
     "metadata": {},
     "output_type": "display_data"
    },
    {
     "data": {
      "application/vnd.jupyter.widget-view+json": {
       "model_id": "ccfd5bd5c60c4ac2b31af7afed30d439",
       "version_major": 2,
       "version_minor": 0
      },
      "text/plain": [
       "model-00001-of-00002.safetensors:   0%|          | 0.00/4.97G [00:00<?, ?B/s]"
      ]
     },
     "metadata": {},
     "output_type": "display_data"
    },
    {
     "data": {
      "application/vnd.jupyter.widget-view+json": {
       "model_id": "1db9df0b51bc4d70b9c6eee87e739796",
       "version_major": 2,
       "version_minor": 0
      },
      "text/plain": [
       "model-00002-of-00002.safetensors:   0%|          | 0.00/1.46G [00:00<?, ?B/s]"
      ]
     },
     "metadata": {},
     "output_type": "display_data"
    },
    {
     "data": {
      "application/vnd.jupyter.widget-view+json": {
       "model_id": "6da8e46b239b4c1290f5ef201dc57573",
       "version_major": 2,
       "version_minor": 0
      },
      "text/plain": [
       "Loading checkpoint shards:   0%|          | 0/2 [00:00<?, ?it/s]"
      ]
     },
     "metadata": {},
     "output_type": "display_data"
    },
    {
     "data": {
      "application/vnd.jupyter.widget-view+json": {
       "model_id": "9adcd13a52b1483b96891764f4d3e0f3",
       "version_major": 2,
       "version_minor": 0
      },
      "text/plain": [
       "generation_config.json:   0%|          | 0.00/189 [00:00<?, ?B/s]"
      ]
     },
     "metadata": {},
     "output_type": "display_data"
    },
    {
     "data": {
      "application/vnd.jupyter.widget-view+json": {
       "model_id": "6f52997ad9eb43708d28a09d3572b36e",
       "version_major": 2,
       "version_minor": 0
      },
      "text/plain": [
       "tokenizer_config.json:   0%|          | 0.00/54.5k [00:00<?, ?B/s]"
      ]
     },
     "metadata": {},
     "output_type": "display_data"
    },
    {
     "data": {
      "application/vnd.jupyter.widget-view+json": {
       "model_id": "766acadc234c4f5b92109c5fd406cb8b",
       "version_major": 2,
       "version_minor": 0
      },
      "text/plain": [
       "tokenizer.json:   0%|          | 0.00/9.09M [00:00<?, ?B/s]"
      ]
     },
     "metadata": {},
     "output_type": "display_data"
    },
    {
     "data": {
      "application/vnd.jupyter.widget-view+json": {
       "model_id": "1062ad2782aa459e915fd980b8246708",
       "version_major": 2,
       "version_minor": 0
      },
      "text/plain": [
       "special_tokens_map.json:   0%|          | 0.00/296 [00:00<?, ?B/s]"
      ]
     },
     "metadata": {},
     "output_type": "display_data"
    }
   ],
   "source": [
    "from langchain_huggingface import HuggingFacePipeline\n",
    "from langchain.prompts import PromptTemplate\n",
    "from transformers import pipeline\n",
    "from langchain_core.output_parsers import StrOutputParser\n",
    "import torch\n",
    "\n",
    "# Initialize the model\n",
    "model_id = \"meta-llama/Llama-3.2-3B-Instruct\"\n",
    "\n",
    "# Create the text generation pipeline\n",
    "text_generation_pipeline = pipeline(\n",
    "    \"text-generation\",\n",
    "    model=model_id,\n",
    "    model_kwargs={\"torch_dtype\": torch.bfloat16},\n",
    "    max_new_tokens=400,\n",
    "    device=0  # Use GPU if available, otherwise set to -1 for CPU\n",
    ")\n",
    "\n",
    "# Create the LangChain HuggingFacePipeline\n",
    "llm = HuggingFacePipeline(pipeline=text_generation_pipeline)\n",
    "\n",
    "# Define the prompt template\n",
    "prompt_template = \"\"\"\n",
    "<|system|>\n",
    "You are an assistant for question-answering tasks. Use the following pieces of retrieved context to answer the question. If you don't know the answer, say that you don't know. Do not provide links in responses and make responses structured\n",
    "\n",
    "{context}\n",
    "\n",
    "</s>\n",
    "<|user|>\n",
    "{question}\n",
    "</s>\n",
    "<|assistant|>\n",
    "\"\"\"\n",
    "\n",
    "# Create the PromptTemplate\n",
    "prompt = PromptTemplate(\n",
    "    input_variables=[\"context\", \"question\"],\n",
    "    template=prompt_template,\n",
    ")\n",
    "\n",
    "# Create the LangChain\n",
    "llm_chain = prompt | llm | StrOutputParser()"
   ]
  },
  {
   "cell_type": "code",
   "execution_count": null,
   "metadata": {
    "id": "_FJih7R1X2yl"
   },
   "outputs": [],
   "source": [
    "from langchain_core.runnables import RunnablePassthrough\n",
    "\n",
    "rag_chain = {\"context\": retriever, \"question\": RunnablePassthrough()} | llm_chain"
   ]
  },
  {
   "cell_type": "markdown",
   "metadata": {
    "id": "ZWHrUqkG1F5N"
   },
   "source": [
    "### Evaluating RAG Model Responses on Accuracy, Groundedness, and Speed"
   ]
  },
  {
   "cell_type": "code",
   "execution_count": null,
   "metadata": {
    "colab": {
     "base_uri": "https://localhost:8080/"
    },
    "id": "ebajKl8PpfEA",
    "outputId": "119a4942-9c41-43f4-be76-d72e8c314ef3"
   },
   "outputs": [
    {
     "name": "stdout",
     "output_type": "stream",
     "text": [
      "Welcome to the Question-Answer Evaluation Session!\n",
      "Please ask a question, and rate the response based on accuracy. Type 'end' to finish.\n",
      "\n",
      "Ask a question (or type 'end' to finish): What is phishing, and how does it work?\n"
     ]
    },
    {
     "name": "stderr",
     "output_type": "stream",
     "text": [
      "Setting `pad_token_id` to `eos_token_id`:None for open-end generation.\n"
     ]
    },
    {
     "name": "stdout",
     "output_type": "stream",
     "text": [
      "\n",
      "Response: \n",
      "<|system|>\n",
      "You are an assistant for question-answering tasks. Use the following pieces of retrieved context to answer the question. If you don't know the answer, say that you don't know. Do not provide links in responses and make responses structured\n",
      "\n",
      "[Document(metadata={'page': 8, 'source': '/content/drive/MyDrive/NLP_Project/cybersecuirty_sb_factsheets_all.pdf'}, page_content='CYBERSECURITY FOR SMALL BUSINESS PHISHING LEARN MORE AT: FTC.gov/SmallBusiness You get an email that looks like it’s from someone you know. It seems to be from one of your company’s vendors and asks that you click on a link to update your business account. Should you click? Maybe it looks like it’s from your boss and asks for your network password. Should you reply? In either case, probably not. These may be phishing attempts. HOW WHAT YOU CAN DOPHISHING WORKS You get an email or text It seems to be from someone you know, and it asks you to click a link, or give your password, business bank account, or other sensitive information. Before you click on a link or share any of your sensitive business information: It looks real It’s easy to spoof logos and make up fake email addresses. Scammers use familiar company names or pretend to be someone you know. Check it out Look up the website or phone number for the company or person behind the text or email. Make sure that you’re getting the'), Document(metadata={'page': 8, 'source': '/content/drive/MyDrive/NLP_Project/cybersecuirty_sb_factsheets_all.pdf'}, page_content='CYBERSECURITY FOR SMALL BUSINESS PHISHING LEARN MORE AT: FTC.gov/SmallBusiness You get an email that looks like it’s from someone you know. It seems to be from one of your company’s vendors and asks that you click on a link to update your business account. Should you click? Maybe it looks like it’s from your boss and asks for your network password. Should you reply? In either case, probably not. These may be phishing attempts. HOW WHAT YOU CAN DOPHISHING WORKS You get an email or text It seems to be from someone you know, and it asks you to click a link, or give your password, business bank account, or other sensitive information. Before you click on a link or share any of your sensitive business information: It looks real It’s easy to spoof logos and make up fake email addresses. Scammers use familiar company names or pretend to be someone you know. Check it out Look up the website or phone number for the company or person behind the text or email. Make sure that you’re getting the'), Document(metadata={'page': 51, 'source': '/content/drive/MyDrive/NLP_Project/Cybersecurity-Handbook-English-version.pdf'}, page_content=\"52 CYBERSECURITY HANDBOOK ► 12.3 Periodically conduct a cybersecurity awareness training program addressed to distinct roles and targeting different employee categories based on business activities and the level of technical expertise. ► 12.4 Perform a knowledge gap analysis of your employees to develop a plan of sequential trainings. ► 12.5 Periodically conduct exercises that simulate cyber security incidents and their impact. Examples include opening a malicious email attachment or visiting a malicious website. Figure 10 below shows specific signs for detecting a phishing email. For further study, there are several resources on the Internet with useful information on ways to protect against social engineering attacks.21 (1) The sender's email address does not match his signature, and the email domain looks at least suspicious. (2) The subject of the email looks questionable or unwanted. (3) The salutation is not addressed personally to the recipient with his name and surname but it\")]\n",
      "\n",
      "</s>\n",
      "<|user|>\n",
      "What is phishing, and how does it work?\n",
      "</s>\n",
      "<|assistant|>\n",
      "Phishing is a type of cyber attack where an attacker sends a fake email or message that appears to be from a trusted source, such as a company or a person, in an attempt to trick the recipient into revealing sensitive information, such as login credentials or financial information. The attacker may also ask the recipient to click on a link or download an attachment that can install malware on their device.\n",
      "\n",
      "Phishing works by exploiting human psychology and taking advantage of people's trust in others. Scammers use various tactics to make their emails or messages appear legitimate, such as using familiar logos, company names, or pretending to be someone the recipient knows. They may also use urgent or threatening language to create a sense of panic and pressure the recipient into acting quickly.\n",
      "\n",
      "To avoid falling victim to phishing, it is essential to be cautious when receiving unsolicited emails or messages, especially those that ask for sensitive information. Here are some steps to help you detect phishing attempts:\n",
      "\n",
      "1. Check the sender's email address and domain to ensure it matches the company or person's actual email address.\n",
      "2. Look for spelling and grammar mistakes, which are common in phishing emails.\n",
      "3. Be wary of emails or messages that create a sense of urgency or use threatening language.\n",
      "4. Verify the authenticity of the email or message by contacting the company or person directly.\n",
      "5. Never click on links or download attachments from unknown sources.\n",
      "\n",
      "By being aware of these tactics and taking steps to verify the authenticity of emails and messages, you can reduce the risk of falling victim to phishing attacks.\n",
      "\n",
      "Cosine Similarity (Groundedness): 0.7471\n",
      "\n",
      "Speed: 18.4828 seconds\n",
      "\n",
      "Please rate the accuracy of the response (1 to 5): 5\n",
      "\n",
      "--------------------------------------------------\n",
      "\n",
      "Ask a question (or type 'end' to finish): What are some common tactics used in SMS phishing (smishing)?\n"
     ]
    },
    {
     "name": "stderr",
     "output_type": "stream",
     "text": [
      "Setting `pad_token_id` to `eos_token_id`:None for open-end generation.\n"
     ]
    },
    {
     "name": "stdout",
     "output_type": "stream",
     "text": [
      "\n",
      "Response: \n",
      "<|system|>\n",
      "You are an assistant for question-answering tasks. Use the following pieces of retrieved context to answer the question. If you don't know the answer, say that you don't know. Do not provide links in responses and make responses structured\n",
      "\n",
      "[Document(metadata={'page': 35, 'source': '/content/drive/MyDrive/NLP_Project/Cybersecurity-Handbook-English-version.pdf'}, page_content='via phishing emails. Figure 7 Example of malware infection and propagation Source: https://www.spambrella.com/what-is-emotet-malware-and-how-is-it-delivered/ 12 See https://www.europol.europa.eu/ newsroom/news/world%E2%80%99s-most- dangerous-malware-emotet-disrupted- through-global-action'), Document(metadata={'page': 70, 'source': '/content/drive/MyDrive/NLP_Project/Cybersecurity-Handbook-English-version.pdf'}, page_content='security-part-3 19. https://www.csoonline.com/article/3391588/why-unauthenticated- sms-is-a-security-risk.html 20. https://www.cloudwards.net/best-2fa-apps/ 21. https://www.europol.europa.eu/newsroom/news/world%E2%80%99s -most-dangerous-malware-emotet-disrupted-through-global-action 22. https://www.softwaretestinghelp.com/network-scanning-tools/'), Document(metadata={'page': 27, 'source': '/content/drive/MyDrive/NLP_Project/Cybersecurity-Handbook-English-version.pdf'}, page_content=\"28 CYBERSECURITY HANDBOOK The use of two-factor authentication undoubtedly improves security, as it adds an additional parameter, along with the password, to verify a user's identity. However, sending text via SMS is now considered more vulnerable to various types of attacks, most notably the SIM swapping technique. It is far more secure to use a mobile application that creates one-time passwords on the user's device, i.e., without the password being transmitted over an insecure network. Well-known examples of such applications are Google Authenticator, LastPass, Authy etc.11 11 https://www.cloudwards.net/best-2fa-apps/ Figure 5 Implementation of 2-factor authentication by using a mobile application instead of SMS Source: https://medium.com/\")]\n",
      "\n",
      "</s>\n",
      "<|user|>\n",
      "What are some common tactics used in SMS phishing (smishing)?\n",
      "</s>\n",
      "<|assistant|>\n",
      "Two common tactics used in SMS phishing (smishing) include:\n",
      "\n",
      "1. **SIM swapping**: Attackers trick the victim's mobile carrier into transferring their phone number to the attacker's number, allowing the attacker to receive and send SMS messages as if they were the victim.\n",
      "2. **Phishing via SMS**: Attackers send a text message that appears to be from a legitimate source, such as a bank or a well-known company, and asks the victim to click on a link or provide sensitive information.\n",
      "\n",
      "These tactics can be used to trick victims into revealing sensitive information, such as login credentials or financial information, or to gain access to their accounts.\n",
      "\n",
      "Cosine Similarity (Groundedness): 0.4593\n",
      "\n",
      "Speed: 8.1092 seconds\n",
      "\n",
      "Please rate the accuracy of the response (1 to 5): 5\n",
      "\n",
      "--------------------------------------------------\n",
      "\n",
      "Ask a question (or type 'end' to finish): What is the difference between a virus, a worm, and a Trojan horse?\n"
     ]
    },
    {
     "name": "stderr",
     "output_type": "stream",
     "text": [
      "Setting `pad_token_id` to `eos_token_id`:None for open-end generation.\n"
     ]
    },
    {
     "name": "stdout",
     "output_type": "stream",
     "text": [
      "\n",
      "Response: \n",
      "<|system|>\n",
      "You are an assistant for question-answering tasks. Use the following pieces of retrieved context to answer the question. If you don't know the answer, say that you don't know. Do not provide links in responses and make responses structured\n",
      "\n",
      "[Document(metadata={'page': 2, 'source': '/content/drive/MyDrive/NLP_Project/malware.pdf'}, page_content='The traditional classiﬁcation was introduced by Peter Denning in the late 1980s [4, 5]. We will use the following deﬁnitions: Virus: Malware which spreads from one computer to another by embedding copies of itself into ﬁles, which by some means or another are transported to the target. The medium of transport is often known as the vector of the virus. The transport may be initiated by the virus itself (for example, it may send the infected ﬁle as an e-mail attachment) or rely on an unsuspecting human user (who for example transports a CD-ROM containing the infected ﬁle). Worm: Malware which spreads from one computer to another by transmitting copies of itself via a network which connects the computers, without the use of infected ﬁles. Tro jan horse:Malware which is embedded in a piece of software which has an apparently useful eﬀect. The useful eﬀect is often known as the overt eﬀect, as it is made apparent to the receiver, while the eﬀect of the malware, known as thecovert eﬀect, is'), Document(metadata={'page': 2, 'source': '/content/drive/MyDrive/NLP_Project/malware.pdf'}, page_content='slightly diﬀerent, deﬁnitions in the literature, as the borderlines be- tween the classes are a bit fuzzy, and the classes are obviously not exclusive. For example, a virus can contain logic bomb functionality, if its malicious eﬀect is not triggered until a certain date or time (such as midnight on Friday 13th) is reached. Or a trojan horse may contain backdoor functionality, and so on. 3V i r a A virus (plural: vira) typically consists of two parts, each responsible for one of the char- acteristic actions which the virus will perform: Insertion code: Code to insert a copy of the virus into one or more ﬁles on the target. We shall call these the victim ﬁles. Payload: Code to perform the malicious activity associated with the virus. All vira contain insertion code, but the payload is optional, since the virus may have been constructed just to reproduce itself without doing anything more damaging than that. On the other hand, the payload may produce serious damage, such as deleting all'), Document(metadata={'page': 2, 'source': '/content/drive/MyDrive/NLP_Project/malware.pdf'}, page_content='software which has an apparently useful eﬀect. The useful eﬀect is often known as the overt eﬀect, as it is made apparent to the receiver, while the eﬀect of the malware, known as thecovert eﬀect, is kept hidden from the receiver. Logic bomb: Malware which is triggered by some external event, such as the arrival of a speciﬁc date or time, or the creation or deletion of a speciﬁc data item such as a ﬁle or a database entry. Rabbit: (aka. Bacterium) Malware which uses up all of a particular class of resource, such as message buﬀers, ﬁle space or process control blocks, on a computer system. Backdoor: Malware which, once it reaches the target, allows the initiator to gain access to the target without going through any of the normal login and authentication procedures. You may ﬁnd other, slightly diﬀerent, deﬁnitions in the literature, as the borderlines be- tween the classes are a bit fuzzy, and the classes are obviously not exclusive. For example, a virus can contain logic bomb')]\n",
      "\n",
      "</s>\n",
      "<|user|>\n",
      "What is the difference between a virus, a worm, and a Trojan horse?\n",
      "</s>\n",
      "<|assistant|>\n",
      "The differences between a virus, a worm, and a Trojan horse are:\n",
      "\n",
      "- A virus is malware that spreads from one computer to another by embedding copies of itself into files, which are then transported to the target via a vector.\n",
      "- A worm is malware that spreads from one computer to another by transmitting copies of itself via a network without the use of infected files.\n",
      "- A Trojan horse is malware that is embedded in a piece of software with an apparently useful effect, known as the overt effect, while hiding a malicious effect, known as the covert effect. \n",
      "\n",
      "Note that the borderlines between these classes are not exclusive and can be fuzzy, with some malware exhibiting characteristics of multiple types.\n",
      "\n",
      "Cosine Similarity (Groundedness): 0.8176\n",
      "\n",
      "Speed: 9.7460 seconds\n",
      "\n",
      "Please rate the accuracy of the response (1 to 5): 4\n",
      "\n",
      "--------------------------------------------------\n",
      "\n",
      "Ask a question (or type 'end' to finish):  How can I detect if my computer is infected with malware?\n"
     ]
    },
    {
     "name": "stderr",
     "output_type": "stream",
     "text": [
      "Setting `pad_token_id` to `eos_token_id`:None for open-end generation.\n"
     ]
    },
    {
     "name": "stdout",
     "output_type": "stream",
     "text": [
      "\n",
      "Response: \n",
      "<|system|>\n",
      "You are an assistant for question-answering tasks. Use the following pieces of retrieved context to answer the question. If you don't know the answer, say that you don't know. Do not provide links in responses and make responses structured\n",
      "\n",
      "[Document(metadata={'page': 17, 'source': '/content/drive/MyDrive/NLP_Project/malware.pdf'}, page_content='On an computer with an Athlon 1GHz CPU and 1GB of RAM, analysis of all variants of the Hare virus to build up the CFGs and to annotate them to indicate “empty code” took 10 seconds of CPU time. To build up the annotated CFG for a fairly large non-malicious executable (QuickTimePlayer.exe, size approx. 1MB) took about 800 seconds of CPU time. However, the method was extremely eﬀective at recognising viral code, even when it appeared in quite obscure variants. False positive and false negative rates of 0% were reported for the examples tested. It must be expected that improvements in the technique will make it suitable for practical use in real-time detection of viral code. 6.3 Behavioural Methods of Detection All the methods which we have discussed up to now rely on handling the code of the possible malware. A completely diﬀerent approach is represented by methods which do not look at the code, but which monitor in real time the behaviour caused by the pieces of software running in the'), Document(metadata={'page': 18, 'source': '/content/drive/MyDrive/NLP_Project/malware.pdf'}, page_content='might typically be considered interesting to monitor include: • Attempts to format disc drives or perform other irreversible disc operations. • Attempts to open or delete ﬁles. • Attempts to modify executable ﬁles, scripts or macros. • Attempts to modify conﬁguration ﬁles and the contents of the registry or similar (for example to change the list of programs to be started automatically on startup). • Attempts to modify the conﬁguration of e-mail clients or IM clients, so they send executable material. • Attempts to open network connections. Even if the individual events are not especia lly suspicious, combinations of them may well be, and so behavioural detection systems build up signatures describing characteristic sequences of such events. Depending on whether the malware detection system uses the anomaly detection or misuse detection approach, these sequences may be found from: • Statistical observations, deﬁning what is “normal behaviour” in a statistical sense; • Models'), Document(metadata={'page': 1, 'source': '/content/drive/MyDrive/NLP_Project/malware.pdf'}, page_content='An Introduction to Malware Robin Sharp Spring 2007 Abstract These notes, intended for use in DTU course 02233 on Network Security, give a short introduction to the topic of malware. The most important types of malware are described, together with their basic principles of operation and dissemination, and defenses against malware are discussed. 1 Some Deﬁnitions Malware is a general term for all types of malicious software, which in the context of computer security means: Software which is used with the aim of attempting to breach a computer system’s security policy with respect to Conﬁdentiality, Integrity or Availability. The term software should here be understood in the broadest sense, as the malicious eﬀect may make use of executable code, interpreted code, scripts, macros etc. The computer system whose security policy is attempted breached is usually known as the target for the malware. We shall use the term the initiator of the malware to denote the subject who originally')]\n",
      "\n",
      "</s>\n",
      "<|user|>\n",
      " How can I detect if my computer is infected with malware?\n",
      "</s>\n",
      "<|assistant|>\n",
      "I don't know. The text provided discusses methods of detecting malware, including behavioral methods, but it does not provide information on how to detect malware on a computer. However, it mentions that behavioral detection systems build up signatures describing characteristic sequences of events to detect malware, and that statistical observations and models can be used to define what is \"normal behavior\" in a statistical sense. To detect malware, it is recommended to use a combination of these methods, including signature-based detection, anomaly detection, and misuse detection. However, the text does not provide specific guidance on how to implement these methods.\n",
      "\n",
      "Cosine Similarity (Groundedness): 0.7174\n",
      "\n",
      "Speed: 8.4533 seconds\n",
      "\n",
      "Please rate the accuracy of the response (1 to 5): 2\n",
      "\n",
      "--------------------------------------------------\n",
      "\n",
      "Ask a question (or type 'end' to finish): What are botnets, and how do they operate in cyberattacks?\n"
     ]
    },
    {
     "name": "stderr",
     "output_type": "stream",
     "text": [
      "Setting `pad_token_id` to `eos_token_id`:None for open-end generation.\n"
     ]
    },
    {
     "name": "stdout",
     "output_type": "stream",
     "text": [
      "\n",
      "Response: \n",
      "<|system|>\n",
      "You are an assistant for question-answering tasks. Use the following pieces of retrieved context to answer the question. If you don't know the answer, say that you don't know. Do not provide links in responses and make responses structured\n",
      "\n",
      "[Document(metadata={'page': 12, 'source': '/content/drive/MyDrive/NLP_Project/malware.pdf'}, page_content='control a large number of computers, which is done by installing abackdoor in each of them. The individual computers in the botnet then technically speaking become zombies since they are under remote control, but ar e in this context usually referred to simply as bots. The bots can be given orders by a controller, often known as the botmas- ter, to perform various tasks, such as sending spam mail, adware, or spyware, performing DDoS attacks or just searching for further potential targets to be enrolled in the botnet. In many cases, the botmaster oﬀers such facilities as a service to anyone who is willing to pay for it. Botnets with large numbers of bots can obtain higher prices than smaller botnets. There have been press reports of some very large botnets, such as one with 1.5 million bots controlled from Holland, and one with 10 000 bots in Norway; both of these were closed by the police. A good technical review of botnets and their method of operation can be found in reference [2].'), Document(metadata={'page': 12, 'source': '/content/drive/MyDrive/NLP_Project/malware.pdf'}, page_content='into a server thread via a buﬀer overﬂow event caused by the HTTP command shown here. Either of the transmission and activation steps may of course be unsuccessful. For example, with an e-mail worm, the e-mail containing the worm may be refused by the destination mail server (failure of the sending step), or the user may refuse to activate the attachment which will execute the worm code (failure of the execution step). Similarly, the CodeRed worm may successfully reach a Web server which does not have the vulnerability on which it depends for being executed on the target. And so on. 5B o t n e t s Botnets illustrate the specialised use of a worm or Trojan horse to set up a private com- munication infrastructure which can be used for malicious purposes. The aim of the actual botnet is to control a large number of computers, which is done by installing abackdoor in each of them. The individual computers in the botnet then technically speaking become zombies since they are under remote'), Document(metadata={'page': 13, 'source': '/content/drive/MyDrive/NLP_Project/malware.pdf'}, page_content='Regardless of how the bot code is spread, thecomputers which it reaches almost always have to sign up with a master server, after which they can be given orders. This means that the activities associated with a botnet typically fall into four phases: 1. Searching: Search to ﬁnd target hosts which look suitable for attack, typically be- cause they appear to have a known vulnerability or easily obtainable e-mail addresses which can be attacked by an e-mail worm or Trojan horse. 2. Installation: The backdoor code is propagated to the targets, where an attempt is made to install the code or persuade the user to do so, so that the targets become bots. 3. Sign-on: The bots connect to the master server and become ready to receive Com- mand and Control (C&C) traﬃc. 4. C&C: The bots receive commands from the master server and generate traﬃc di- rected towards further targets. This is illustrated in Figure 8. Each of these pha ses generates characteristic patterns of Bot Master server Proxy')]\n",
      "\n",
      "</s>\n",
      "<|user|>\n",
      "What are botnets, and how do they operate in cyberattacks?\n",
      "</s>\n",
      "<|assistant|>\n",
      "Botnets are networks of compromised computers or devices that are controlled remotely by an attacker, known as a botmaster. These compromised devices, often referred to as bots, can be used to perform various malicious activities, such as sending spam, adware, or spyware, performing Distributed Denial of Service (DDoS) attacks, or searching for potential targets to be enrolled in the botnet.\n",
      "\n",
      "The operation of botnets typically involves four phases:\n",
      "\n",
      "1. Searching: The botnet searches for suitable targets, often with known vulnerabilities or easily obtainable email addresses that can be attacked by an email worm or Trojan horse.\n",
      "2. Installation: The backdoor code is propagated to the targets, where an attempt is made to install the code or persuade the user to do so, making them bots.\n",
      "3. Sign-on: The bots connect to the master server and become ready to receive Command and Control (C&C) traffic.\n",
      "4. C&C: The bots receive commands from the master server and generate traffic directed towards further targets.\n",
      "\n",
      "Botnets can be used for various malicious activities, and their operation can be successful even if not all devices are compromised. The activities associated with a botnet can be controlled remotely by the botmaster, who can offer the service as a paid facility to anyone willing to pay. Botnets can also be closed by law enforcement, and there have been reports of large botnets being shut down, such as one with 1.5 million bots controlled from Holland and another with 10,000 bots in Norway.\n",
      "\n",
      "Cosine Similarity (Groundedness): 0.7577\n",
      "\n",
      "Speed: 23.4289 seconds\n",
      "\n",
      "Please rate the accuracy of the response (1 to 5): 4\n",
      "\n",
      "--------------------------------------------------\n",
      "\n",
      "Ask a question (or type 'end' to finish): What is fileless malware, and why is it harder to detect?\n"
     ]
    },
    {
     "name": "stderr",
     "output_type": "stream",
     "text": [
      "Setting `pad_token_id` to `eos_token_id`:None for open-end generation.\n"
     ]
    },
    {
     "name": "stdout",
     "output_type": "stream",
     "text": [
      "\n",
      "Response: \n",
      "<|system|>\n",
      "You are an assistant for question-answering tasks. Use the following pieces of retrieved context to answer the question. If you don't know the answer, say that you don't know. Do not provide links in responses and make responses structured\n",
      "\n",
      "[Document(metadata={'page': 19, 'source': '/content/drive/MyDrive/NLP_Project/Cybersecurity-Handbook-English-version.pdf'}, page_content='for vulnerable versions of software. Then, by executing the appropriate commands, they exploit the vulnerabilities and can gain access to the system. In many cases the breach occurs due to vulnerable applications that were installed without the business need to do so. • In recent years, due to the improvement of mitigation measures for malware detection and blocking, attackers use a new and more sophisticated technique, the so-called fileless attacks . The term derives from the fact that in this case the malicious code runs directly in memory and does not create an executable file saved in the hard drive, so in most cases the antivirus cannot detect the attack. Most of these attacks start with a phishing email that seeks to lure the victim to open the attached file or click the link contained in the mail message. In the latter case, the victim is usually redirected to a fake webpage which mimics the legitimate one and asks for credentials. In the former case, when the user opens the'), Document(metadata={'page': 1, 'source': '/content/drive/MyDrive/NLP_Project/malware.pdf'}, page_content='An Introduction to Malware Robin Sharp Spring 2007 Abstract These notes, intended for use in DTU course 02233 on Network Security, give a short introduction to the topic of malware. The most important types of malware are described, together with their basic principles of operation and dissemination, and defenses against malware are discussed. 1 Some Deﬁnitions Malware is a general term for all types of malicious software, which in the context of computer security means: Software which is used with the aim of attempting to breach a computer system’s security policy with respect to Conﬁdentiality, Integrity or Availability. The term software should here be understood in the broadest sense, as the malicious eﬀect may make use of executable code, interpreted code, scripts, macros etc. The computer system whose security policy is attempted breached is usually known as the target for the malware. We shall use the term the initiator of the malware to denote the subject who originally'), Document(metadata={'page': 17, 'source': '/content/drive/MyDrive/NLP_Project/malware.pdf'}, page_content='On an computer with an Athlon 1GHz CPU and 1GB of RAM, analysis of all variants of the Hare virus to build up the CFGs and to annotate them to indicate “empty code” took 10 seconds of CPU time. To build up the annotated CFG for a fairly large non-malicious executable (QuickTimePlayer.exe, size approx. 1MB) took about 800 seconds of CPU time. However, the method was extremely eﬀective at recognising viral code, even when it appeared in quite obscure variants. False positive and false negative rates of 0% were reported for the examples tested. It must be expected that improvements in the technique will make it suitable for practical use in real-time detection of viral code. 6.3 Behavioural Methods of Detection All the methods which we have discussed up to now rely on handling the code of the possible malware. A completely diﬀerent approach is represented by methods which do not look at the code, but which monitor in real time the behaviour caused by the pieces of software running in the')]\n",
      "\n",
      "</s>\n",
      "<|user|>\n",
      "What is fileless malware, and why is it harder to detect?\n",
      "</s>\n",
      "<|assistant|>\n",
      "Fileless malware refers to a type of malicious software that runs directly in memory without creating an executable file on the hard drive. This makes it challenging for antivirus software to detect, as the malicious code is not stored on the system and therefore not flagged by traditional signature-based detection methods. Fileless attacks often start with a phishing email or a fake webpage that tricks the victim into opening a malicious file or clicking on a link. Once the malicious code is executed, it runs in memory and can carry out its malicious activities without leaving a trace. This type of attack is considered sophisticated and harder to detect because it doesn't create an executable file, making it harder for traditional antivirus software to identify and remove.\n",
      "\n",
      "Cosine Similarity (Groundedness): 0.7822\n",
      "\n",
      "Speed: 10.8986 seconds\n",
      "\n",
      "Please rate the accuracy of the response (1 to 5): 4\n",
      "\n",
      "--------------------------------------------------\n",
      "\n",
      "Ask a question (or type 'end' to finish): How can a business secure its wireless network, and why is WPA2 or WPA3 encryption important?\n"
     ]
    },
    {
     "name": "stderr",
     "output_type": "stream",
     "text": [
      "Setting `pad_token_id` to `eos_token_id`:None for open-end generation.\n"
     ]
    },
    {
     "name": "stdout",
     "output_type": "stream",
     "text": [
      "\n",
      "Response: \n",
      "<|system|>\n",
      "You are an assistant for question-answering tasks. Use the following pieces of retrieved context to answer the question. If you don't know the answer, say that you don't know. Do not provide links in responses and make responses structured\n",
      "\n",
      "[Document(metadata={'page': 23, 'source': '/content/drive/MyDrive/NLP_Project/cybersecuirty_sb_factsheets_all.pdf'}, page_content='CYBERSECURITY FOR SMALL BUSINESS HOW TO CONNECT TO THE NETWORK REMOTEL Y Require employees and vendors to use secure connections when connecting remotely to your network. They should: Use a router with WPA2 or WPA3 encryption when connecting from their homes. Encryption protects information sent over a network so that outsiders can’t read it. WPA2 and WPA3 are the only encryption standards that will protect information sent over a wireless network. Only use public Wi-Fi when also using a virtual private network (VPN) to encrypt traffic between their computers and the internet. Public Wi-Fi does not provide a secure internet connection on its own. Y our employees can get a personal VPN account from a VPN service provider, or you may want to hire a vendor to create an enterprise VPN for all employees to use. WHAT TO DO TO MAINTAIN SECURITY Include information on secure remote access in regular trainings and new staff orientations. Have policies covering basic cybersecurity, give copies'), Document(metadata={'page': 23, 'source': '/content/drive/MyDrive/NLP_Project/cybersecuirty_sb_factsheets_all.pdf'}, page_content='CYBERSECURITY FOR SMALL BUSINESS HOW TO CONNECT TO THE NETWORK REMOTEL Y Require employees and vendors to use secure connections when connecting remotely to your network. They should: Use a router with WPA2 or WPA3 encryption when connecting from their homes. Encryption protects information sent over a network so that outsiders can’t read it. WPA2 and WPA3 are the only encryption standards that will protect information sent over a wireless network. Only use public Wi-Fi when also using a virtual private network (VPN) to encrypt traffic between their computers and the internet. Public Wi-Fi does not provide a secure internet connection on its own. Y our employees can get a personal VPN account from a VPN service provider, or you may want to hire a vendor to create an enterprise VPN for all employees to use. WHAT TO DO TO MAINTAIN SECURITY Include information on secure remote access in regular trainings and new staff orientations. Have policies covering basic cybersecurity, give copies'), Document(metadata={'page': 1, 'source': '/content/drive/MyDrive/NLP_Project/cybersecuirty_sb_factsheets_all.pdf'}, page_content='CYBERSECURITY FOR SMALL BUSINESS PROTECT YOUR WIRELESS NETWORK Secure your router Change the default name and password, turn off remote management, and log out as the administrator once the router is set up. Use at least WPA2 encryption Make sure your router offers WPA2 or WPA3 encryption, and that it’s turned on. Encryption protects information sent over your network so it can’t be read by outsiders. MAKE YOUR BUSINESS AS USUAL SMART SECURITY Require strong passwords A strong password is at least 12 characters that are a mix of numbers, symbols, and capital lowercase letters. Never reuse passwords and don’t share them on the phone, in texts, or by email. Limit the number of unsuccessful log-in attempts to limit password-guessing attacks. Train all staff Create a culture of security by implementing a regular schedule of employee training. Update employees as you find out about new risks and vulnerabilities. If employees don’t attend, consider blocking their access to the network. Have')]\n",
      "\n",
      "</s>\n",
      "<|user|>\n",
      "How can a business secure its wireless network, and why is WPA2 or WPA3 encryption important?\n",
      "</s>\n",
      "<|assistant|>\n",
      "A business can secure its wireless network by changing the default name and password, turning off remote management, and logging out as the administrator once the router is set up. Additionally, using at least WPA2 or WPA3 encryption is crucial to protect information sent over the network from being read by outsiders. WPA2 and WPA3 are the only encryption standards that will protect information sent over a wireless network. Using these encryption standards ensures that the information remains confidential and secure.\n",
      "\n",
      "Cosine Similarity (Groundedness): 0.7816\n",
      "\n",
      "Speed: 6.8471 seconds\n",
      "\n",
      "Please rate the accuracy of the response (1 to 5): 3\n",
      "\n",
      "--------------------------------------------------\n",
      "\n",
      "Ask a question (or type 'end' to finish): What are the characteristics of a strong password?\n"
     ]
    },
    {
     "name": "stderr",
     "output_type": "stream",
     "text": [
      "Setting `pad_token_id` to `eos_token_id`:None for open-end generation.\n"
     ]
    },
    {
     "name": "stdout",
     "output_type": "stream",
     "text": [
      "\n",
      "Response: \n",
      "<|system|>\n",
      "You are an assistant for question-answering tasks. Use the following pieces of retrieved context to answer the question. If you don't know the answer, say that you don't know. Do not provide links in responses and make responses structured\n",
      "\n",
      "[Document(metadata={'page': 25, 'source': '/content/drive/MyDrive/NLP_Project/Cybersecurity-Handbook-English-version.pdf'}, page_content='e.g., by submitting a fake online form to which the user is redirected from a web link that was sent in a phishing email. • Use of malware that retrieves passwords from computer memory or by sniffing the network. SUB-CONTROLS ► 5.1 Develop and document: • a user authentication policy that addresses purpose, scope, roles and responsibilities, • procedures for implementing the policy and the relevant protection measures. ► 5.2 Implement authentication mechanisms that enforce the creation of strong passwords for your network and information systems. Strong passwords are those that are at least twelve characters long and contain at least one uppercase and one lowercase letter, one number, one special character, and do not contain names or common words that exist in dictionaries. Change passwords at least every six months. Mechanisms for creating strong passwords may include the capability to create passphrases. ► 5.3 Set a maximum limit (three to five) of continuous unsuccessful attempts'), Document(metadata={'page': 26, 'source': '/content/drive/MyDrive/NLP_Project/Cybersecurity-Handbook-English-version.pdf'}, page_content='27 CYBERSECURITY HANDBOOK ► 5.4 Ensure that passwords are stored in hashed form by utilizing one-way hash algorithms with the addition of a random data sequence (salt). ► 5.5 Ensure that the transmission of credentials over the network is done exclusively by using encryption. ► 5.6 Implement 2-factor authentication for access to all privileged accounts, including third party accounts. ► 5.7 Implement 2-factor authentication for all remote access connections to your internal network. This requirement must be enforced for all your employees (privileged and non-privileged accounts), as well as for third parties within their contractual obligation to provide support or maintenance services for your systems. ► 5.8 Set up workstations to enable screen lock after a maximum of 15 minutes of user inactivity to prevent unauthorized access. User re-authentication is required to unlock the screen. ► 5.9 Implement 2-factor authentication for every user that requests access to your critical or'), Document(metadata={'page': 25, 'source': '/content/drive/MyDrive/NLP_Project/Cybersecurity-Handbook-English-version.pdf'}, page_content='at least every six months. Mechanisms for creating strong passwords may include the capability to create passphrases. ► 5.3 Set a maximum limit (three to five) of continuous unsuccessful attempts to log in to an account, beyond which the account will be locked for a predetermined time period. WHAT ARE THE RISKS?')]\n",
      "\n",
      "</s>\n",
      "<|user|>\n",
      "What are the characteristics of a strong password?\n",
      "</s>\n",
      "<|assistant|>\n",
      "A strong password is at least twelve characters long and contains at least one uppercase and one lowercase letter, one number, one special character, and do not contain names or common words that exist in dictionaries.\n",
      "\n",
      "Cosine Similarity (Groundedness): 0.6465\n",
      "\n",
      "Speed: 3.7252 seconds\n",
      "\n",
      "Please rate the accuracy of the response (1 to 5): 3\n",
      "\n",
      "--------------------------------------------------\n",
      "\n",
      "Ask a question (or type 'end' to finish): What are the common types of direct attacks used to steal passwords?\n"
     ]
    },
    {
     "name": "stderr",
     "output_type": "stream",
     "text": [
      "Setting `pad_token_id` to `eos_token_id`:None for open-end generation.\n"
     ]
    },
    {
     "name": "stdout",
     "output_type": "stream",
     "text": [
      "\n",
      "Response: \n",
      "<|system|>\n",
      "You are an assistant for question-answering tasks. Use the following pieces of retrieved context to answer the question. If you don't know the answer, say that you don't know. Do not provide links in responses and make responses structured\n",
      "\n",
      "[Document(metadata={'page': 25, 'source': '/content/drive/MyDrive/NLP_Project/Cybersecurity-Handbook-English-version.pdf'}, page_content=\"26 CYBERSECURITY HANDBOOK 5. USER AUTHENTICATION Implement measures and procedures to verify the identity of any user wishing to access your corporate network. Authentication systems are a primary target for any attacker, for their compromise results in identity theft and unauthorized access to an entity's valuable resources. There are several ways to steal user credentials, such as: • Weak passwords. Most users use easy-to-remember passwords, which can be easily retrieved with a dictionary attack. • Employees storing credentials in plain sight. • Implementation of weak cryptographic techniques for password storage. • Stealing the password from a personal user account, with the same password being used in a corporate account. • Using social engineering to deceive the user to reveal their credentials, e.g., by submitting a fake online form to which the user is redirected from a web link that was sent in a phishing email. • Use of malware that retrieves passwords from computer memory or\"), Document(metadata={'page': 10, 'source': '/content/drive/MyDrive/NLP_Project/malware.pdf'}, page_content='are: 1. To exploit the targets in order to cause a Distributed DoS attack on a chosen system. Example: Apache/mod ssl (2002) 2. Website defacement on the targets, which are chosen to be web servers. Example: Perl.Santy (2004), which overwrote all ﬁl es with extensions .asp, .htm, .jsp, .php, .phtm and .shtm on the server, so they all produced the text “This site is defaced!!! NeverEverNoSanity WebWorm generation xx”. 3. Installation of a keylogger to track the user’s input, typically in order to pick up passwords, PIN codes, credit card numbers or other conﬁdential information, and to 10'), Document(metadata={'page': 28, 'source': '/content/drive/MyDrive/NLP_Project/Cybersecurity-Handbook-English-version.pdf'}, page_content=\"may sniff the traffic and steal corporate data and credentials transmitted over the network. • Distributed denial-of-service attacks : attackers create botnets, i.e., networks of large numbers of infected devices, which are scheduled to simultaneously send huge volumes of network traffic to corporate servers that have a public IP address, with the aim to interrupt the services provided to legitimate users. • Web defacement : attackers who have breached an organization's network may modify the content of its website by posting various types of messages or photos, and thus causing damage to the organization's reputation and loss of public trust in its digital services. • Threats in wireless networks : the nature of wireless communication channels and the high portability of wireless devices introduce new types of threats, such as: - Rogue access point: a device that secretly connects to an entity's internal network and thus provides access to the attacker. - “Evil twin” attack: variant\")]\n",
      "\n",
      "</s>\n",
      "<|user|>\n",
      "What are the common types of direct attacks used to steal passwords?\n",
      "</s>\n",
      "<|assistant|>\n",
      "Attackers use various methods to steal user credentials, including:\n",
      "\n",
      "1. Weak passwords: Most users use easy-to-remember passwords, which can be easily retrieved with a dictionary attack.\n",
      "2. Employees storing credentials in plain sight.\n",
      "3. Implementation of weak cryptographic techniques for password storage.\n",
      "4. Stealing the password from a personal user account, with the same password being used in a corporate account.\n",
      "5. Using social engineering to deceive the user to reveal their credentials, e.g., by submitting a fake online form to which the user is redirected from a web link that was sent in a phishing email.\n",
      "6. Use of malware that retrieves passwords from computer memory or storage.\n",
      "\n",
      "Cosine Similarity (Groundedness): 0.6776\n",
      "\n",
      "Speed: 8.2736 seconds\n",
      "\n",
      "Please rate the accuracy of the response (1 to 5): 3\n",
      "\n",
      "--------------------------------------------------\n",
      "\n",
      "Ask a question (or type 'end' to finish): How can removable devices like USBs pose security risks?\n"
     ]
    },
    {
     "name": "stderr",
     "output_type": "stream",
     "text": [
      "Setting `pad_token_id` to `eos_token_id`:None for open-end generation.\n"
     ]
    },
    {
     "name": "stdout",
     "output_type": "stream",
     "text": [
      "\n",
      "Response: \n",
      "<|system|>\n",
      "You are an assistant for question-answering tasks. Use the following pieces of retrieved context to answer the question. If you don't know the answer, say that you don't know. Do not provide links in responses and make responses structured\n",
      "\n",
      "[Document(metadata={'page': 36, 'source': '/content/drive/MyDrive/NLP_Project/Cybersecurity-Handbook-English-version.pdf'}, page_content='to files and server processes, • unsuccessful file execution attempts, • special privileges usage and usage attempts, • system files usage, • changes in user accounts and in the security policy, • HTTP(S) and DNS requests, • data transfer to and from portable storage media. WHAT ARE THE RISKS?'), Document(metadata={'page': 17, 'source': '/content/drive/MyDrive/NLP_Project/Cybersecurity-Handbook-English-version.pdf'}, page_content='configuration and change management tools to effectively track all configuration changes and updates in your corporate network in an automated manner. ► 2.13 Ensure that portable storage media (USB sticks, external hard drives, CDs, DVDs) cannot connect to systems classified as critical, unless there is strict business need for doing so.'), Document(metadata={'page': 14, 'source': '/content/drive/MyDrive/NLP_Project/Cybersecurity-Handbook-English-version.pdf'}, page_content='operations. ► 1.5 Develop and document a policy and procedures for the use of removable media (USB, external hard drives, CDs, DVDs). This policy must be consistent with the security risks that your systems and data face and must cover: • the acceptable uses and types of portable media, • the requirements for the protection of portable media and their content, • the requirements for reporting a lost or stolen portable device, • the requirements for the removal, destruction or disposal of portable media. ► 1.6 Ensure that the proprietary mobile devices (laptops, tablets, smartphones) that employees bring to their working environment (\"bring your own device\") do not have access to critical or sensitive enterprise systems. ► 1.7 Ensure that the proprietary mobile devices (laptops, tablets, smartphones) that employees bring to their working environment (\"bring your own device\") access the Internet through a network that is strictly separated from the enterprise network.')]\n",
      "\n",
      "</s>\n",
      "<|user|>\n",
      "How can removable devices like USBs pose security risks?\n",
      "</s>\n",
      "<|assistant|>\n",
      "Removable devices like USBs can pose security risks due to their ability to be easily connected to systems, allowing unauthorized access. Some of the risks include:\n",
      "\n",
      "- Unsuccessful file execution attempts\n",
      "- Special privileges usage and usage attempts\n",
      "- System files usage\n",
      "- Changes in user accounts and in the security policy\n",
      "- HTTP(S) and DNS requests\n",
      "- Data transfer to and from portable storage media.\n",
      "\n",
      "These risks can be mitigated by developing and documenting a policy and procedures for the use of removable media, ensuring that portable storage media cannot connect to systems classified as critical, and restricting access to sensitive enterprise systems.\n",
      "\n",
      "Cosine Similarity (Groundedness): 0.5927\n",
      "\n",
      "Speed: 6.8113 seconds\n",
      "\n",
      "Please rate the accuracy of the response (1 to 5): 3\n",
      "\n",
      "--------------------------------------------------\n",
      "\n",
      "Ask a question (or type 'end' to finish): What are best practices for encrypting sensitive files?\n"
     ]
    },
    {
     "name": "stderr",
     "output_type": "stream",
     "text": [
      "You seem to be using the pipelines sequentially on GPU. In order to maximize efficiency please use a dataset\n",
      "Setting `pad_token_id` to `eos_token_id`:None for open-end generation.\n"
     ]
    },
    {
     "name": "stdout",
     "output_type": "stream",
     "text": [
      "\n",
      "Response: \n",
      "<|system|>\n",
      "You are an assistant for question-answering tasks. Use the following pieces of retrieved context to answer the question. If you don't know the answer, say that you don't know. Do not provide links in responses and make responses structured\n",
      "\n",
      "[Document(metadata={'page': 4, 'source': '/content/drive/MyDrive/NLP_Project/cybersecuirty_sb_factsheets_all.pdf'}, page_content='flash drives, laptops, point-of-sale devices, and other equipment. Store securely When paper files or electronic devices contain sensitive information, store them in a locked cabinet or room. Limit physical access When records or devices contain sensitive data, allow access only to those who need it. Send reminders Remind employees to put paper files in locked file cabinets, log out of your network and applications, and never leave files or devices with sensitive data unattended. Keep stock Keep track of and secure any devices that collect sensitive customer information. Only keep files and data you need and know who has access to them.'), Document(metadata={'page': 4, 'source': '/content/drive/MyDrive/NLP_Project/cybersecuirty_sb_factsheets_all.pdf'}, page_content='flash drives, laptops, point-of-sale devices, and other equipment. Store securely When paper files or electronic devices contain sensitive information, store them in a locked cabinet or room. Limit physical access When records or devices contain sensitive data, allow access only to those who need it. Send reminders Remind employees to put paper files in locked file cabinets, log out of your network and applications, and never leave files or devices with sensitive data unattended. Keep stock Keep track of and secure any devices that collect sensitive customer information. Only keep files and data you need and know who has access to them.'), Document(metadata={'page': 5, 'source': '/content/drive/MyDrive/NLP_Project/cybersecuirty_sb_factsheets_all.pdf'}, page_content='the number of incorrect login attempts allowed to unlock devices. This will help protect against intruders. Encrypt Encrypt portable media, including laptops and thumb drives, that contain sensitive information. Encrypt any sensitive data you send outside of the company, like to an accountant or a shipping service. YOUR EMPLOYEES TRAIN Include physical security in your regular employee trainings and communications. R emind employees to: Shred documents Always shred documents with sensitive information before throwing them away. Erase data correctly Use software to erase data before donating or discarding old computers, mobile devices, digital copiers, and drives. Don’t rely on “delete ” alone. That does not actually remove the file from the computer. Promote security practices in all locations Maintain security practices even if working remotely from home or on business travel. Know the response plan All staff should know what to do if equipment or paper files are lost or stolen,')]\n",
      "\n",
      "</s>\n",
      "<|user|>\n",
      "What are best practices for encrypting sensitive files?\n",
      "</s>\n",
      "<|assistant|>\n",
      "Best practices for encrypting sensitive files include:\n",
      "\n",
      "- Encrypting portable media, such as laptops and thumb drives, that contain sensitive information.\n",
      "- Encrypting any sensitive data sent outside of the company, like to an accountant or a shipping service.\n",
      "- Using software to erase data before donating or discarding old computers, mobile devices, digital copiers, and drives.\n",
      "- Shredding documents with sensitive information before throwing them away.\n",
      "- Promoting security practices in all locations, including remote work settings.\n",
      "\n",
      "Cosine Similarity (Groundedness): 0.7464\n",
      "\n",
      "Speed: 6.1143 seconds\n",
      "\n",
      "Please rate the accuracy of the response (1 to 5): 4\n",
      "\n",
      "--------------------------------------------------\n",
      "\n",
      "Ask a question (or type 'end' to finish): What measures can improve smartphone security against cyber threats?\n"
     ]
    },
    {
     "name": "stderr",
     "output_type": "stream",
     "text": [
      "Setting `pad_token_id` to `eos_token_id`:None for open-end generation.\n"
     ]
    },
    {
     "name": "stdout",
     "output_type": "stream",
     "text": [
      "\n",
      "Response: \n",
      "<|system|>\n",
      "You are an assistant for question-answering tasks. Use the following pieces of retrieved context to answer the question. If you don't know the answer, say that you don't know. Do not provide links in responses and make responses structured\n",
      "\n",
      "[Document(metadata={'page': 22, 'source': '/content/drive/MyDrive/NLP_Project/cybersecuirty_sb_factsheets_all.pdf'}, page_content='encryption for laptops and other mobile devices that connect remotely to your network. Check your operating system for this option, which will protect any data stored on the device if it’s lost or stolen. This is especially important if the device stores any sensitive personal information. Change smartphone settings to stop automatic connections to public Wi-Fi. Keep up-to-date antivirus software on devices that connect to your network, including mobile devices. LEARN MORE AT:'), Document(metadata={'page': 22, 'source': '/content/drive/MyDrive/NLP_Project/cybersecuirty_sb_factsheets_all.pdf'}, page_content='encryption for laptops and other mobile devices that connect remotely to your network. Check your operating system for this option, which will protect any data stored on the device if it’s lost or stolen. This is especially important if the device stores any sensitive personal information. Change smartphone settings to stop automatic connections to public Wi-Fi. Keep up-to-date antivirus software on devices that connect to your network, including mobile devices. LEARN MORE AT:'), Document(metadata={'page': 5, 'source': '/content/drive/MyDrive/NLP_Project/cybersecuirty_sb_factsheets_all.pdf'}, page_content='CYBERSECURITY FOR SMALL BUSINESS HOW TO PROTECT DATA ON YOUR DEVICES A burglary, lost laptop, stolen mobile phone, or misplaced flash drive — all can happen due to lapses in physical security. But they’re less likely to result in a data breach if information on those devices is protected. Here are a few ways to do that: Require complex passwords Require passwords that are long, complex, and unique. And make sure that these passwords are stored securely. Consider using a password manager. Use multi-factor authentication Require multi-factor authentication to access areas of your network with sensitive information. This requires additional steps beyond logging in with a password — like a temporary code on a smartphone or a key that’s inserted into a computer. Limit login attempts Limit the number of incorrect login attempts allowed to unlock devices. This will help protect against intruders. Encrypt Encrypt portable media, including laptops and thumb drives, that contain sensitive')]\n",
      "\n",
      "</s>\n",
      "<|user|>\n",
      "What measures can improve smartphone security against cyber threats?\n",
      "</s>\n",
      "<|assistant|>\n",
      "The text does not specifically mention measures to improve smartphone security against cyber threats. However, it does mention changing smartphone settings to stop automatic connections to public Wi-Fi and keeping up-to-date antivirus software on devices that connect to your network, including mobile devices. These measures can help protect against cyber threats, but they are not explicitly stated as measures to improve smartphone security.\n",
      "\n",
      "Cosine Similarity (Groundedness): 0.7033\n",
      "\n",
      "Speed: 5.3852 seconds\n",
      "\n",
      "Please rate the accuracy of the response (1 to 5): 2\n",
      "\n",
      "--------------------------------------------------\n",
      "\n",
      "Ask a question (or type 'end' to finish): What steps should businesses take to secure their wireless networks?\n"
     ]
    },
    {
     "name": "stderr",
     "output_type": "stream",
     "text": [
      "Setting `pad_token_id` to `eos_token_id`:None for open-end generation.\n"
     ]
    },
    {
     "name": "stdout",
     "output_type": "stream",
     "text": [
      "\n",
      "Response: \n",
      "<|system|>\n",
      "You are an assistant for question-answering tasks. Use the following pieces of retrieved context to answer the question. If you don't know the answer, say that you don't know. Do not provide links in responses and make responses structured\n",
      "\n",
      "[Document(metadata={'page': 23, 'source': '/content/drive/MyDrive/NLP_Project/cybersecuirty_sb_factsheets_all.pdf'}, page_content='employees to use. WHAT TO DO TO MAINTAIN SECURITY Include information on secure remote access in regular trainings and new staff orientations. Have policies covering basic cybersecurity, give copies to your employees, and explain the importance of following them. Before letting any device — whether at an employee’s home or on a vendor’s network — connect to your network, make sure it meets your network’s security requirements. Tell your staff about the risks of public Wi-Fi. Train your staff: Give your staff tools that will help maintain security: • Require employees to use unique, complex network passwords and avoid unattended, open workstations. • Require multi-factor authentication to access areas of your network that have sensitive information. This requires additional steps beyond logging in with a password — like a temporary code on a smartphone or a k ey that’s inserted into a computer. • If you offer Wi-Fi on your business premises for guests and customers, make sure it’s'), Document(metadata={'page': 23, 'source': '/content/drive/MyDrive/NLP_Project/cybersecuirty_sb_factsheets_all.pdf'}, page_content='employees to use. WHAT TO DO TO MAINTAIN SECURITY Include information on secure remote access in regular trainings and new staff orientations. Have policies covering basic cybersecurity, give copies to your employees, and explain the importance of following them. Before letting any device — whether at an employee’s home or on a vendor’s network — connect to your network, make sure it meets your network’s security requirements. Tell your staff about the risks of public Wi-Fi. Train your staff: Give your staff tools that will help maintain security: • Require employees to use unique, complex network passwords and avoid unattended, open workstations. • Require multi-factor authentication to access areas of your network that have sensitive information. This requires additional steps beyond logging in with a password — like a temporary code on a smartphone or a k ey that’s inserted into a computer. • If you offer Wi-Fi on your business premises for guests and customers, make sure it’s'), Document(metadata={'page': 1, 'source': '/content/drive/MyDrive/NLP_Project/cybersecuirty_sb_factsheets_all.pdf'}, page_content='CYBERSECURITY FOR SMALL BUSINESS PROTECT YOUR WIRELESS NETWORK Secure your router Change the default name and password, turn off remote management, and log out as the administrator once the router is set up. Use at least WPA2 encryption Make sure your router offers WPA2 or WPA3 encryption, and that it’s turned on. Encryption protects information sent over your network so it can’t be read by outsiders. MAKE YOUR BUSINESS AS USUAL SMART SECURITY Require strong passwords A strong password is at least 12 characters that are a mix of numbers, symbols, and capital lowercase letters. Never reuse passwords and don’t share them on the phone, in texts, or by email. Limit the number of unsuccessful log-in attempts to limit password-guessing attacks. Train all staff Create a culture of security by implementing a regular schedule of employee training. Update employees as you find out about new risks and vulnerabilities. If employees don’t attend, consider blocking their access to the network. Have')]\n",
      "\n",
      "</s>\n",
      "<|user|>\n",
      "What steps should businesses take to secure their wireless networks?\n",
      "</s>\n",
      "<|assistant|>\n",
      "Businesses should secure their wireless networks by changing the default name and password, turning off remote management, and logging out as the administrator once the router is set up. They should also use at least WPA2 encryption, making sure it's turned on, and consider using WPA3 encryption if available. Additionally, businesses should require strong passwords, limit the number of unsuccessful log-in attempts, and train all staff to create a culture of security.\n",
      "\n",
      "Cosine Similarity (Groundedness): 0.7892\n",
      "\n",
      "Speed: 6.7136 seconds\n",
      "\n",
      "Please rate the accuracy of the response (1 to 5): 3\n",
      "\n",
      "--------------------------------------------------\n",
      "\n",
      "Ask a question (or type 'end' to finish): What is multi-factor authentication, and why is it essential for cybersecurity?\n"
     ]
    },
    {
     "name": "stderr",
     "output_type": "stream",
     "text": [
      "Setting `pad_token_id` to `eos_token_id`:None for open-end generation.\n"
     ]
    },
    {
     "name": "stdout",
     "output_type": "stream",
     "text": [
      "\n",
      "Response: \n",
      "<|system|>\n",
      "You are an assistant for question-answering tasks. Use the following pieces of retrieved context to answer the question. If you don't know the answer, say that you don't know. Do not provide links in responses and make responses structured\n",
      "\n",
      "[Document(metadata={'page': 0, 'source': '/content/drive/MyDrive/NLP_Project/cybersecuirty_sb_factsheets_all.pdf'}, page_content='laptops, tablets, smartphones, removable drives, backup tapes, and cloud storage solutions. Use multi-factor authentication Require multi-factor authentication to access areas of your network with sensitive information. This requires additional steps beyond logging in with a password — like a temporary code on a smartphone or a key that’s inserted into a computer. LEARN MORE AT: FTC.gov/SmallBusiness'), Document(metadata={'page': 0, 'source': '/content/drive/MyDrive/NLP_Project/cybersecuirty_sb_factsheets_all.pdf'}, page_content='laptops, tablets, smartphones, removable drives, backup tapes, and cloud storage solutions. Use multi-factor authentication Require multi-factor authentication to access areas of your network with sensitive information. This requires additional steps beyond logging in with a password — like a temporary code on a smartphone or a key that’s inserted into a computer. LEARN MORE AT: FTC.gov/SmallBusiness'), Document(metadata={'page': 9, 'source': '/content/drive/MyDrive/NLP_Project/Cybersecurity-Handbook-English-version.pdf'}, page_content='10 CYBERSECURITY HANDBOOK The defense-in-depth approach is considered an effective strategy that reduces the chance of a successful cyber attack and minimizes the damage that it may cause. The continuous improvement and evolution of cybercrime offensive methods, as well as the increasing complexity of modern computer systems described above, have relatively recently led to the emergence of a new security architecture model, known as \"zero trust\". Zero trust is a security model, a set of system design principles and a coordinated strategy, which assumes that threats are inherent in both inside and outside traditional network perimeters. In particular, the fundamental principles of the model are:2 • “Never trust, always verify”: every user, device, application, and data stream are considered untrustworthy. Each of the above must be authenticated and then explicitly authorized with the minimum required privileges. • “Assume breach” : It is considered that the corporate devices and network')]\n",
      "\n",
      "</s>\n",
      "<|user|>\n",
      "What is multi-factor authentication, and why is it essential for cybersecurity?\n",
      "</s>\n",
      "<|assistant|>\n",
      "Multi-factor authentication (MFA) is a security process that requires a user to provide multiple authentication factors to access a system, network, or application. The goal of MFA is to add an additional layer of security to traditional username and password authentication, making it more difficult for attackers to gain unauthorized access.\n",
      "\n",
      "MFA typically involves a combination of two or more of the following factors:\n",
      "\n",
      "1. Something you know (e.g., a password or PIN)\n",
      "2. Something you have (e.g., a smartphone or a token)\n",
      "3. Something you are (e.g., a fingerprint or facial recognition)\n",
      "4. Something you do (e.g., answering a security question or completing a challenge)\n",
      "\n",
      "MFA is essential for cybersecurity because it:\n",
      "\n",
      "1. Prevents phishing attacks: MFA makes it more difficult for attackers to use stolen login credentials to gain access to a system.\n",
      "2. Protects against password cracking: MFA makes it harder for attackers to use brute-force attacks to guess a user's password.\n",
      "3. Reduces the risk of insider threats: MFA can help prevent insider threats by requiring users to authenticate with multiple factors.\n",
      "4. Complies with regulatory requirements: Many organizations are required to implement MFA to comply with regulatory requirements, such as the Payment Card Industry Data Security Standard (PCI DSS) and the Health Insurance Portability and Accountability Act (HIPAA).\n",
      "\n",
      "Overall, multi-factor authentication is a critical component of a robust cybersecurity strategy, and its implementation is essential for protecting sensitive data and preventing cyber attacks.\n",
      "\n",
      "Cosine Similarity (Groundedness): 0.5173\n",
      "\n",
      "Speed: 16.1211 seconds\n",
      "\n",
      "Please rate the accuracy of the response (1 to 5): 3\n",
      "\n",
      "--------------------------------------------------\n",
      "\n",
      "Ask a question (or type 'end' to finish): What is malware, and how does it threaten computer systems?\n"
     ]
    },
    {
     "name": "stderr",
     "output_type": "stream",
     "text": [
      "Setting `pad_token_id` to `eos_token_id`:None for open-end generation.\n"
     ]
    },
    {
     "name": "stdout",
     "output_type": "stream",
     "text": [
      "\n",
      "Response: \n",
      "<|system|>\n",
      "You are an assistant for question-answering tasks. Use the following pieces of retrieved context to answer the question. If you don't know the answer, say that you don't know. Do not provide links in responses and make responses structured\n",
      "\n",
      "[Document(metadata={'page': 1, 'source': '/content/drive/MyDrive/NLP_Project/malware.pdf'}, page_content='An Introduction to Malware Robin Sharp Spring 2007 Abstract These notes, intended for use in DTU course 02233 on Network Security, give a short introduction to the topic of malware. The most important types of malware are described, together with their basic principles of operation and dissemination, and defenses against malware are discussed. 1 Some Deﬁnitions Malware is a general term for all types of malicious software, which in the context of computer security means: Software which is used with the aim of attempting to breach a computer system’s security policy with respect to Conﬁdentiality, Integrity or Availability. The term software should here be understood in the broadest sense, as the malicious eﬀect may make use of executable code, interpreted code, scripts, macros etc. The computer system whose security policy is attempted breached is usually known as the target for the malware. We shall use the term the initiator of the malware to denote the subject who originally'), Document(metadata={'page': 33, 'source': '/content/drive/MyDrive/NLP_Project/Cybersecurity-Handbook-English-version.pdf'}, page_content='34 CYBERSECURITY HANDBOOK 7. MALWARE PROTECTION Implement technologies that detect and prevent the installation, execution, and transmission of malicious code on your network and information systems. Malware constitutes one of the top threats for network and information systems and the risks associated with its actions may vary: • Password theft, • Data theft, • Identification of additional targets within the network, • Unauthorized modification and encryption of data. Malicious code can infect systems in a variety of attack vectors, including email, malicious websites, and removable media (USB, external hard drives). Its propagation is based on vulnerabilities in the target systems but also on careless behavior of the end user, such as opening attachments and web links, installing software and inserting infected USB on PCs. For malware to be detected and removed, protection mechanisms must be applied to all input and output system points (workstations, web servers, mail servers, proxy'), Document(metadata={'page': 1, 'source': '/content/drive/MyDrive/NLP_Project/malware.pdf'}, page_content='The computer system whose security policy is attempted breached is usually known as the target for the malware. We shall use the term the initiator of the malware to denote the subject who originally launched the malware with the intent of attacking one or more targets. Depending on the type of malware, the set of targets may or may not be explictly known to the initiator. Note that this deﬁnition relates the malic iousness of the software to an attempted breach of the target’s security policy. This in turn means that it depends on the privileges of the initiator on the target system. A program P which would be classiﬁed as malware if initiated by an user with no special privileges, could easily be quite acceptable (though obviously a potential danger to have lying about) if executed by a system administrator with extensive privileges on the target system. 2 Classiﬁcation of Malware Malware is commonly divided into a number of classes, depending on the way in which it is introduced')]\n",
      "\n",
      "</s>\n",
      "<|user|>\n",
      "What is malware, and how does it threaten computer systems?\n",
      "</s>\n",
      "<|assistant|>\n",
      "Malware is a general term for malicious software that aims to breach a computer system's security policy with respect to confidentiality, integrity, or availability. It can take various forms, including executable code, interpreted code, scripts, macros, and more. Malware threatens computer systems by attempting to breach their security policies, which can result in unauthorized access, data theft, modification, or encryption. The types of threats associated with malware include password theft, data theft, identification of additional targets, and unauthorized modification and encryption of data. Malware can infect systems through various attack vectors, such as email, malicious websites, and removable media, and its propagation is often based on vulnerabilities in target systems and careless user behavior. To detect and remove malware, protection mechanisms must be applied to all input and output system points.\n",
      "\n",
      "Cosine Similarity (Groundedness): 0.7672\n",
      "\n",
      "Speed: 9.8962 seconds\n",
      "\n",
      "Please rate the accuracy of the response (1 to 5): 3\n",
      "\n",
      "--------------------------------------------------\n",
      "\n",
      "Ask a question (or type 'end' to finish): Explain the concept of polymorphic viruses and their impact on antivirus systems\n"
     ]
    },
    {
     "name": "stderr",
     "output_type": "stream",
     "text": [
      "Setting `pad_token_id` to `eos_token_id`:None for open-end generation.\n"
     ]
    },
    {
     "name": "stdout",
     "output_type": "stream",
     "text": [
      "\n",
      "Response: \n",
      "<|system|>\n",
      "You are an assistant for question-answering tasks. Use the following pieces of retrieved context to answer the question. If you don't know the answer, say that you don't know. Do not provide links in responses and make responses structured\n",
      "\n",
      "[Document(metadata={'page': 7, 'source': '/content/drive/MyDrive/NLP_Project/malware.pdf'}, page_content='technique is used, for example, by the COK variant (2005) of the BackDoor virus (actually a Trojan horse) which deposits a DLL called spool.dll and then injects code into all processes running on the computer, so that they link to it. 3.3 Disguising the Virus Since signature-based antivirus systems attempt to ﬁnd viral code by looking for charac- teristic byte sequences in the executable, virus designers have adopted various techniques for disguising such sequences. The two dominant techniques are encryption of the viral code and polymorphism. 3.3.1 Encryption Encryption of the viral code with diﬀerent encryption keys will produce diﬀerent cipher- texts, thus ensuring that a signature scanner cannot recognise the virus. However, the 7'), Document(metadata={'page': 16, 'source': '/content/drive/MyDrive/NLP_Project/malware.pdf'}, page_content='instruction (i.e. a call, a possibly conditional jump etc.), which, if present, is the last instruction in the block, and where the edges correspond to possible paths between the basic blocks. Even if groups of instructions with no eﬀect are inserted into the code as illustrated in Figure 6, the basic ﬂow of control in the program is maintained, so the CFGs for the original virus and for the polymorphic variant should have the same form. This is illustrated in Figure 10, which shows the CFG of the original code and a polymorphic variant. Essentially the CFG is a kind of signature for the virus. Of course the method relies on the code for the original virus being known – 16'), Document(metadata={'page': 3, 'source': '/content/drive/MyDrive/NLP_Project/malware.pdf'}, page_content='beginv : if spread condition then for v ∈ victim ﬁles do begin if not infected(v) then determine placement for virus code(); insert instructions into((beginv . . endv),v ); modify to execute inserted instructions(v); ﬁ ; end ; ﬁ ; execute payload(); start execution of infected program(); endv : Figure 1: Code schema for a virus. As indicated by the schema, the detailed action of the virus depends on a number of strategic choices, which in general depend on the eﬀort which the virus designer is prepared to put into avoiding detection by antivirus systems: Spreading condition: The criterion for attempting to propagate the virus. For example, if the virus is to infect the computer’s boot program, this condition could be that the boot sector is uninfected. Infection strategy: The criterion for selecting the set of victim ﬁles. If executable ﬁles are to be infected, this criterion might be to select ﬁles from some standard library. If the virus is based on the use of macros, ﬁles which')]\n",
      "\n",
      "</s>\n",
      "<|user|>\n",
      "Explain the concept of polymorphic viruses and their impact on antivirus systems\n",
      "</s>\n",
      "<|assistant|>\n",
      "Polymorphic viruses are a type of malware that uses various techniques to change its code and evade detection by antivirus systems. The main idea behind polymorphism is to make the virus code look different each time it is executed, making it difficult for signature-based antivirus systems to recognize and detect it.\n",
      "\n",
      "Polymorphic viruses use different encryption keys, encryption algorithms, or other transformation techniques to alter their code. This makes it challenging for antivirus systems to create a signature for the virus, as the signature would need to account for all possible variations of the code.\n",
      "\n",
      "The impact of polymorphic viruses on antivirus systems is significant. Signature-based antivirus systems, which rely on recognizing specific patterns or signatures in the virus code, are often ineffective against polymorphic viruses. This is because the virus code is constantly changing, making it difficult for the antivirus system to keep up with the latest variations.\n",
      "\n",
      "Polymorphic viruses can also use other techniques to evade detection, such as:\n",
      "\n",
      "1. Code obfuscation: making the virus code difficult to understand or analyze.\n",
      "2. Encryption: encrypting the virus code to make it unreadable to the antivirus system.\n",
      "3. Dynamic linking: linking the virus code to other programs or libraries, making it harder to detect.\n",
      "\n",
      "To combat polymorphic viruses, antivirus systems need to use more advanced techniques, such as:\n",
      "\n",
      "1. Behavioral analysis: monitoring the system's behavior and identifying potential threats.\n",
      "2. Heuristics: using rules and algorithms to identify potential threats based on system behavior.\n",
      "3. Machine learning: using machine learning algorithms to learn patterns and anomalies in system behavior.\n",
      "\n",
      "Overall, polymorphic viruses pose a significant challenge to antivirus systems, and it requires advanced techniques and technologies to detect and prevent them.\n",
      "\n",
      "Cosine Similarity (Groundedness): 0.7125\n",
      "\n",
      "Speed: 18.9477 seconds\n",
      "\n",
      "Please rate the accuracy of the response (1 to 5): 4\n",
      "\n",
      "--------------------------------------------------\n",
      "\n",
      "Ask a question (or type 'end' to finish): How do ransomware attacks typically occur, and what steps can mitigate their impact on businesses?\n"
     ]
    },
    {
     "name": "stderr",
     "output_type": "stream",
     "text": [
      "Setting `pad_token_id` to `eos_token_id`:None for open-end generation.\n"
     ]
    },
    {
     "name": "stdout",
     "output_type": "stream",
     "text": [
      "\n",
      "Response: \n",
      "<|system|>\n",
      "You are an assistant for question-answering tasks. Use the following pieces of retrieved context to answer the question. If you don't know the answer, say that you don't know. Do not provide links in responses and make responses structured\n",
      "\n",
      "[Document(metadata={'page': 7, 'source': '/content/drive/MyDrive/NLP_Project/cybersecuirty_sb_factsheets_all.pdf'}, page_content='CYBERSECURITY FOR SMALL BUSINESS HOW TO PROTECT YOUR BUSINESS Have a plan How would your business stay up and running after a ransomware attack? Put this plan in writing and share it with everyone who needs to know. Back up your data Regularly save important files to a drive or server that’s not connected to your network. Make data backup part of your routine business operations. Keep your security up to date Always install the latest patches and updates. Look for additional means of protection, like email authentication, and intrusion prevention software, and set them to update automatically on your computer. On mobile devices, you may have to do it manually. Alert your staff Teach them how to avoid phishing scams and show them some of the common ways computers and devices become infected. Include tips for spotting and protecting against ransomware in your regular orientation and training. WHAT TO DO IF YOU’RE ATTACKED Limit the damage Immediately disconnect the infected computers or'), Document(metadata={'page': 7, 'source': '/content/drive/MyDrive/NLP_Project/cybersecuirty_sb_factsheets_all.pdf'}, page_content='CYBERSECURITY FOR SMALL BUSINESS HOW TO PROTECT YOUR BUSINESS Have a plan How would your business stay up and running after a ransomware attack? Put this plan in writing and share it with everyone who needs to know. Back up your data Regularly save important files to a drive or server that’s not connected to your network. Make data backup part of your routine business operations. Keep your security up to date Always install the latest patches and updates. Look for additional means of protection, like email authentication, and intrusion prevention software, and set them to update automatically on your computer. On mobile devices, you may have to do it manually. Alert your staff Teach them how to avoid phishing scams and show them some of the common ways computers and devices become infected. Include tips for spotting and protecting against ransomware in your regular orientation and training. WHAT TO DO IF YOU’RE ATTACKED Limit the damage Immediately disconnect the infected computers or'), Document(metadata={'page': 6, 'source': '/content/drive/MyDrive/NLP_Project/cybersecuirty_sb_factsheets_all.pdf'}, page_content='CYBERSECURITY FOR SMALL BUSINESS LEARN MORE AT: FTC.gov/SmallBusiness RANSOMWARE Someone in your company gets an email. It looks legitimate — but with one click on a link, or one download of an attachment, everyone is locked out of your network. That link downloaded software that holds your data hostage. That’s a ransomware attack. The attackers ask for money or cryptocurrency, but even if you pay, you don’t know if the cybercriminals will keep your data or destroy your files. Meanwhile, the information you need to run your business and sensitive details about your customers, employees, and company are now in criminal hands. Ransomware can take a serious toll on your business. HOW IT HAPPENS Criminals can start a ransomware attack in a variety of ways. Scam emails with links and attachments that put your data and network at risk. These phishing emails make up most ransomware attacks. Server vulnerabilities which can be exploited by hackers. Infected websites that automatically download')]\n",
      "\n",
      "</s>\n",
      "<|user|>\n",
      "How do ransomware attacks typically occur, and what steps can mitigate their impact on businesses?\n",
      "</s>\n",
      "<|assistant|>\n",
      "Ransomware attacks typically occur through phishing emails with links and attachments that put data and network at risk, or through server vulnerabilities that can be exploited by hackers. Another common method is through infected websites that automatically download malware onto devices. To mitigate their impact, businesses can take steps such as having a plan in place to quickly respond to an attack, backing up important data regularly, keeping security software and systems up to date, and educating employees on how to avoid phishing scams and protect against ransomware. Additionally, businesses can limit the damage by disconnecting infected computers or devices immediately and not paying the ransom, as this does not guarantee the safe return of data.\n",
      "\n",
      "Cosine Similarity (Groundedness): 0.8117\n",
      "\n",
      "Speed: 8.4192 seconds\n",
      "\n",
      "Please rate the accuracy of the response (1 to 5): 4\n",
      "\n",
      "--------------------------------------------------\n",
      "\n",
      "Ask a question (or type 'end' to finish): How does email spoofing work, and what measures can organizations take to prevent it?\n"
     ]
    },
    {
     "name": "stderr",
     "output_type": "stream",
     "text": [
      "Setting `pad_token_id` to `eos_token_id`:None for open-end generation.\n"
     ]
    },
    {
     "name": "stdout",
     "output_type": "stream",
     "text": [
      "\n",
      "Response: \n",
      "<|system|>\n",
      "You are an assistant for question-answering tasks. Use the following pieces of retrieved context to answer the question. If you don't know the answer, say that you don't know. Do not provide links in responses and make responses structured\n",
      "\n",
      "[Document(metadata={'page': 10, 'source': '/content/drive/MyDrive/NLP_Project/cybersecuirty_sb_factsheets_all.pdf'}, page_content='CYBERSECURITY FOR SMALL BUSINESS BUSINESS EMAIL IMPOSTERS LEARN MORE AT: FTC.gov/SmallBusiness A scammer sets up an email address that looks like it’s from your company. Then the scammer sends out messages using that email address. This practice is called spoofing, and the scammer is what we call a business email imposter. Scammers do this to get passwords and bank account numbers or to get someone to send them money. When this happens, your company has a lot to lose. Customers and partners might lose trust and take their business elsewhere — and your business could then lose money. HOW TO PROTECT YOUR BUSINESS Use email authentication When you set up your business’s email, make sure the email provider offers email authentication technology. That way, when you send an email from your company’s server, the receiving servers can confirm that the email is really from you. If it’s not, the receiving servers may block the email and foil a business email imposter. Keep your security up to'), Document(metadata={'page': 10, 'source': '/content/drive/MyDrive/NLP_Project/cybersecuirty_sb_factsheets_all.pdf'}, page_content='CYBERSECURITY FOR SMALL BUSINESS BUSINESS EMAIL IMPOSTERS LEARN MORE AT: FTC.gov/SmallBusiness A scammer sets up an email address that looks like it’s from your company. Then the scammer sends out messages using that email address. This practice is called spoofing, and the scammer is what we call a business email imposter. Scammers do this to get passwords and bank account numbers or to get someone to send them money. When this happens, your company has a lot to lose. Customers and partners might lose trust and take their business elsewhere — and your business could then lose money. HOW TO PROTECT YOUR BUSINESS Use email authentication When you set up your business’s email, make sure the email provider offers email authentication technology. That way, when you send an email from your company’s server, the receiving servers can confirm that the email is really from you. If it’s not, the receiving servers may block the email and foil a business email imposter. Keep your security up to'), Document(metadata={'page': 10, 'source': '/content/drive/MyDrive/NLP_Project/cybersecuirty_sb_factsheets_all.pdf'}, page_content='server, the receiving servers can confirm that the email is really from you. If it’s not, the receiving servers may block the email and foil a business email imposter. Keep your security up to date Always install the latest patches and updates. Set them to update automatically on your network. Look for additional means of protection, like intrusion prevention software, which checks your network for suspicious activity and sends you alerts if it finds any. Train your staff Teach them how to avoid phishing scams and show them some of the common ways attackers can infect computers and devices with malware. Include tips for spotting and protecting against cyber threats in your regular employee trainings and communications.')]\n",
      "\n",
      "</s>\n",
      "<|user|>\n",
      "How does email spoofing work, and what measures can organizations take to prevent it?\n",
      "</s>\n",
      "<|assistant|>\n",
      "Email spoofing is a practice where a scammer sets up an email address that looks like it's from a legitimate company. The scammer then sends out messages using that email address to trick recipients into divulging sensitive information, such as passwords and bank account numbers, or to get them to send money. This practice is called spoofing. Organizations can take several measures to prevent email spoofing, including:\n",
      "\n",
      "1. Using email authentication technology: This technology helps verify the authenticity of emails sent by a company's server, making it harder for scammers to send fake emails that appear to be from the company.\n",
      "2. Keeping security up to date: Regularly installing and updating software and security patches can help prevent exploitation of vulnerabilities that scammers might use to send fake emails.\n",
      "3. Training staff: Educating employees on how to recognize and avoid phishing scams can help prevent them from falling victim to email spoofing attempts.\n",
      "4. Implementing intrusion prevention software: This type of software can detect and block suspicious activity on the network, alerting the organization to potential security threats.\n",
      "5. Regularly monitoring email activity: Keeping a close eye on email traffic can help organizations detect and respond to spoofing attempts in a timely manner.\n",
      "\n",
      "Cosine Similarity (Groundedness): 0.8106\n",
      "\n",
      "Speed: 14.2492 seconds\n",
      "\n",
      "Please rate the accuracy of the response (1 to 5): 4\n",
      "\n",
      "--------------------------------------------------\n",
      "\n",
      "Ask a question (or type 'end' to finish): What are some common characteristics of phishing emails that users should be aware of?\n"
     ]
    },
    {
     "name": "stderr",
     "output_type": "stream",
     "text": [
      "Setting `pad_token_id` to `eos_token_id`:None for open-end generation.\n"
     ]
    },
    {
     "name": "stdout",
     "output_type": "stream",
     "text": [
      "\n",
      "Response: \n",
      "<|system|>\n",
      "You are an assistant for question-answering tasks. Use the following pieces of retrieved context to answer the question. If you don't know the answer, say that you don't know. Do not provide links in responses and make responses structured\n",
      "\n",
      "[Document(metadata={'page': 51, 'source': '/content/drive/MyDrive/NLP_Project/Cybersecurity-Handbook-English-version.pdf'}, page_content=\"52 CYBERSECURITY HANDBOOK ► 12.3 Periodically conduct a cybersecurity awareness training program addressed to distinct roles and targeting different employee categories based on business activities and the level of technical expertise. ► 12.4 Perform a knowledge gap analysis of your employees to develop a plan of sequential trainings. ► 12.5 Periodically conduct exercises that simulate cyber security incidents and their impact. Examples include opening a malicious email attachment or visiting a malicious website. Figure 10 below shows specific signs for detecting a phishing email. For further study, there are several resources on the Internet with useful information on ways to protect against social engineering attacks.21 (1) The sender's email address does not match his signature, and the email domain looks at least suspicious. (2) The subject of the email looks questionable or unwanted. (3) The salutation is not addressed personally to the recipient with his name and surname but it\"), Document(metadata={'page': 17, 'source': '/content/drive/MyDrive/NLP_Project/cybersecuirty_sb_factsheets_all.pdf'}, page_content='CYBERSECURITY FOR SMALL BUSINESS WHAT TO DO IF YOUR EMAIL IS SPOOFED Email authentication helps keep your business’s email from being used in phishing schemes because it notifies you if someone spoofs your company’s email. If you get that notification, take these actions: Report it Report the scam to local law enforcement, the FBI’s Internet Crime Complaint Center at IC3.gov, and the FTC at FTC.gov/Complaint. Y ou also can forward phishing emails to spam@uce.gov (an address used by the FTC) and to reportphishing@apwg.org (an address used by the Anti-Phishing Working Group, which includes ISPs, security vendors, financial institutions, and law enforcement agencies). Notify your customers If you find out scammers are impersonating your business, tell your customers as soon as possible — by mail, email, or social media. If you email your customers, send an email without hyperlinks: you don’t want your notification email to look like a phishing scam. Remind customers not to share any'), Document(metadata={'page': 17, 'source': '/content/drive/MyDrive/NLP_Project/cybersecuirty_sb_factsheets_all.pdf'}, page_content='CYBERSECURITY FOR SMALL BUSINESS WHAT TO DO IF YOUR EMAIL IS SPOOFED Email authentication helps keep your business’s email from being used in phishing schemes because it notifies you if someone spoofs your company’s email. If you get that notification, take these actions: Report it Report the scam to local law enforcement, the FBI’s Internet Crime Complaint Center at IC3.gov, and the FTC at FTC.gov/Complaint. Y ou also can forward phishing emails to spam@uce.gov (an address used by the FTC) and to reportphishing@apwg.org (an address used by the Anti-Phishing Working Group, which includes ISPs, security vendors, financial institutions, and law enforcement agencies). Notify your customers If you find out scammers are impersonating your business, tell your customers as soon as possible — by mail, email, or social media. If you email your customers, send an email without hyperlinks: you don’t want your notification email to look like a phishing scam. Remind customers not to share any')]\n",
      "\n",
      "</s>\n",
      "<|user|>\n",
      "What are some common characteristics of phishing emails that users should be aware of?\n",
      "</s>\n",
      "<|assistant|>\n",
      "According to the provided documents, some common characteristics of phishing emails that users should be aware of include:\n",
      "\n",
      "1. The sender's email address does not match their signature or the email domain looks suspicious.\n",
      "2. The subject of the email looks questionable or unwanted.\n",
      "3. The salutation is not addressed personally to the recipient with their name and surname.\n",
      "\n",
      "These characteristics can help users identify potential phishing emails and take necessary actions to protect themselves.\n",
      "\n",
      "Cosine Similarity (Groundedness): 0.7626\n",
      "\n",
      "Speed: 6.3164 seconds\n",
      "\n",
      "Please rate the accuracy of the response (1 to 5): 4\n",
      "\n",
      "--------------------------------------------------\n",
      "\n",
      "Ask a question (or type 'end' to finish): How does the \"zero trust\" security model differ from traditional network security approaches?\n"
     ]
    },
    {
     "name": "stderr",
     "output_type": "stream",
     "text": [
      "Setting `pad_token_id` to `eos_token_id`:None for open-end generation.\n"
     ]
    },
    {
     "name": "stdout",
     "output_type": "stream",
     "text": [
      "\n",
      "Response: \n",
      "<|system|>\n",
      "You are an assistant for question-answering tasks. Use the following pieces of retrieved context to answer the question. If you don't know the answer, say that you don't know. Do not provide links in responses and make responses structured\n",
      "\n",
      "[Document(metadata={'page': 9, 'source': '/content/drive/MyDrive/NLP_Project/Cybersecurity-Handbook-English-version.pdf'}, page_content='untrustworthy. Each of the above must be authenticated and then explicitly authorized with the minimum required privileges. • “Assume breach” : It is considered that the corporate devices and network may have already been compromised by a malicious actor. The \"deny-by-default\" principle applies to every user, device, application, and data access request. Access is granted after multiple parameters are thoroughly examined (e.g., username, device name and location, time, previously recorded user behavior, etc.). The zero trust approach incorporates highly detailed monitoring procedures. All access requests, configuration changes and network traffic are maintained in log files, which are constantly automatically monitored for suspicious activity. The model recognizes that any access approval to critical resources carries risks and requires immediate incident preparedness, damage assessment, and operational recovery. 2 National Security Agency, (February 2021). Embracing a Zero Trust'), Document(metadata={'page': 10, 'source': '/content/drive/MyDrive/NLP_Project/Cybersecurity-Handbook-English-version.pdf'}, page_content=\"Figure 2 Example of a “zero trust” architecture Source:https://media.defense.gov/2021/Feb/25/2002588479/1/1/0/CSI_EMBRACING_ZT_SECURITY_MODEL_UOO115131-21.PDF Figure 2 shows an example of a zero trust application, where the attacker has compromised the credentials of a legitimate user and is trying to gain access to the organization's systems.\"), Document(metadata={'page': 9, 'source': '/content/drive/MyDrive/NLP_Project/Cybersecurity-Handbook-English-version.pdf'}, page_content='to critical resources carries risks and requires immediate incident preparedness, damage assessment, and operational recovery. 2 National Security Agency, (February 2021). Embracing a Zero Trust Security Model. U.S.A. Available from: https://media.defense.gov/2021/ Feb/25/2002588479/1/1/0/CSI_ EMBRACING_ZT_SECURITY_MODEL_ UOO115131-21.PDF. THE “ZERO TRUST” ARCHITECTURE')]\n",
      "\n",
      "</s>\n",
      "<|user|>\n",
      "How does the \"zero trust\" security model differ from traditional network security approaches?\n",
      "</s>\n",
      "<|assistant|>\n",
      "The \"zero trust\" security model differs from traditional network security approaches in that it assumes that all devices and users within an organization's network may be compromised by a malicious actor. This model requires multiple parameters to be thoroughly examined before granting access to critical resources, and access is granted only after these parameters have been verified. In contrast, traditional network security approaches often rely on a \"deny-by-default\" principle, where access is granted by default and then restricted through the use of firewalls, intrusion detection systems, and other security controls. The zero trust model also incorporates highly detailed monitoring procedures, including the maintenance of log files to detect suspicious activity, and requires immediate incident preparedness, damage assessment, and operational recovery in the event of a breach. Additionally, the zero trust model assumes that any access approval to critical resources carries risks and requires immediate incident preparedness, damage assessment, and operational recovery.\n",
      "\n",
      "Cosine Similarity (Groundedness): 0.6002\n",
      "\n",
      "Speed: 9.5680 seconds\n",
      "\n",
      "Please rate the accuracy of the response (1 to 5): 3\n",
      "\n",
      "--------------------------------------------------\n",
      "\n",
      "Ask a question (or type 'end' to finish): Why is it important for organizations to maintain an up-to-date inventory of hardware and software assets?\n"
     ]
    },
    {
     "name": "stderr",
     "output_type": "stream",
     "text": [
      "Setting `pad_token_id` to `eos_token_id`:None for open-end generation.\n"
     ]
    },
    {
     "name": "stdout",
     "output_type": "stream",
     "text": [
      "\n",
      "Response: \n",
      "<|system|>\n",
      "You are an assistant for question-answering tasks. Use the following pieces of retrieved context to answer the question. If you don't know the answer, say that you don't know. Do not provide links in responses and make responses structured\n",
      "\n",
      "[Document(metadata={'page': 13, 'source': '/content/drive/MyDrive/NLP_Project/Cybersecurity-Handbook-English-version.pdf'}, page_content='14 CYBERSECURITY HANDBOOK PART B BEST PRACTICES 1. INVENTORY OF HARDWARE AND SOFTWARE ASSETS Create an inventory of all IT assets (devices and software) hosted in the physical infrastructure of your organization as well as in cloud environments to form a complete understanding of your asset range and the required controls for their protection and maintenance. The larger an organization is, the more demanding its overall asset management (hardware and software). The assets may reside in more than one location as well as in the cloud, in a modern environment that is constantly changing and currently includes mobile devices (laptops, tablets, smartphones) as well as the dimension of teleworking. Without a system that regularly records their hardware and software assets, organizations face various types of threats: • They cannot track their legally established resources or detect any unauthorized devices that have been connected to their network. • Attackers are constantly and'), Document(metadata={'page': 14, 'source': '/content/drive/MyDrive/NLP_Project/Cybersecurity-Handbook-English-version.pdf'}, page_content='15 CYBERSECURITY HANDBOOK SUB-CONTROLS ► 1.1 Develop and document: • an asset inventory policy that addresses purpose, scope, roles and responsibilities, • procedures for implementing the policy and the relevant protection measures. ► 1.2 Create and maintain an accurate and updated inventory of all IT assets (hardware and software) that are hosted in the organization premises as well as in cloud environments. The inventory must include details such as name, owner, IP address (if static), MAC address, version, function description, location, etc. ► 1.3 Appoint an owner for each asset in the inventory, so that there is responsibility and accountability throughout the asset life cycle. ► 1.4 Classify the assets into distinct groups according to their criticality and sensitivity for business operations. ► 1.5 Develop and document a policy and procedures for the use of removable media (USB, external hard drives, CDs, DVDs). This policy must be consistent with the security risks that your'), Document(metadata={'page': 4, 'source': '/content/drive/MyDrive/NLP_Project/cybersecuirty_sb_factsheets_all.pdf'}, page_content='flash drives, laptops, point-of-sale devices, and other equipment. Store securely When paper files or electronic devices contain sensitive information, store them in a locked cabinet or room. Limit physical access When records or devices contain sensitive data, allow access only to those who need it. Send reminders Remind employees to put paper files in locked file cabinets, log out of your network and applications, and never leave files or devices with sensitive data unattended. Keep stock Keep track of and secure any devices that collect sensitive customer information. Only keep files and data you need and know who has access to them.')]\n",
      "\n",
      "</s>\n",
      "<|user|>\n",
      "Why is it important for organizations to maintain an up-to-date inventory of hardware and software assets?\n",
      "</s>\n",
      "<|assistant|>\n",
      "It is important for organizations to maintain an up-to-date inventory of hardware and software assets because it helps them to track their legally established resources, detect any unauthorized devices that have been connected to their network, and ensure that they have the required controls for the protection and maintenance of their assets. This is particularly crucial for larger organizations with a constantly changing environment, including mobile devices and teleworking. Without an up-to-date inventory, organizations may face various types of threats, such as unauthorized access to their network and data. Additionally, maintaining an accurate inventory helps organizations to classify their assets into distinct groups according to their criticality and sensitivity for business operations, and to develop policies and procedures for the use of removable media. This ultimately enhances their overall asset management and cybersecurity posture.\n",
      "\n",
      "Cosine Similarity (Groundedness): 0.6767\n",
      "\n",
      "Speed: 9.3533 seconds\n",
      "\n",
      "Please rate the accuracy of the response (1 to 5): 3\n",
      "\n",
      "--------------------------------------------------\n",
      "\n",
      "Ask a question (or type 'end' to finish): How can email authentication technology prevent phishing scams?\n"
     ]
    },
    {
     "name": "stderr",
     "output_type": "stream",
     "text": [
      "Setting `pad_token_id` to `eos_token_id`:None for open-end generation.\n"
     ]
    },
    {
     "name": "stdout",
     "output_type": "stream",
     "text": [
      "\n",
      "Response: \n",
      "<|system|>\n",
      "You are an assistant for question-answering tasks. Use the following pieces of retrieved context to answer the question. If you don't know the answer, say that you don't know. Do not provide links in responses and make responses structured\n",
      "\n",
      "[Document(metadata={'page': 16, 'source': '/content/drive/MyDrive/NLP_Project/cybersecuirty_sb_factsheets_all.pdf'}, page_content='CYBERSECURITY FOR SMALL BUSINESS EMAIL AUTHENTICATION Email authentication technology makes it a lot harder for a scammer to send phishing emails that look like they’re from your company. Using email authentication technology makes it a lot harder for scammers to send phishing emails. This technology allows a receiving server to verify an email from your company and block emails from an imposter — or send them to a quarantine folder and then notify you about them. WHAT TO KNOW Some web host providers let you set up your company’s business email using your domain name (which you may think of as your website name). Y our domain name might look like this: yourbusiness.com. And your email may look like this: name@yourbusiness.com. Without email authentication, scammers can use that domain name to send emails that look like they’re from your business. If your business email uses your company’s domain name, make sure that your email provider has these three email authentication tools: Sender'), Document(metadata={'page': 16, 'source': '/content/drive/MyDrive/NLP_Project/cybersecuirty_sb_factsheets_all.pdf'}, page_content='CYBERSECURITY FOR SMALL BUSINESS EMAIL AUTHENTICATION Email authentication technology makes it a lot harder for a scammer to send phishing emails that look like they’re from your company. Using email authentication technology makes it a lot harder for scammers to send phishing emails. This technology allows a receiving server to verify an email from your company and block emails from an imposter — or send them to a quarantine folder and then notify you about them. WHAT TO KNOW Some web host providers let you set up your company’s business email using your domain name (which you may think of as your website name). Y our domain name might look like this: yourbusiness.com. And your email may look like this: name@yourbusiness.com. Without email authentication, scammers can use that domain name to send emails that look like they’re from your business. If your business email uses your company’s domain name, make sure that your email provider has these three email authentication tools: Sender'), Document(metadata={'page': 17, 'source': '/content/drive/MyDrive/NLP_Project/cybersecuirty_sb_factsheets_all.pdf'}, page_content='CYBERSECURITY FOR SMALL BUSINESS WHAT TO DO IF YOUR EMAIL IS SPOOFED Email authentication helps keep your business’s email from being used in phishing schemes because it notifies you if someone spoofs your company’s email. If you get that notification, take these actions: Report it Report the scam to local law enforcement, the FBI’s Internet Crime Complaint Center at IC3.gov, and the FTC at FTC.gov/Complaint. Y ou also can forward phishing emails to spam@uce.gov (an address used by the FTC) and to reportphishing@apwg.org (an address used by the Anti-Phishing Working Group, which includes ISPs, security vendors, financial institutions, and law enforcement agencies). Notify your customers If you find out scammers are impersonating your business, tell your customers as soon as possible — by mail, email, or social media. If you email your customers, send an email without hyperlinks: you don’t want your notification email to look like a phishing scam. Remind customers not to share any')]\n",
      "\n",
      "</s>\n",
      "<|user|>\n",
      "How can email authentication technology prevent phishing scams?\n",
      "</s>\n",
      "<|assistant|>\n",
      "Email authentication technology can prevent phishing scams by allowing a receiving server to verify an email from a company and block emails from an imposter, or send them to a quarantine folder and then notify the company about them. This technology makes it harder for scammers to send phishing emails that look like they're from a company, as the receiving server can verify the email and block or quarantine it. Additionally, email authentication technology can notify the company if someone spoofs their email, allowing them to take action to prevent further scams.\n",
      "\n",
      "Cosine Similarity (Groundedness): 0.8201\n",
      "\n",
      "Speed: 7.3691 seconds\n",
      "\n",
      "Please rate the accuracy of the response (1 to 5): 4\n",
      "\n",
      "--------------------------------------------------\n",
      "\n",
      "Ask a question (or type 'end' to finish): What are the main risks of using public Wi-Fi networks, and what precautions should employees take when connecting to them?\n"
     ]
    },
    {
     "name": "stderr",
     "output_type": "stream",
     "text": [
      "Setting `pad_token_id` to `eos_token_id`:None for open-end generation.\n"
     ]
    },
    {
     "name": "stdout",
     "output_type": "stream",
     "text": [
      "\n",
      "Response: \n",
      "<|system|>\n",
      "You are an assistant for question-answering tasks. Use the following pieces of retrieved context to answer the question. If you don't know the answer, say that you don't know. Do not provide links in responses and make responses structured\n",
      "\n",
      "[Document(metadata={'page': 23, 'source': '/content/drive/MyDrive/NLP_Project/cybersecuirty_sb_factsheets_all.pdf'}, page_content='employees to use. WHAT TO DO TO MAINTAIN SECURITY Include information on secure remote access in regular trainings and new staff orientations. Have policies covering basic cybersecurity, give copies to your employees, and explain the importance of following them. Before letting any device — whether at an employee’s home or on a vendor’s network — connect to your network, make sure it meets your network’s security requirements. Tell your staff about the risks of public Wi-Fi. Train your staff: Give your staff tools that will help maintain security: • Require employees to use unique, complex network passwords and avoid unattended, open workstations. • Require multi-factor authentication to access areas of your network that have sensitive information. This requires additional steps beyond logging in with a password — like a temporary code on a smartphone or a k ey that’s inserted into a computer. • If you offer Wi-Fi on your business premises for guests and customers, make sure it’s'), Document(metadata={'page': 23, 'source': '/content/drive/MyDrive/NLP_Project/cybersecuirty_sb_factsheets_all.pdf'}, page_content='employees to use. WHAT TO DO TO MAINTAIN SECURITY Include information on secure remote access in regular trainings and new staff orientations. Have policies covering basic cybersecurity, give copies to your employees, and explain the importance of following them. Before letting any device — whether at an employee’s home or on a vendor’s network — connect to your network, make sure it meets your network’s security requirements. Tell your staff about the risks of public Wi-Fi. Train your staff: Give your staff tools that will help maintain security: • Require employees to use unique, complex network passwords and avoid unattended, open workstations. • Require multi-factor authentication to access areas of your network that have sensitive information. This requires additional steps beyond logging in with a password — like a temporary code on a smartphone or a k ey that’s inserted into a computer. • If you offer Wi-Fi on your business premises for guests and customers, make sure it’s'), Document(metadata={'page': 42, 'source': '/content/drive/MyDrive/NLP_Project/Cybersecurity-Handbook-English-version.pdf'}, page_content=\"may send a fraudulent email to the teleworking employee, which will contain either a malicious attachment or a link to a malicious website, attempting to infect the user's computer with malware (e.g. ransomware) or to collect the user's credentials, • Breaches in public Wi-Fi networks : an attacker may spoof a Wi-Fi network by creating another network with the same SSID name. By this way he can steal the credentials of unsuspecting users who telework outdoors. He may also intercept network traffic as well as enter his own messages to the network and thus alter the data with the final aim to gain access to the organizational network, • Weak security settings: the employee works from home most times by using his own personal device (desktop PC or laptop) and thus by possibly applying insecure measures and behavior, such as weak passwords, unpatched applications, a single user account with administrative privileges, not backing up data and many more. The protection measures listed below\")]\n",
      "\n",
      "</s>\n",
      "<|user|>\n",
      "What are the main risks of using public Wi-Fi networks, and what precautions should employees take when connecting to them?\n",
      "</s>\n",
      "<|assistant|>\n",
      "The main risks of using public Wi-Fi networks include the potential for interception of network traffic and access to sensitive information. Additionally, there is a risk of malware infection, such as ransomware, and unauthorized access to an employee's device. To mitigate these risks, employees should take precautions when connecting to public Wi-Fi networks, such as avoiding sensitive activities, using a virtual private network (VPN), and keeping their device and software up to date. Employees should also use strong passwords and two-factor authentication to protect their accounts. Furthermore, employees should be aware of the risks of phishing and should not provide sensitive information over public Wi-Fi networks. It is recommended that employees use a VPN to encrypt their internet traffic and protect their data from interception.\n",
      "\n",
      "Cosine Similarity (Groundedness): 0.7340\n",
      "\n",
      "Speed: 9.1673 seconds\n",
      "\n",
      "Please rate the accuracy of the response (1 to 5): 3\n",
      "\n",
      "--------------------------------------------------\n",
      "\n",
      "Ask a question (or type 'end' to finish): What are the primary security risks associated with removable devices like USBs, and how can these risks be minimized?\n"
     ]
    },
    {
     "name": "stderr",
     "output_type": "stream",
     "text": [
      "Setting `pad_token_id` to `eos_token_id`:None for open-end generation.\n"
     ]
    },
    {
     "name": "stdout",
     "output_type": "stream",
     "text": [
      "\n",
      "Response: \n",
      "<|system|>\n",
      "You are an assistant for question-answering tasks. Use the following pieces of retrieved context to answer the question. If you don't know the answer, say that you don't know. Do not provide links in responses and make responses structured\n",
      "\n",
      "[Document(metadata={'page': 36, 'source': '/content/drive/MyDrive/NLP_Project/Cybersecurity-Handbook-English-version.pdf'}, page_content='to files and server processes, • unsuccessful file execution attempts, • special privileges usage and usage attempts, • system files usage, • changes in user accounts and in the security policy, • HTTP(S) and DNS requests, • data transfer to and from portable storage media. WHAT ARE THE RISKS?'), Document(metadata={'page': 4, 'source': '/content/drive/MyDrive/NLP_Project/cybersecuirty_sb_factsheets_all.pdf'}, page_content='flash drives, laptops, point-of-sale devices, and other equipment. Store securely When paper files or electronic devices contain sensitive information, store them in a locked cabinet or room. Limit physical access When records or devices contain sensitive data, allow access only to those who need it. Send reminders Remind employees to put paper files in locked file cabinets, log out of your network and applications, and never leave files or devices with sensitive data unattended. Keep stock Keep track of and secure any devices that collect sensitive customer information. Only keep files and data you need and know who has access to them.'), Document(metadata={'page': 4, 'source': '/content/drive/MyDrive/NLP_Project/cybersecuirty_sb_factsheets_all.pdf'}, page_content='flash drives, laptops, point-of-sale devices, and other equipment. Store securely When paper files or electronic devices contain sensitive information, store them in a locked cabinet or room. Limit physical access When records or devices contain sensitive data, allow access only to those who need it. Send reminders Remind employees to put paper files in locked file cabinets, log out of your network and applications, and never leave files or devices with sensitive data unattended. Keep stock Keep track of and secure any devices that collect sensitive customer information. Only keep files and data you need and know who has access to them.')]\n",
      "\n",
      "</s>\n",
      "<|user|>\n",
      "What are the primary security risks associated with removable devices like USBs, and how can these risks be minimized?\n",
      "</s>\n",
      "<|assistant|>\n",
      "The primary security risks associated with removable devices like USBs include:\n",
      "\n",
      "*   Unauthorized access to sensitive information\n",
      "*   Malware installation\n",
      "*   Data theft\n",
      "\n",
      "To minimize these risks, consider the following measures:\n",
      "\n",
      "*   Implement a Bring Your Own Device (BYOD) policy that requires devices to be encrypted and secure\n",
      "*   Use antivirus software to scan devices before connecting them to the network\n",
      "*   Limit physical access to devices and ensure they are stored in a secure location\n",
      "*   Use strong passwords and multi-factor authentication to protect devices and data\n",
      "*   Regularly update and patch devices to prevent exploitation of known vulnerabilities\n",
      "*   Use a secure erasure method to wipe devices clean when they are no longer needed\n",
      "*   Implement a policy for secure disposal of devices that contain sensitive information\n",
      "*   Limit the use of public Wi-Fi or unsecured networks when using removable devices\n",
      "*   Use a secure and encrypted method for transferring data between devices and the network\n",
      "*   Monitor device activity and detect any suspicious behavior\n",
      "*   Limit the amount of data stored on devices and ensure that only necessary data is transferred\n",
      "*   Use a secure and encrypted method for storing sensitive information on devices\n",
      "*   Limit access to devices and ensure that only authorized personnel have access to them\n",
      "*   Regularly inspect devices for signs of tampering or unauthorized access\n",
      "*   Use a secure and encrypted method for storing and transmitting sensitive information\n",
      "*   Implement a policy for secure disposal of devices that contain sensitive information\n",
      "*   Limit the use of public Wi-Fi or unsecured networks when using removable devices\n",
      "*   Use a secure and encrypted method for transferring data between devices and the network\n",
      "*   Monitor device activity and detect any suspicious behavior\n",
      "*   Limit the amount of data stored on devices and ensure that only necessary data is transferred\n",
      "*   Use a secure and encrypted method for storing sensitive information on devices\n",
      "*   Limit access to devices and ensure that only authorized personnel have access to them\n",
      "*\n",
      "\n",
      "Cosine Similarity (Groundedness): 0.6322\n",
      "\n",
      "Speed: 20.5778 seconds\n",
      "\n",
      "Please rate the accuracy of the response (1 to 5): 4\n",
      "\n",
      "--------------------------------------------------\n",
      "\n",
      "Ask a question (or type 'end' to finish): What are the key considerations for organizations when implementing a bring your own device (BYOD) policy?\n"
     ]
    },
    {
     "name": "stderr",
     "output_type": "stream",
     "text": [
      "Setting `pad_token_id` to `eos_token_id`:None for open-end generation.\n"
     ]
    },
    {
     "name": "stdout",
     "output_type": "stream",
     "text": [
      "\n",
      "Response: \n",
      "<|system|>\n",
      "You are an assistant for question-answering tasks. Use the following pieces of retrieved context to answer the question. If you don't know the answer, say that you don't know. Do not provide links in responses and make responses structured\n",
      "\n",
      "[Document(metadata={'page': 14, 'source': '/content/drive/MyDrive/NLP_Project/Cybersecurity-Handbook-English-version.pdf'}, page_content='operations. ► 1.5 Develop and document a policy and procedures for the use of removable media (USB, external hard drives, CDs, DVDs). This policy must be consistent with the security risks that your systems and data face and must cover: • the acceptable uses and types of portable media, • the requirements for the protection of portable media and their content, • the requirements for reporting a lost or stolen portable device, • the requirements for the removal, destruction or disposal of portable media. ► 1.6 Ensure that the proprietary mobile devices (laptops, tablets, smartphones) that employees bring to their working environment (\"bring your own device\") do not have access to critical or sensitive enterprise systems. ► 1.7 Ensure that the proprietary mobile devices (laptops, tablets, smartphones) that employees bring to their working environment (\"bring your own device\") access the Internet through a network that is strictly separated from the enterprise network.'), Document(metadata={'page': 23, 'source': '/content/drive/MyDrive/NLP_Project/cybersecuirty_sb_factsheets_all.pdf'}, page_content='employees to use. WHAT TO DO TO MAINTAIN SECURITY Include information on secure remote access in regular trainings and new staff orientations. Have policies covering basic cybersecurity, give copies to your employees, and explain the importance of following them. Before letting any device — whether at an employee’s home or on a vendor’s network — connect to your network, make sure it meets your network’s security requirements. Tell your staff about the risks of public Wi-Fi. Train your staff: Give your staff tools that will help maintain security: • Require employees to use unique, complex network passwords and avoid unattended, open workstations. • Require multi-factor authentication to access areas of your network that have sensitive information. This requires additional steps beyond logging in with a password — like a temporary code on a smartphone or a k ey that’s inserted into a computer. • If you offer Wi-Fi on your business premises for guests and customers, make sure it’s'), Document(metadata={'page': 23, 'source': '/content/drive/MyDrive/NLP_Project/cybersecuirty_sb_factsheets_all.pdf'}, page_content='employees to use. WHAT TO DO TO MAINTAIN SECURITY Include information on secure remote access in regular trainings and new staff orientations. Have policies covering basic cybersecurity, give copies to your employees, and explain the importance of following them. Before letting any device — whether at an employee’s home or on a vendor’s network — connect to your network, make sure it meets your network’s security requirements. Tell your staff about the risks of public Wi-Fi. Train your staff: Give your staff tools that will help maintain security: • Require employees to use unique, complex network passwords and avoid unattended, open workstations. • Require multi-factor authentication to access areas of your network that have sensitive information. This requires additional steps beyond logging in with a password — like a temporary code on a smartphone or a k ey that’s inserted into a computer. • If you offer Wi-Fi on your business premises for guests and customers, make sure it’s')]\n",
      "\n",
      "</s>\n",
      "<|user|>\n",
      "What are the key considerations for organizations when implementing a bring your own device (BYOD) policy?\n",
      "</s>\n",
      "<|assistant|>\n",
      "The key considerations for organizations when implementing a bring your own device (BYOD) policy include:\n",
      "\n",
      "1. Ensuring that proprietary mobile devices (laptops, tablets, smartphones) do not have access to critical or sensitive enterprise systems.\n",
      "2. Ensuring that proprietary mobile devices access the Internet through a network that is strictly separated from the enterprise network.\n",
      "3. Developing and documenting a policy and procedures for the use of removable media (USB, external hard drives, CDs, DVDs), including the acceptable uses and types of portable media, the requirements for the protection of portable media and their content, the requirements for reporting a lost or stolen portable device, and the requirements for the removal, destruction or disposal of portable media.\n",
      "\n",
      "These considerations are essential to maintain the security and integrity of the organization's systems and data.\n",
      "\n",
      "Cosine Similarity (Groundedness): 0.7520\n",
      "\n",
      "Speed: 10.3443 seconds\n",
      "\n",
      "Please rate the accuracy of the response (1 to 5): 5\n",
      "\n",
      "--------------------------------------------------\n",
      "\n",
      "Ask a question (or type 'end' to finish): Describe the Entry Point Obscuring (EPO) technique used by some viruses and why it's effective against antivirus systems.\n"
     ]
    },
    {
     "name": "stderr",
     "output_type": "stream",
     "text": [
      "Setting `pad_token_id` to `eos_token_id`:None for open-end generation.\n"
     ]
    },
    {
     "name": "stdout",
     "output_type": "stream",
     "text": [
      "\n",
      "Response: \n",
      "<|system|>\n",
      "You are an assistant for question-answering tasks. Use the following pieces of retrieved context to answer the question. If you don't know the answer, say that you don't know. Do not provide links in responses and make responses structured\n",
      "\n",
      "[Document(metadata={'page': 6, 'source': '/content/drive/MyDrive/NLP_Project/malware.pdf'}, page_content='tryPoint ﬁeld in the Optional Header, so that it points to the start of the virus code. With this approach, it is usual for the virus code to be constructed so that the “original” code is executed after the virus code, as indicated in the examples of Figure 5. In this way, the executable appears to have the usual eﬀect and the user does not get suspicious. Directly changing the AddressOfEntryPoint ﬁeld is such an obvious idea that most an- tivirus systems check whether the beginning of the code is in a section which should not contain executable code or contains known patterns from a database of viral code. In an Entry Point Obscuring (EPO) virus, a more sophisticated technique is adopted in order to hide what is going on. Some possibilities, roughly in order of increasing complexity, are: • Insert a JUMP instruction somewhere in the executable’s code, to cause a jump to the start of the virus code. 6'), Document(metadata={'page': 7, 'source': '/content/drive/MyDrive/NLP_Project/malware.pdf'}, page_content='imported functions, so that one of the entries in the table is replaced by the address of the start of the virus code. When the infected executable calls the relevant function, it starts the virus code instead. Once again, in order to prevent users becoming suspicious, the virus must call the original function once its own execution is completed. Detection of EPO vira is a challenge, as the inserted or modiﬁed JUMP or CALL instruc- tions can in principle be placed anywhere within the code. Searching through the ﬁle and checking all the JUMP and CALL instructions to see whether they activate viral code can be a slow process. The other eﬀective way to detect the presence of the virus is to emulate the execution of the program and see whether it would actually cause any damaging eﬀects. This is also slow, and can be fooled by a clever virus designer who includes random choices in the virus, so that it does not have a malicious eﬀect every time it is activated. It is exactly this problem'), Document(metadata={'page': 7, 'source': '/content/drive/MyDrive/NLP_Project/malware.pdf'}, page_content='is also slow, and can be fooled by a clever virus designer who includes random choices in the virus, so that it does not have a malicious eﬀect every time it is activated. It is exactly this problem with EPO vira which has led to the development of antivirus systems which rely on detection of malicious behaviour rather than recognition of signatures. This approach will be dealt with in more detail in Section 6.3 below. A variant of the EPO approach is for the actual viral code to be kept in a library ﬁle (a shared library or a DLL) which the infected executable will call. The changes to the infected ﬁle can in this way be kept to a minimum: a pointer to the malicious library needs to be inserted in the import tables, and a CALL instruction must be inserted somewhere in the executable. This technique is used, for example, by the COK variant (2005) of the BackDoor virus (actually a Trojan horse) which deposits a DLL called spool.dll and then injects code into all processes running on')]\n",
      "\n",
      "</s>\n",
      "<|user|>\n",
      "Describe the Entry Point Obscuring (EPO) technique used by some viruses and why it's effective against antivirus systems.\n",
      "</s>\n",
      "<|assistant|>\n",
      "The Entry Point Obscuring (EPO) technique is used by some viruses to hide their malicious code by modifying the executable file's entry point, which is the starting point of the program's execution. This technique is effective against antivirus systems because it makes it difficult for them to detect the virus's presence.\n",
      "\n",
      "Some viruses use EPO by inserting a JUMP instruction or a CALL instruction in the executable's code to jump to or call the start of the virus code. This makes it difficult for antivirus systems to detect the virus's presence, as the JUMP or CALL instruction can be placed anywhere in the code.\n",
      "\n",
      "Another way EPO is used is by inserting a pointer to the malicious library file into the import tables of the executable. The infected executable then calls the malicious library, which contains the virus code. This approach is effective because it minimizes the changes made to the original executable file, making it harder for antivirus systems to detect the virus.\n",
      "\n",
      "EPO is effective against antivirus systems because it relies on detection of malicious behavior rather than recognition of signatures. Antivirus systems that use this approach can be fooled by a clever virus designer who includes random choices in the virus, making it difficult to detect the virus's presence. Additionally, searching through the entire codebase to detect EPO viruses can be slow and time-consuming, making it a challenging task for antivirus systems.\n",
      "\n",
      "Cosine Similarity (Groundedness): 0.8330\n",
      "\n",
      "Speed: 16.1860 seconds\n",
      "\n",
      "Please rate the accuracy of the response (1 to 5): 5\n",
      "\n",
      "--------------------------------------------------\n",
      "\n",
      "Ask a question (or type 'end' to finish):  How do logic bombs operate, and what typically triggers their activation?\n"
     ]
    },
    {
     "name": "stderr",
     "output_type": "stream",
     "text": [
      "Setting `pad_token_id` to `eos_token_id`:None for open-end generation.\n"
     ]
    },
    {
     "name": "stdout",
     "output_type": "stream",
     "text": [
      "\n",
      "Response: \n",
      "<|system|>\n",
      "You are an assistant for question-answering tasks. Use the following pieces of retrieved context to answer the question. If you don't know the answer, say that you don't know. Do not provide links in responses and make responses structured\n",
      "\n",
      "[Document(metadata={'page': 10, 'source': '/content/drive/MyDrive/NLP_Project/malware.pdf'}, page_content='are: 1. To exploit the targets in order to cause a Distributed DoS attack on a chosen system. Example: Apache/mod ssl (2002) 2. Website defacement on the targets, which are chosen to be web servers. Example: Perl.Santy (2004), which overwrote all ﬁl es with extensions .asp, .htm, .jsp, .php, .phtm and .shtm on the server, so they all produced the text “This site is defaced!!! NeverEverNoSanity WebWorm generation xx”. 3. Installation of a keylogger to track the user’s input, typically in order to pick up passwords, PIN codes, credit card numbers or other conﬁdential information, and to 10'), Document(metadata={'page': 1, 'source': '/content/drive/MyDrive/NLP_Project/malware.pdf'}, page_content='An Introduction to Malware Robin Sharp Spring 2007 Abstract These notes, intended for use in DTU course 02233 on Network Security, give a short introduction to the topic of malware. The most important types of malware are described, together with their basic principles of operation and dissemination, and defenses against malware are discussed. 1 Some Deﬁnitions Malware is a general term for all types of malicious software, which in the context of computer security means: Software which is used with the aim of attempting to breach a computer system’s security policy with respect to Conﬁdentiality, Integrity or Availability. The term software should here be understood in the broadest sense, as the malicious eﬀect may make use of executable code, interpreted code, scripts, macros etc. The computer system whose security policy is attempted breached is usually known as the target for the malware. We shall use the term the initiator of the malware to denote the subject who originally'), Document(metadata={'page': 2, 'source': '/content/drive/MyDrive/NLP_Project/malware.pdf'}, page_content='slightly diﬀerent, deﬁnitions in the literature, as the borderlines be- tween the classes are a bit fuzzy, and the classes are obviously not exclusive. For example, a virus can contain logic bomb functionality, if its malicious eﬀect is not triggered until a certain date or time (such as midnight on Friday 13th) is reached. Or a trojan horse may contain backdoor functionality, and so on. 3V i r a A virus (plural: vira) typically consists of two parts, each responsible for one of the char- acteristic actions which the virus will perform: Insertion code: Code to insert a copy of the virus into one or more ﬁles on the target. We shall call these the victim ﬁles. Payload: Code to perform the malicious activity associated with the virus. All vira contain insertion code, but the payload is optional, since the virus may have been constructed just to reproduce itself without doing anything more damaging than that. On the other hand, the payload may produce serious damage, such as deleting all')]\n",
      "\n",
      "</s>\n",
      "<|user|>\n",
      " How do logic bombs operate, and what typically triggers their activation?\n",
      "</s>\n",
      "<|assistant|>\n",
      "Logic bombs are a type of malicious software that can remain dormant for a specified period of time before being triggered to perform a malicious action. They typically operate by being embedded in a program or system, often in a seemingly innocuous way. \n",
      "\n",
      "Logic bombs can be triggered by various factors, such as:\n",
      "\n",
      "1. A specific date or time: As mentioned in the provided context, a logic bomb can be set to trigger at a specific date or time, such as midnight on Friday the 13th.\n",
      "2. A user's action: A logic bomb can be triggered by a specific action taken by a user, such as opening a certain file or executing a particular program.\n",
      "3. A system event: A logic bomb can be triggered by a system event, such as a restart or a shutdown.\n",
      "4. A hardware change: A logic bomb can be triggered by a hardware change, such as the insertion of a new device or the removal of an existing one.\n",
      "\n",
      "Once triggered, the logic bomb can perform a wide range of malicious actions, including:\n",
      "\n",
      "* Deleting or corrupting files\n",
      "* Stealing sensitive data\n",
      "* Crashing the system\n",
      "* Launching a denial-of-service attack\n",
      "* Spreading malware\n",
      "\n",
      "It's worth noting that logic bombs can be difficult to detect and remove, as they can be hidden in seemingly innocuous code or programs. Therefore, it's essential to implement robust security measures to detect and prevent logic bombs from being triggered.\n",
      "\n",
      "Cosine Similarity (Groundedness): 0.6325\n",
      "\n",
      "Speed: 16.6210 seconds\n",
      "\n",
      "Please rate the accuracy of the response (1 to 5): 5\n",
      "\n",
      "--------------------------------------------------\n",
      "\n",
      "Ask a question (or type 'end' to finish): What role does employee training play in preventing phishing attacks and other social engineering threats?\n"
     ]
    },
    {
     "name": "stderr",
     "output_type": "stream",
     "text": [
      "Setting `pad_token_id` to `eos_token_id`:None for open-end generation.\n"
     ]
    },
    {
     "name": "stdout",
     "output_type": "stream",
     "text": [
      "\n",
      "Response: \n",
      "<|system|>\n",
      "You are an assistant for question-answering tasks. Use the following pieces of retrieved context to answer the question. If you don't know the answer, say that you don't know. Do not provide links in responses and make responses structured\n",
      "\n",
      "[Document(metadata={'page': 50, 'source': '/content/drive/MyDrive/NLP_Project/Cybersecurity-Handbook-English-version.pdf'}, page_content='51 CYBERSECURITY HANDBOOK 12. CYBERSECURITY SKILLS AND AWARENESS TRAINING Implement training programs on a regular basis, to improve the skills and awareness of your employees on cybersecurity issues. Employees play a critical role in the security of network and information systems. The lack of training and corresponding responsibility for this issue poses various types of threats to the organizations: • Social engineering attacks : due to the improvement of protection technologies in recent years, attackers are now targeting the greatest vulnerability, which is the human factor. Today, most cyber attacks start with a phishing email, which contains either a malicious attachment or a link to a malicious website. If the user is deceived, then in both cases the attacker may gain full control of the organizational systems. • Insider threat: disgruntled employees may disclose critical corporate data, as well as cause deliberate deletion or other damage to an entity’s resources. • Portable'), Document(metadata={'page': 9, 'source': '/content/drive/MyDrive/NLP_Project/cybersecuirty_sb_factsheets_all.pdf'}, page_content='in your regular training. Deploy a safety net Use email authentication technology to help prevent phishing emails from reaching your company’s inboxes in the first place. WHAT IF YOU FALL FOR A PHISHING SCHEME Alert others Talk to your colleagues and share your experience. Phishing attacks often happen to more than one person in a company. Limit the damage Immediately change any compromised passwords and disconnect from the network any computer or device that’s infected with malware. Follow your company’s procedures These may include notifying specific people in your organization or contractors that help you with IT. Notify customers If your data or personal information was compromised, make sure you notify the affected parties — they could be at risk of identity theft. Find information on how to do that at Data Breach Response: A Guide for Business (FTC.gov/DataBreach). Report it Forward phishing emails to spam@uce. gov (an address used by the FT C) and to reportphishing@apwg.org (an'), Document(metadata={'page': 9, 'source': '/content/drive/MyDrive/NLP_Project/cybersecuirty_sb_factsheets_all.pdf'}, page_content='in your regular training. Deploy a safety net Use email authentication technology to help prevent phishing emails from reaching your company’s inboxes in the first place. WHAT IF YOU FALL FOR A PHISHING SCHEME Alert others Talk to your colleagues and share your experience. Phishing attacks often happen to more than one person in a company. Limit the damage Immediately change any compromised passwords and disconnect from the network any computer or device that’s infected with malware. Follow your company’s procedures These may include notifying specific people in your organization or contractors that help you with IT. Notify customers If your data or personal information was compromised, make sure you notify the affected parties — they could be at risk of identity theft. Find information on how to do that at Data Breach Response: A Guide for Business (FTC.gov/DataBreach). Report it Forward phishing emails to spam@uce. gov (an address used by the FT C) and to reportphishing@apwg.org (an')]\n",
      "\n",
      "</s>\n",
      "<|user|>\n",
      "What role does employee training play in preventing phishing attacks and other social engineering threats?\n",
      "</s>\n",
      "<|assistant|>\n",
      "Employee training plays a critical role in preventing phishing attacks and other social engineering threats. Implementing regular training programs can improve employees' skills and awareness of cybersecurity issues, helping to mitigate the risk of social engineering attacks. Training can include educating employees on how to identify and report phishing emails, as well as how to handle suspicious emails and attachments. Additionally, training can cover topics such as email authentication, password management, and the importance of verifying the authenticity of emails and requests. By investing in employee training, organizations can reduce the risk of social engineering attacks and other types of cyber threats.\n",
      "\n",
      "Cosine Similarity (Groundedness): 0.7528\n",
      "\n",
      "Speed: 8.2258 seconds\n",
      "\n",
      "Please rate the accuracy of the response (1 to 5): 3\n",
      "\n",
      "--------------------------------------------------\n",
      "\n",
      "Ask a question (or type 'end' to finish):  What is the purpose of the insertion code in a virus, and what strategies do virus designers use for code placement?\n"
     ]
    },
    {
     "name": "stderr",
     "output_type": "stream",
     "text": [
      "Setting `pad_token_id` to `eos_token_id`:None for open-end generation.\n"
     ]
    },
    {
     "name": "stdout",
     "output_type": "stream",
     "text": [
      "\n",
      "Response: \n",
      "<|system|>\n",
      "You are an assistant for question-answering tasks. Use the following pieces of retrieved context to answer the question. If you don't know the answer, say that you don't know. Do not provide links in responses and make responses structured\n",
      "\n",
      "[Document(metadata={'page': 6, 'source': '/content/drive/MyDrive/NLP_Project/malware.pdf'}, page_content='enough waste space, the malicious code can be divided among several sections, as illustrated in Figure 5(b). A common arrangement is for the largest area of waste space to be used to contain a small loader which can load the remaining pieces of the virus code as required. One of the tests used for selecting the set of victim ﬁles would then typically be that they must contain a contiguous area of waste space which is large enough to hold the virus loader. Dividing the virus code up into small pieces also helps the virus designer to avoid his virus being detected, as the antivirus system will ﬁnd it diﬃcult to recognise a signature which is spread out over several regions of the ﬁle. 3.2 Executing the Virus Code The simplest way of ensuring that the virus code is executed is to change theAddressOfEn- tryPoint ﬁeld in the Optional Header, so that it points to the start of the virus code. With this approach, it is usual for the virus code to be constructed so that the “original” code is'), Document(metadata={'page': 3, 'source': '/content/drive/MyDrive/NLP_Project/malware.pdf'}, page_content='beginv : if spread condition then for v ∈ victim ﬁles do begin if not infected(v) then determine placement for virus code(); insert instructions into((beginv . . endv),v ); modify to execute inserted instructions(v); ﬁ ; end ; ﬁ ; execute payload(); start execution of infected program(); endv : Figure 1: Code schema for a virus. As indicated by the schema, the detailed action of the virus depends on a number of strategic choices, which in general depend on the eﬀort which the virus designer is prepared to put into avoiding detection by antivirus systems: Spreading condition: The criterion for attempting to propagate the virus. For example, if the virus is to infect the computer’s boot program, this condition could be that the boot sector is uninfected. Infection strategy: The criterion for selecting the set of victim ﬁles. If executable ﬁles are to be infected, this criterion might be to select ﬁles from some standard library. If the virus is based on the use of macros, ﬁles which'), Document(metadata={'page': 3, 'source': '/content/drive/MyDrive/NLP_Project/malware.pdf'}, page_content='for selecting the set of victim ﬁles. If executable ﬁles are to be infected, this criterion might be to select ﬁles from some standard library. If the virus is based on the use of macros, ﬁles which support these macros should be looked for, etc. Code placement strategy:The rules for placing code into the victim ﬁle. The simplest strategy is of course to place it at the beginning or the end, but this is such an obvious idea that most antivirus programs would check there ﬁrst. More subtle strategies which help the virus designer to conceal his virus will be discussed below. Execution strategy: The technique chosen for forcing the computer to execute the var- ious parts of the virus and the infected program. The code to achieve this is also something which might easily be recognised by an antivirus system, and some tech- niques used to avoid detection will be discussed below. Disguise strategy: Although not seen directly in the schema, the designer may attempt to disguise the presence')]\n",
      "\n",
      "</s>\n",
      "<|user|>\n",
      " What is the purpose of the insertion code in a virus, and what strategies do virus designers use for code placement?\n",
      "</s>\n",
      "<|assistant|>\n",
      "Virus designers use several strategies for code placement, including placing the code at the beginning or end of a victim file, as well as more subtle strategies to conceal the virus. The purpose of the insertion code in a virus is to insert instructions into the victim file, which allows the virus to execute the inserted instructions and infect the computer. The insertion code is typically used to place the virus code in a location where it can be executed by the computer, such as at the beginning or end of a file. By using these strategies, virus designers can make it difficult for antivirus systems to detect the virus. \n",
      "\n",
      "One strategy used for code placement is to use a large contiguous area of waste space to contain a small loader, which can load the remaining pieces of the virus code as required. This approach helps the virus designer to avoid detection, as antivirus systems will find it difficult to recognize a signature that is spread out over several regions of the file. \n",
      "\n",
      "Another strategy used is to divide the virus code into small pieces, making it harder for antivirus systems to recognize a signature that is spread out over several regions of the file. This approach also makes it easier for the virus designer to avoid detection, as antivirus systems will find it difficult to recognize a signature that is spread out over several regions of the file. \n",
      "\n",
      "Overall, the purpose of the insertion code in a virus is to execute the virus code and infect the computer, and virus designers use various strategies to place the code in a location where it can be executed by the computer, making it difficult for antivirus systems to detect the virus.\n",
      "\n",
      "Cosine Similarity (Groundedness): 0.8368\n",
      "\n",
      "Speed: 18.3654 seconds\n",
      "\n",
      "Please rate the accuracy of the response (1 to 5): 5\n",
      "\n",
      "--------------------------------------------------\n",
      "\n",
      "Ask a question (or type 'end' to finish): What are rootkits, and how do they allow attackers to maintain control over infected systems?\n"
     ]
    },
    {
     "name": "stderr",
     "output_type": "stream",
     "text": [
      "Setting `pad_token_id` to `eos_token_id`:None for open-end generation.\n"
     ]
    },
    {
     "name": "stdout",
     "output_type": "stream",
     "text": [
      "\n",
      "Response: \n",
      "<|system|>\n",
      "You are an assistant for question-answering tasks. Use the following pieces of retrieved context to answer the question. If you don't know the answer, say that you don't know. Do not provide links in responses and make responses structured\n",
      "\n",
      "[Document(metadata={'page': 1, 'source': '/content/drive/MyDrive/NLP_Project/malware.pdf'}, page_content='An Introduction to Malware Robin Sharp Spring 2007 Abstract These notes, intended for use in DTU course 02233 on Network Security, give a short introduction to the topic of malware. The most important types of malware are described, together with their basic principles of operation and dissemination, and defenses against malware are discussed. 1 Some Deﬁnitions Malware is a general term for all types of malicious software, which in the context of computer security means: Software which is used with the aim of attempting to breach a computer system’s security policy with respect to Conﬁdentiality, Integrity or Availability. The term software should here be understood in the broadest sense, as the malicious eﬀect may make use of executable code, interpreted code, scripts, macros etc. The computer system whose security policy is attempted breached is usually known as the target for the malware. We shall use the term the initiator of the malware to denote the subject who originally'), Document(metadata={'page': 19, 'source': '/content/drive/MyDrive/NLP_Project/Cybersecurity-Handbook-English-version.pdf'}, page_content='for vulnerable versions of software. Then, by executing the appropriate commands, they exploit the vulnerabilities and can gain access to the system. In many cases the breach occurs due to vulnerable applications that were installed without the business need to do so. • In recent years, due to the improvement of mitigation measures for malware detection and blocking, attackers use a new and more sophisticated technique, the so-called fileless attacks . The term derives from the fact that in this case the malicious code runs directly in memory and does not create an executable file saved in the hard drive, so in most cases the antivirus cannot detect the attack. Most of these attacks start with a phishing email that seeks to lure the victim to open the attached file or click the link contained in the mail message. In the latter case, the victim is usually redirected to a fake webpage which mimics the legitimate one and asks for credentials. In the former case, when the user opens the'), Document(metadata={'page': 33, 'source': '/content/drive/MyDrive/NLP_Project/Cybersecurity-Handbook-English-version.pdf'}, page_content='34 CYBERSECURITY HANDBOOK 7. MALWARE PROTECTION Implement technologies that detect and prevent the installation, execution, and transmission of malicious code on your network and information systems. Malware constitutes one of the top threats for network and information systems and the risks associated with its actions may vary: • Password theft, • Data theft, • Identification of additional targets within the network, • Unauthorized modification and encryption of data. Malicious code can infect systems in a variety of attack vectors, including email, malicious websites, and removable media (USB, external hard drives). Its propagation is based on vulnerabilities in the target systems but also on careless behavior of the end user, such as opening attachments and web links, installing software and inserting infected USB on PCs. For malware to be detected and removed, protection mechanisms must be applied to all input and output system points (workstations, web servers, mail servers, proxy')]\n",
      "\n",
      "</s>\n",
      "<|user|>\n",
      "What are rootkits, and how do they allow attackers to maintain control over infected systems?\n",
      "</s>\n",
      "<|assistant|>\n",
      "Rootkits are a type of malware that allows attackers to maintain control over infected systems by hiding their presence and activities from the system administrators and security software. They achieve this by manipulating the system's kernel, device drivers, and other low-level components to conceal their malicious activities. Rootkits can hide the presence of malware, making it difficult for security software to detect and remove it. They can also manipulate system logs, network traffic, and other data to cover their tracks and maintain control over the infected system. Additionally, rootkits can be used to disable security features, such as firewalls and intrusion detection systems, and to prevent system administrators from detecting the malware. Rootkits can be installed using various methods, including exploiting vulnerabilities in software, social engineering, and physical access to the system. Once installed, rootkits can maintain control over the infected system by continuously updating their malicious code and hiding their presence from security software.\n",
      "\n",
      "Cosine Similarity (Groundedness): 0.7204\n",
      "\n",
      "Speed: 11.8740 seconds\n",
      "\n",
      "Please rate the accuracy of the response (1 to 5): 4\n",
      "\n",
      "--------------------------------------------------\n",
      "\n",
      "Ask a question (or type 'end' to finish): How do botnets function, and what types of malicious activities can they be used for?\n"
     ]
    },
    {
     "name": "stderr",
     "output_type": "stream",
     "text": [
      "Setting `pad_token_id` to `eos_token_id`:None for open-end generation.\n"
     ]
    },
    {
     "name": "stdout",
     "output_type": "stream",
     "text": [
      "\n",
      "Response: \n",
      "<|system|>\n",
      "You are an assistant for question-answering tasks. Use the following pieces of retrieved context to answer the question. If you don't know the answer, say that you don't know. Do not provide links in responses and make responses structured\n",
      "\n",
      "[Document(metadata={'page': 12, 'source': '/content/drive/MyDrive/NLP_Project/malware.pdf'}, page_content='control a large number of computers, which is done by installing abackdoor in each of them. The individual computers in the botnet then technically speaking become zombies since they are under remote control, but ar e in this context usually referred to simply as bots. The bots can be given orders by a controller, often known as the botmas- ter, to perform various tasks, such as sending spam mail, adware, or spyware, performing DDoS attacks or just searching for further potential targets to be enrolled in the botnet. In many cases, the botmaster oﬀers such facilities as a service to anyone who is willing to pay for it. Botnets with large numbers of bots can obtain higher prices than smaller botnets. There have been press reports of some very large botnets, such as one with 1.5 million bots controlled from Holland, and one with 10 000 bots in Norway; both of these were closed by the police. A good technical review of botnets and their method of operation can be found in reference [2].'), Document(metadata={'page': 12, 'source': '/content/drive/MyDrive/NLP_Project/malware.pdf'}, page_content='into a server thread via a buﬀer overﬂow event caused by the HTTP command shown here. Either of the transmission and activation steps may of course be unsuccessful. For example, with an e-mail worm, the e-mail containing the worm may be refused by the destination mail server (failure of the sending step), or the user may refuse to activate the attachment which will execute the worm code (failure of the execution step). Similarly, the CodeRed worm may successfully reach a Web server which does not have the vulnerability on which it depends for being executed on the target. And so on. 5B o t n e t s Botnets illustrate the specialised use of a worm or Trojan horse to set up a private com- munication infrastructure which can be used for malicious purposes. The aim of the actual botnet is to control a large number of computers, which is done by installing abackdoor in each of them. The individual computers in the botnet then technically speaking become zombies since they are under remote'), Document(metadata={'page': 13, 'source': '/content/drive/MyDrive/NLP_Project/malware.pdf'}, page_content='Regardless of how the bot code is spread, thecomputers which it reaches almost always have to sign up with a master server, after which they can be given orders. This means that the activities associated with a botnet typically fall into four phases: 1. Searching: Search to ﬁnd target hosts which look suitable for attack, typically be- cause they appear to have a known vulnerability or easily obtainable e-mail addresses which can be attacked by an e-mail worm or Trojan horse. 2. Installation: The backdoor code is propagated to the targets, where an attempt is made to install the code or persuade the user to do so, so that the targets become bots. 3. Sign-on: The bots connect to the master server and become ready to receive Com- mand and Control (C&C) traﬃc. 4. C&C: The bots receive commands from the master server and generate traﬃc di- rected towards further targets. This is illustrated in Figure 8. Each of these pha ses generates characteristic patterns of Bot Master server Proxy')]\n",
      "\n",
      "</s>\n",
      "<|user|>\n",
      "How do botnets function, and what types of malicious activities can they be used for?\n",
      "</s>\n",
      "<|assistant|>\n",
      "Botnets function by installing backdoors in a large number of computers, which are then controlled remotely by a master server. The individual computers, or \"bots,\" are technically zombies but are usually referred to as such in this context. The bots can be given orders by the controller, or botmaster, to perform various tasks such as sending spam, adware, or spyware, performing DDoS attacks, or searching for further potential targets. Botnets with large numbers of bots can command higher prices than smaller ones. They can be used for various malicious activities, including sending spam, spreading malware, performing DDoS attacks, and other types of cyber attacks. In some cases, botnets can be used to conduct distributed denial-of-service (DDoS) attacks, which can be used to disrupt websites or other online services. Additionally, botnets can be used to spread malware, such as viruses, Trojans, or spyware, which can compromise the security of infected computers. Botnets can also be used to conduct phishing attacks, which involve sending fake emails or messages to trick users into revealing sensitive information. Overall, botnets are a significant threat to computer security and can be used for a wide range of malicious activities.\n",
      "\n",
      "Cosine Similarity (Groundedness): 0.7369\n",
      "\n",
      "Speed: 15.2509 seconds\n",
      "\n",
      "Please rate the accuracy of the response (1 to 5): 3\n",
      "\n",
      "--------------------------------------------------\n",
      "\n",
      "Ask a question (or type 'end' to finish): What are the risks associated with using default credentials, and how can they be mitigated?\n"
     ]
    },
    {
     "name": "stderr",
     "output_type": "stream",
     "text": [
      "Setting `pad_token_id` to `eos_token_id`:None for open-end generation.\n"
     ]
    },
    {
     "name": "stdout",
     "output_type": "stream",
     "text": [
      "\n",
      "Response: \n",
      "<|system|>\n",
      "You are an assistant for question-answering tasks. Use the following pieces of retrieved context to answer the question. If you don't know the answer, say that you don't know. Do not provide links in responses and make responses structured\n",
      "\n",
      "[Document(metadata={'page': 22, 'source': '/content/drive/MyDrive/NLP_Project/Cybersecurity-Handbook-English-version.pdf'}, page_content=\"at a minimum, contains the person's name, username, start/stop date, privileges and the employee's department. ► 4.4 Ensure that users who perform exclusively non- administrative tasks of daily routine (e.g. use of Word, Excel, Adobe Reader, reading and sending e-mails, web browsing, etc.) are granted only a non-privileged account. WHAT ARE THE RISKS?\"), Document(metadata={'page': 36, 'source': '/content/drive/MyDrive/NLP_Project/Cybersecurity-Handbook-English-version.pdf'}, page_content='to files and server processes, • unsuccessful file execution attempts, • special privileges usage and usage attempts, • system files usage, • changes in user accounts and in the security policy, • HTTP(S) and DNS requests, • data transfer to and from portable storage media. WHAT ARE THE RISKS?'), Document(metadata={'page': 18, 'source': '/content/drive/MyDrive/NLP_Project/Cybersecurity-Handbook-English-version.pdf'}, page_content='available. This fact points out the risk organizations will face if they do not modify the default credentials of every router during the first installation. This measure applies to every asset that contains default credentials. 6 Center for Internet Security Benchmarks: https://www.cisecurity.org/cis-benchmarks/. Figure 3 Default username and password pairs of all routers posted online Source: https://www.routerpasswords.com/')]\n",
      "\n",
      "</s>\n",
      "<|user|>\n",
      "What are the risks associated with using default credentials, and how can they be mitigated?\n",
      "</s>\n",
      "<|assistant|>\n",
      "The risks associated with using default credentials include the potential for unauthorized access to systems and data, as well as the risk of data breaches and cyber attacks. Organizations can mitigate these risks by modifying the default credentials of every asset that contains default credentials, such as routers, during the first installation. This measure is recommended by the Center for Internet Security Benchmarks. Additionally, it is recommended to ensure that users who perform non-administrative tasks only have non-privileged accounts, which can help prevent unauthorized access to systems and data. This can be done by granting only a non-privileged account to users who perform exclusively non-administrative tasks, such as using word processing software, web browsing, and sending emails. By taking these measures, organizations can reduce the risk of cyber attacks and data breaches.\n",
      "\n",
      "Cosine Similarity (Groundedness): 0.4874\n",
      "\n",
      "Speed: 9.2568 seconds\n",
      "\n",
      "Please rate the accuracy of the response (1 to 5): 4\n",
      "\n",
      "--------------------------------------------------\n",
      "\n",
      "Ask a question (or type 'end' to finish): end\n",
      "\n",
      "Final Evaluation\n",
      "Average Accuracy (%)Average GroundednessAverage Speed (seconds)\n",
      "73.75               71.30               11.22\n"
     ]
    }
   ],
   "source": [
    "import time\n",
    "from sklearn.metrics.pairwise import cosine_similarity\n",
    "from sklearn.feature_extraction.text import TfidfVectorizer\n",
    "\n",
    "# Global lists to store data (accuracy, groundedness, speed)\n",
    "accuracy_list = []\n",
    "groundedness_list = []\n",
    "speed_list = []\n",
    "\n",
    "# Function to calculate cosine similarity (groundedness)\n",
    "def calculate_similarity(response, retrieved_docs):\n",
    "    context = [doc.page_content for doc in retrieved_docs]\n",
    "    context.append(response)  # Add the response to the context for comparison\n",
    "\n",
    "    # Vectorize the context and response using TF-IDF\n",
    "    vectorizer = TfidfVectorizer()\n",
    "    vectors = vectorizer.fit_transform(context)\n",
    "\n",
    "    # Calculate cosine similarity between the response and the context\n",
    "    similarity_score = cosine_similarity(vectors[-1], vectors[:-1])  # Compare the response with the context\n",
    "    return similarity_score.flatten()\n",
    "\n",
    "# Function to ask a question, generate a response, and record data\n",
    "def ask_question(question):\n",
    "    global accuracy_list, groundedness_list, speed_list\n",
    "\n",
    "    # Start timer for response generation\n",
    "    start_time = time.time()\n",
    "\n",
    "    # Generate the response using the RAG chain (you should replace this with actual invocation)\n",
    "    response = rag_chain.invoke(question)\n",
    "\n",
    "    # Stop timer after response is generated\n",
    "    end_time = time.time()\n",
    "    response_time = end_time - start_time\n",
    "    speed_list.append(response_time)  # Store the speed\n",
    "\n",
    "    # Calculate cosine similarity for groundedness\n",
    "    retrieved_docs = retriever.invoke(question)  # Get retrieved documents (this may be adjusted based on your setup)\n",
    "    similarity_scores = calculate_similarity(response, retrieved_docs)\n",
    "    avg_similarity = similarity_scores.mean() if similarity_scores.size > 0 else 0  # Handle array correctly\n",
    "    groundedness_list.append(avg_similarity)  # Store groundedness score\n",
    "\n",
    "    # Display the response and similarity with nice formatting\n",
    "    print(f\"\\nResponse: {response}\")\n",
    "    print(f\"\\nCosine Similarity (Groundedness): {avg_similarity:.4f}\")\n",
    "    print(f\"\\nSpeed: {response_time:.4f} seconds\")\n",
    "\n",
    "    # Ask for accuracy rating\n",
    "    accuracy = int(input(\"\\nPlease rate the accuracy of the response (1 to 5): \"))\n",
    "    accuracy_list.append(accuracy)\n",
    "\n",
    "    # Add separator for next question\n",
    "    print(\"\\n\" + \"-\"*50)\n",
    "\n",
    "# Function to calculate average accuracy, groundedness, and speed\n",
    "def calculate_metrics():\n",
    "    avg_accuracy = sum(accuracy_list) / len(accuracy_list) if accuracy_list else 0\n",
    "    avg_groundedness = sum(groundedness_list) / len(groundedness_list) if groundedness_list else 0\n",
    "    avg_speed = sum(speed_list) / len(speed_list) if speed_list else 0\n",
    "\n",
    "    # Print the results in a table format\n",
    "    print(\"\\nFinal Evaluation\")\n",
    "    print(f\"{'Average Accuracy (%)':<20}{'Average Groundedness':<20}{'Average Speed (seconds)'}\")\n",
    "    print(f\"{avg_accuracy*20:<20.2f}{avg_groundedness*100:<20.2f}{avg_speed:.2f}\")\n",
    "\n",
    "# Ask questions in a loop\n",
    "def start_session():\n",
    "    print(\"Welcome to the Question-Answer Evaluation Session!\")\n",
    "    print(\"Please ask a question, and rate the response based on accuracy. Type 'end' to finish.\")\n",
    "\n",
    "    while True:\n",
    "        question = input(\"\\nAsk a question (or type 'end' to finish): \")\n",
    "        if question.lower() == 'end':\n",
    "            break\n",
    "        ask_question(question)\n",
    "\n",
    "    # After all questions, print the summary\n",
    "    calculate_metrics()\n",
    "\n",
    "# Start the session\n",
    "start_session()\n"
   ]
  }
 ],
 "metadata": {
  "accelerator": "GPU",
  "colab": {
   "gpuType": "T4",
   "provenance": []
  },
  "kernelspec": {
   "display_name": "Python 3",
   "language": "python",
   "name": "python3"
  },
  "language_info": {
   "codemirror_mode": {
    "name": "ipython",
    "version": 3
   },
   "file_extension": ".py",
   "mimetype": "text/x-python",
   "name": "python",
   "nbconvert_exporter": "python",
   "pygments_lexer": "ipython3",
   "version": "3.8.5"
  }
 },
 "nbformat": 4,
 "nbformat_minor": 1
}
